{
 "cells": [
  {
   "cell_type": "code",
   "execution_count": 2,
   "id": "c8076f94",
   "metadata": {},
   "outputs": [],
   "source": [
    "import numpy as np\n",
    "import pandas as pd"
   ]
  },
  {
   "cell_type": "code",
   "execution_count": 2,
   "id": "7a3f8c83",
   "metadata": {},
   "outputs": [],
   "source": [
    "# age list\n",
    "state=['Lagos','Delta','Kaduna']"
   ]
  },
  {
   "cell_type": "code",
   "execution_count": 3,
   "id": "c90e1b7a",
   "metadata": {},
   "outputs": [],
   "source": [
    "# state list\n",
    "stat_dict={\n",
    "'Lagos':\"Ikeja\",\n",
    "\"Delta\":\"Asaba\",\n",
    "\"Kaduna\":\"Kadunda\"\n",
    "}"
   ]
  },
  {
   "cell_type": "code",
   "execution_count": 4,
   "id": "7a0e9d80",
   "metadata": {},
   "outputs": [],
   "source": [
    "age=[40,17,18,35,25]\n",
    "ser1=pd.Series(age)\n",
    "ser2=pd.Series(state)\n",
    "ser3=pd.Series(stat_dict)"
   ]
  },
  {
   "cell_type": "code",
   "execution_count": 5,
   "id": "c6f309b7",
   "metadata": {},
   "outputs": [
    {
     "data": {
      "text/plain": [
       "0     Lagos\n",
       "1     Delta\n",
       "2    Kaduna\n",
       "dtype: object"
      ]
     },
     "execution_count": 5,
     "metadata": {},
     "output_type": "execute_result"
    }
   ],
   "source": [
    "ser2"
   ]
  },
  {
   "cell_type": "code",
   "execution_count": 6,
   "id": "f6a94d3c",
   "metadata": {},
   "outputs": [
    {
     "data": {
      "text/plain": [
       "Lagos       Ikeja\n",
       "Delta       Asaba\n",
       "Kaduna    Kadunda\n",
       "dtype: object"
      ]
     },
     "execution_count": 6,
     "metadata": {},
     "output_type": "execute_result"
    }
   ],
   "source": [
    "ser3"
   ]
  },
  {
   "cell_type": "code",
   "execution_count": 7,
   "id": "7057c0b4",
   "metadata": {},
   "outputs": [
    {
     "data": {
      "text/plain": [
       "0    40\n",
       "1    17\n",
       "2    18\n",
       "3    35\n",
       "4    25\n",
       "dtype: int64"
      ]
     },
     "execution_count": 7,
     "metadata": {},
     "output_type": "execute_result"
    }
   ],
   "source": [
    "ser1"
   ]
  },
  {
   "cell_type": "code",
   "execution_count": 8,
   "id": "eaa04e45",
   "metadata": {},
   "outputs": [],
   "source": [
    "# Mapping"
   ]
  },
  {
   "cell_type": "code",
   "execution_count": 9,
   "id": "80fbdfe9",
   "metadata": {},
   "outputs": [
    {
     "data": {
      "text/plain": [
       "0      Ikeja\n",
       "1      Asaba\n",
       "2    Kadunda\n",
       "dtype: object"
      ]
     },
     "execution_count": 9,
     "metadata": {},
     "output_type": "execute_result"
    }
   ],
   "source": [
    "ser2.map(ser3)"
   ]
  },
  {
   "cell_type": "code",
   "execution_count": 15,
   "id": "fc634f62",
   "metadata": {},
   "outputs": [],
   "source": [
    "country=[\"Nigeria\",\"India\",\"America\",\"Ivory Coast\"]\n"
   ]
  },
  {
   "cell_type": "code",
   "execution_count": 30,
   "id": "7fcfc6aa",
   "metadata": {},
   "outputs": [],
   "source": [
    "capital={\"Nigeria\":\"Abuja\",\"India\":\"New Delhi\",\"America\":\"New York\",\"Ivory Coast\":\"Abidjan\"}"
   ]
  },
  {
   "cell_type": "code",
   "execution_count": 31,
   "id": "b3569bfb",
   "metadata": {},
   "outputs": [
    {
     "data": {
      "text/plain": [
       "{'Nigeria': 'Abuja',\n",
       " 'India': 'New Delhi',\n",
       " 'America': 'New York',\n",
       " 'Ivory Coast': 'Abidjan'}"
      ]
     },
     "execution_count": 31,
     "metadata": {},
     "output_type": "execute_result"
    }
   ],
   "source": [
    "capital"
   ]
  },
  {
   "cell_type": "code",
   "execution_count": 32,
   "id": "1a73878a",
   "metadata": {},
   "outputs": [],
   "source": [
    "country=pd.Series(country)\n",
    "capital=pd.Series(capital)"
   ]
  },
  {
   "cell_type": "code",
   "execution_count": 33,
   "id": "e9eeb3f4",
   "metadata": {},
   "outputs": [
    {
     "data": {
      "text/plain": [
       "0        Nigeria\n",
       "1          India\n",
       "2        America\n",
       "3    Ivory Coast\n",
       "dtype: object"
      ]
     },
     "execution_count": 33,
     "metadata": {},
     "output_type": "execute_result"
    }
   ],
   "source": [
    "country"
   ]
  },
  {
   "cell_type": "code",
   "execution_count": 34,
   "id": "862bbc1f",
   "metadata": {},
   "outputs": [
    {
     "data": {
      "text/plain": [
       "Nigeria            Abuja\n",
       "India          New Delhi\n",
       "America         New York\n",
       "Ivory Coast      Abidjan\n",
       "dtype: object"
      ]
     },
     "execution_count": 34,
     "metadata": {},
     "output_type": "execute_result"
    }
   ],
   "source": [
    "capital"
   ]
  },
  {
   "cell_type": "code",
   "execution_count": 35,
   "id": "994c7a25",
   "metadata": {},
   "outputs": [
    {
     "data": {
      "text/plain": [
       "0        Abuja\n",
       "1    New Delhi\n",
       "2     New York\n",
       "3      Abidjan\n",
       "dtype: object"
      ]
     },
     "execution_count": 35,
     "metadata": {},
     "output_type": "execute_result"
    }
   ],
   "source": [
    "country.map(capital)"
   ]
  },
  {
   "cell_type": "code",
   "execution_count": null,
   "id": "e3b80de0",
   "metadata": {},
   "outputs": [],
   "source": [
    "# Using the lambda anonymous function"
   ]
  },
  {
   "cell_type": "code",
   "execution_count": 38,
   "id": "7331f8a1",
   "metadata": {},
   "outputs": [
    {
     "data": {
      "text/plain": [
       "0    41\n",
       "1    18\n",
       "2    19\n",
       "3    36\n",
       "4    26\n",
       "dtype: int64"
      ]
     },
     "execution_count": 38,
     "metadata": {},
     "output_type": "execute_result"
    }
   ],
   "source": [
    "ser1.map(lambda x:x+1)"
   ]
  },
  {
   "cell_type": "code",
   "execution_count": 39,
   "id": "89809c8a",
   "metadata": {},
   "outputs": [],
   "source": [
    "#Taking a look at the apply method\n",
    "# Using an anonymous function that calculate and groups the function \n",
    "# into a class"
   ]
  },
  {
   "cell_type": "code",
   "execution_count": 40,
   "id": "dedd82f7",
   "metadata": {},
   "outputs": [],
   "source": [
    "def age_classify(age):\n",
    "    if age<18:\n",
    "        return \"Teenagers\"\n",
    "    else:\n",
    "        return \"Adult\" "
   ]
  },
  {
   "cell_type": "code",
   "execution_count": 41,
   "id": "2d5ca544",
   "metadata": {},
   "outputs": [
    {
     "name": "stdout",
     "output_type": "stream",
     "text": [
      "Teenagers\n"
     ]
    }
   ],
   "source": [
    "print(age_classify(14))"
   ]
  },
  {
   "cell_type": "code",
   "execution_count": 42,
   "id": "922203dd",
   "metadata": {},
   "outputs": [
    {
     "name": "stdout",
     "output_type": "stream",
     "text": [
      "Adult\n"
     ]
    }
   ],
   "source": [
    "print(age_classify(25))"
   ]
  },
  {
   "cell_type": "code",
   "execution_count": 43,
   "id": "d1724ee0",
   "metadata": {},
   "outputs": [
    {
     "data": {
      "text/plain": [
       "0        Adult\n",
       "1    Teenagers\n",
       "2        Adult\n",
       "3        Adult\n",
       "4        Adult\n",
       "dtype: object"
      ]
     },
     "execution_count": 43,
     "metadata": {},
     "output_type": "execute_result"
    }
   ],
   "source": [
    "'''Now using the apply()'''\n",
    "ser1.apply(age_classify)"
   ]
  },
  {
   "cell_type": "code",
   "execution_count": 44,
   "id": "58f3d39a",
   "metadata": {},
   "outputs": [
    {
     "data": {
      "text/plain": [
       "0    41\n",
       "1    18\n",
       "2    19\n",
       "3    36\n",
       "4    26\n",
       "dtype: int64"
      ]
     },
     "execution_count": 44,
     "metadata": {},
     "output_type": "execute_result"
    }
   ],
   "source": [
    "ser1.apply(lambda x:x+1)"
   ]
  },
  {
   "cell_type": "code",
   "execution_count": 3,
   "id": "9789a4ca",
   "metadata": {},
   "outputs": [],
   "source": [
    "array=np.array([[1,2,3],[4,5,6]])"
   ]
  },
  {
   "cell_type": "code",
   "execution_count": 4,
   "id": "3c788d79",
   "metadata": {},
   "outputs": [
    {
     "data": {
      "text/plain": [
       "array([[1, 2, 3],\n",
       "       [4, 5, 6]])"
      ]
     },
     "execution_count": 4,
     "metadata": {},
     "output_type": "execute_result"
    }
   ],
   "source": [
    "array"
   ]
  },
  {
   "cell_type": "code",
   "execution_count": 5,
   "id": "87fcc5cb",
   "metadata": {},
   "outputs": [
    {
     "data": {
      "text/html": [
       "<div>\n",
       "<style scoped>\n",
       "    .dataframe tbody tr th:only-of-type {\n",
       "        vertical-align: middle;\n",
       "    }\n",
       "\n",
       "    .dataframe tbody tr th {\n",
       "        vertical-align: top;\n",
       "    }\n",
       "\n",
       "    .dataframe thead th {\n",
       "        text-align: right;\n",
       "    }\n",
       "</style>\n",
       "<table border=\"1\" class=\"dataframe\">\n",
       "  <thead>\n",
       "    <tr style=\"text-align: right;\">\n",
       "      <th></th>\n",
       "      <th>a</th>\n",
       "      <th>b</th>\n",
       "      <th>c</th>\n",
       "    </tr>\n",
       "  </thead>\n",
       "  <tbody>\n",
       "    <tr>\n",
       "      <th>0</th>\n",
       "      <td>1</td>\n",
       "      <td>2</td>\n",
       "      <td>3</td>\n",
       "    </tr>\n",
       "    <tr>\n",
       "      <th>1</th>\n",
       "      <td>4</td>\n",
       "      <td>5</td>\n",
       "      <td>6</td>\n",
       "    </tr>\n",
       "  </tbody>\n",
       "</table>\n",
       "</div>"
      ],
      "text/plain": [
       "   a  b  c\n",
       "0  1  2  3\n",
       "1  4  5  6"
      ]
     },
     "execution_count": 5,
     "metadata": {},
     "output_type": "execute_result"
    }
   ],
   "source": [
    "pd.DataFrame(array,columns=['a','b','c'])"
   ]
  },
  {
   "cell_type": "code",
   "execution_count": 7,
   "id": "e13f448e",
   "metadata": {},
   "outputs": [],
   "source": [
    "# creating dataframe from a list\n",
    "a_list=[{'a':1,'b':2,'c':3},\n",
    "       {'a':4,'b':5,'c':6}]"
   ]
  },
  {
   "cell_type": "code",
   "execution_count": 9,
   "id": "e44a62b1",
   "metadata": {},
   "outputs": [
    {
     "data": {
      "text/html": [
       "<div>\n",
       "<style scoped>\n",
       "    .dataframe tbody tr th:only-of-type {\n",
       "        vertical-align: middle;\n",
       "    }\n",
       "\n",
       "    .dataframe tbody tr th {\n",
       "        vertical-align: top;\n",
       "    }\n",
       "\n",
       "    .dataframe thead th {\n",
       "        text-align: right;\n",
       "    }\n",
       "</style>\n",
       "<table border=\"1\" class=\"dataframe\">\n",
       "  <thead>\n",
       "    <tr style=\"text-align: right;\">\n",
       "      <th></th>\n",
       "      <th>a</th>\n",
       "      <th>b</th>\n",
       "      <th>c</th>\n",
       "    </tr>\n",
       "  </thead>\n",
       "  <tbody>\n",
       "    <tr>\n",
       "      <th>0</th>\n",
       "      <td>1</td>\n",
       "      <td>2</td>\n",
       "      <td>3</td>\n",
       "    </tr>\n",
       "    <tr>\n",
       "      <th>1</th>\n",
       "      <td>4</td>\n",
       "      <td>5</td>\n",
       "      <td>6</td>\n",
       "    </tr>\n",
       "  </tbody>\n",
       "</table>\n",
       "</div>"
      ],
      "text/plain": [
       "   a  b  c\n",
       "0  1  2  3\n",
       "1  4  5  6"
      ]
     },
     "execution_count": 9,
     "metadata": {},
     "output_type": "execute_result"
    }
   ],
   "source": [
    "pd.DataFrame(a_list)"
   ]
  },
  {
   "cell_type": "code",
   "execution_count": 10,
   "id": "ed0a7106",
   "metadata": {},
   "outputs": [],
   "source": [
    "a_list=[{'a':1,'b':2,},\n",
    "       {'a':4,'b':5,'c':6}]"
   ]
  },
  {
   "cell_type": "code",
   "execution_count": 11,
   "id": "39bf33e0",
   "metadata": {},
   "outputs": [
    {
     "data": {
      "text/html": [
       "<div>\n",
       "<style scoped>\n",
       "    .dataframe tbody tr th:only-of-type {\n",
       "        vertical-align: middle;\n",
       "    }\n",
       "\n",
       "    .dataframe tbody tr th {\n",
       "        vertical-align: top;\n",
       "    }\n",
       "\n",
       "    .dataframe thead th {\n",
       "        text-align: right;\n",
       "    }\n",
       "</style>\n",
       "<table border=\"1\" class=\"dataframe\">\n",
       "  <thead>\n",
       "    <tr style=\"text-align: right;\">\n",
       "      <th></th>\n",
       "      <th>a</th>\n",
       "      <th>b</th>\n",
       "      <th>c</th>\n",
       "    </tr>\n",
       "  </thead>\n",
       "  <tbody>\n",
       "    <tr>\n",
       "      <th>0</th>\n",
       "      <td>1</td>\n",
       "      <td>2</td>\n",
       "      <td>NaN</td>\n",
       "    </tr>\n",
       "    <tr>\n",
       "      <th>1</th>\n",
       "      <td>4</td>\n",
       "      <td>5</td>\n",
       "      <td>6.0</td>\n",
       "    </tr>\n",
       "  </tbody>\n",
       "</table>\n",
       "</div>"
      ],
      "text/plain": [
       "   a  b    c\n",
       "0  1  2  NaN\n",
       "1  4  5  6.0"
      ]
     },
     "execution_count": 11,
     "metadata": {},
     "output_type": "execute_result"
    }
   ],
   "source": [
    "pd.DataFrame(a_list)"
   ]
  },
  {
   "cell_type": "code",
   "execution_count": 17,
   "id": "8f751a54",
   "metadata": {},
   "outputs": [],
   "source": [
    "df=pd.read_csv(\"students.csv\")"
   ]
  },
  {
   "cell_type": "code",
   "execution_count": 18,
   "id": "fae59af4",
   "metadata": {},
   "outputs": [
    {
     "data": {
      "text/html": [
       "<div>\n",
       "<style scoped>\n",
       "    .dataframe tbody tr th:only-of-type {\n",
       "        vertical-align: middle;\n",
       "    }\n",
       "\n",
       "    .dataframe tbody tr th {\n",
       "        vertical-align: top;\n",
       "    }\n",
       "\n",
       "    .dataframe thead th {\n",
       "        text-align: right;\n",
       "    }\n",
       "</style>\n",
       "<table border=\"1\" class=\"dataframe\">\n",
       "  <thead>\n",
       "    <tr style=\"text-align: right;\">\n",
       "      <th></th>\n",
       "      <th>name</th>\n",
       "      <th>age</th>\n",
       "      <th>sport</th>\n",
       "      <th>Biology_score</th>\n",
       "      <th>Maths_score</th>\n",
       "      <th>English_score</th>\n",
       "    </tr>\n",
       "  </thead>\n",
       "  <tbody>\n",
       "    <tr>\n",
       "      <th>0</th>\n",
       "      <td>Emmanuel Ayomide</td>\n",
       "      <td>27</td>\n",
       "      <td>Football</td>\n",
       "      <td>73.0</td>\n",
       "      <td>58.0</td>\n",
       "      <td>65.0</td>\n",
       "    </tr>\n",
       "    <tr>\n",
       "      <th>1</th>\n",
       "      <td>Ibrahim Musa</td>\n",
       "      <td>24</td>\n",
       "      <td>Football</td>\n",
       "      <td>92.0</td>\n",
       "      <td>56.0</td>\n",
       "      <td>80.0</td>\n",
       "    </tr>\n",
       "    <tr>\n",
       "      <th>2</th>\n",
       "      <td>Sesan Obi</td>\n",
       "      <td>24</td>\n",
       "      <td>Swimming</td>\n",
       "      <td>67.0</td>\n",
       "      <td>95.0</td>\n",
       "      <td>71.0</td>\n",
       "    </tr>\n",
       "    <tr>\n",
       "      <th>3</th>\n",
       "      <td>Kevin Frank</td>\n",
       "      <td>25</td>\n",
       "      <td>Tennis</td>\n",
       "      <td>53.0</td>\n",
       "      <td>85.0</td>\n",
       "      <td>74.0</td>\n",
       "    </tr>\n",
       "    <tr>\n",
       "      <th>4</th>\n",
       "      <td>Emeka Jude</td>\n",
       "      <td>24</td>\n",
       "      <td>Basketball</td>\n",
       "      <td>86.0</td>\n",
       "      <td>80.0</td>\n",
       "      <td>93.0</td>\n",
       "    </tr>\n",
       "    <tr>\n",
       "      <th>5</th>\n",
       "      <td>Caroline Obi</td>\n",
       "      <td>27</td>\n",
       "      <td>Basketball</td>\n",
       "      <td>92.0</td>\n",
       "      <td>71.0</td>\n",
       "      <td>79.0</td>\n",
       "    </tr>\n",
       "    <tr>\n",
       "      <th>6</th>\n",
       "      <td>Franklin Oladele</td>\n",
       "      <td>18</td>\n",
       "      <td>Football</td>\n",
       "      <td>96.0</td>\n",
       "      <td>NaN</td>\n",
       "      <td>70.0</td>\n",
       "    </tr>\n",
       "    <tr>\n",
       "      <th>7</th>\n",
       "      <td>Kola Ola</td>\n",
       "      <td>28</td>\n",
       "      <td>Swimming</td>\n",
       "      <td>82.0</td>\n",
       "      <td>95.0</td>\n",
       "      <td>58.0</td>\n",
       "    </tr>\n",
       "    <tr>\n",
       "      <th>8</th>\n",
       "      <td>Emmanuel Ovi</td>\n",
       "      <td>23</td>\n",
       "      <td>Tennis</td>\n",
       "      <td>79.0</td>\n",
       "      <td>61.0</td>\n",
       "      <td>68.0</td>\n",
       "    </tr>\n",
       "    <tr>\n",
       "      <th>9</th>\n",
       "      <td>Kareem Musa</td>\n",
       "      <td>24</td>\n",
       "      <td>Football</td>\n",
       "      <td>78.0</td>\n",
       "      <td>73.0</td>\n",
       "      <td>86.0</td>\n",
       "    </tr>\n",
       "    <tr>\n",
       "      <th>10</th>\n",
       "      <td>Mustapha Ahmed</td>\n",
       "      <td>24</td>\n",
       "      <td>NaN</td>\n",
       "      <td>88.0</td>\n",
       "      <td>84.0</td>\n",
       "      <td>NaN</td>\n",
       "    </tr>\n",
       "    <tr>\n",
       "      <th>11</th>\n",
       "      <td>Femi Akin</td>\n",
       "      <td>24</td>\n",
       "      <td>Tennis</td>\n",
       "      <td>90.0</td>\n",
       "      <td>97.0</td>\n",
       "      <td>85.0</td>\n",
       "    </tr>\n",
       "    <tr>\n",
       "      <th>12</th>\n",
       "      <td>Tobi Olaniyan</td>\n",
       "      <td>22</td>\n",
       "      <td>Volleyball</td>\n",
       "      <td>51.0</td>\n",
       "      <td>79.0</td>\n",
       "      <td>84.0</td>\n",
       "    </tr>\n",
       "    <tr>\n",
       "      <th>13</th>\n",
       "      <td>Kayode Ibrahim</td>\n",
       "      <td>25</td>\n",
       "      <td>Football</td>\n",
       "      <td>58.0</td>\n",
       "      <td>67.0</td>\n",
       "      <td>84.0</td>\n",
       "    </tr>\n",
       "    <tr>\n",
       "      <th>14</th>\n",
       "      <td>Nnamdi Ike</td>\n",
       "      <td>26</td>\n",
       "      <td>Swimming</td>\n",
       "      <td>NaN</td>\n",
       "      <td>62.0</td>\n",
       "      <td>88.0</td>\n",
       "    </tr>\n",
       "    <tr>\n",
       "      <th>15</th>\n",
       "      <td>Ahmed Musa</td>\n",
       "      <td>24</td>\n",
       "      <td>Football</td>\n",
       "      <td>60.0</td>\n",
       "      <td>90.0</td>\n",
       "      <td>81.0</td>\n",
       "    </tr>\n",
       "    <tr>\n",
       "      <th>16</th>\n",
       "      <td>Kevin Frank</td>\n",
       "      <td>25</td>\n",
       "      <td>Tennis</td>\n",
       "      <td>53.0</td>\n",
       "      <td>85.0</td>\n",
       "      <td>74.0</td>\n",
       "    </tr>\n",
       "    <tr>\n",
       "      <th>17</th>\n",
       "      <td>Susan James</td>\n",
       "      <td>27</td>\n",
       "      <td>Volleyball</td>\n",
       "      <td>76.0</td>\n",
       "      <td>69.0</td>\n",
       "      <td>54.0</td>\n",
       "    </tr>\n",
       "    <tr>\n",
       "      <th>18</th>\n",
       "      <td>Zainab Mohammed</td>\n",
       "      <td>25</td>\n",
       "      <td>Basketball</td>\n",
       "      <td>64.0</td>\n",
       "      <td>95.0</td>\n",
       "      <td>94.0</td>\n",
       "    </tr>\n",
       "    <tr>\n",
       "      <th>19</th>\n",
       "      <td>Sesan Obi</td>\n",
       "      <td>26</td>\n",
       "      <td>Swimming</td>\n",
       "      <td>67.0</td>\n",
       "      <td>95.0</td>\n",
       "      <td>71.0</td>\n",
       "    </tr>\n",
       "  </tbody>\n",
       "</table>\n",
       "</div>"
      ],
      "text/plain": [
       "                name  age       sport  Biology_score  Maths_score  \\\n",
       "0   Emmanuel Ayomide   27    Football           73.0         58.0   \n",
       "1       Ibrahim Musa   24    Football           92.0         56.0   \n",
       "2          Sesan Obi   24    Swimming           67.0         95.0   \n",
       "3        Kevin Frank   25      Tennis           53.0         85.0   \n",
       "4         Emeka Jude   24  Basketball           86.0         80.0   \n",
       "5       Caroline Obi   27  Basketball           92.0         71.0   \n",
       "6   Franklin Oladele   18    Football           96.0          NaN   \n",
       "7           Kola Ola   28    Swimming           82.0         95.0   \n",
       "8       Emmanuel Ovi   23      Tennis           79.0         61.0   \n",
       "9        Kareem Musa   24    Football           78.0         73.0   \n",
       "10    Mustapha Ahmed   24         NaN           88.0         84.0   \n",
       "11         Femi Akin   24      Tennis           90.0         97.0   \n",
       "12     Tobi Olaniyan   22  Volleyball           51.0         79.0   \n",
       "13    Kayode Ibrahim   25    Football           58.0         67.0   \n",
       "14        Nnamdi Ike   26    Swimming            NaN         62.0   \n",
       "15        Ahmed Musa   24    Football           60.0         90.0   \n",
       "16       Kevin Frank   25      Tennis           53.0         85.0   \n",
       "17       Susan James   27  Volleyball           76.0         69.0   \n",
       "18   Zainab Mohammed   25  Basketball           64.0         95.0   \n",
       "19         Sesan Obi   26    Swimming           67.0         95.0   \n",
       "\n",
       "    English_score  \n",
       "0            65.0  \n",
       "1            80.0  \n",
       "2            71.0  \n",
       "3            74.0  \n",
       "4            93.0  \n",
       "5            79.0  \n",
       "6            70.0  \n",
       "7            58.0  \n",
       "8            68.0  \n",
       "9            86.0  \n",
       "10            NaN  \n",
       "11           85.0  \n",
       "12           84.0  \n",
       "13           84.0  \n",
       "14           88.0  \n",
       "15           81.0  \n",
       "16           74.0  \n",
       "17           54.0  \n",
       "18           94.0  \n",
       "19           71.0  "
      ]
     },
     "execution_count": 18,
     "metadata": {},
     "output_type": "execute_result"
    }
   ],
   "source": [
    "df"
   ]
  },
  {
   "cell_type": "code",
   "execution_count": 24,
   "id": "7067dbae",
   "metadata": {},
   "outputs": [
    {
     "data": {
      "text/html": [
       "<div>\n",
       "<style scoped>\n",
       "    .dataframe tbody tr th:only-of-type {\n",
       "        vertical-align: middle;\n",
       "    }\n",
       "\n",
       "    .dataframe tbody tr th {\n",
       "        vertical-align: top;\n",
       "    }\n",
       "\n",
       "    .dataframe thead th {\n",
       "        text-align: right;\n",
       "    }\n",
       "</style>\n",
       "<table border=\"1\" class=\"dataframe\">\n",
       "  <thead>\n",
       "    <tr style=\"text-align: right;\">\n",
       "      <th></th>\n",
       "      <th>name</th>\n",
       "      <th>age</th>\n",
       "      <th>sport</th>\n",
       "      <th>Biology_score</th>\n",
       "      <th>Maths_score</th>\n",
       "      <th>English_score</th>\n",
       "    </tr>\n",
       "  </thead>\n",
       "  <tbody>\n",
       "    <tr>\n",
       "      <th>0</th>\n",
       "      <td>Emmanuel Ayomide</td>\n",
       "      <td>27</td>\n",
       "      <td>Football</td>\n",
       "      <td>73.0</td>\n",
       "      <td>58.0</td>\n",
       "      <td>65.0</td>\n",
       "    </tr>\n",
       "    <tr>\n",
       "      <th>1</th>\n",
       "      <td>Ibrahim Musa</td>\n",
       "      <td>24</td>\n",
       "      <td>Football</td>\n",
       "      <td>92.0</td>\n",
       "      <td>56.0</td>\n",
       "      <td>80.0</td>\n",
       "    </tr>\n",
       "    <tr>\n",
       "      <th>2</th>\n",
       "      <td>Sesan Obi</td>\n",
       "      <td>24</td>\n",
       "      <td>Swimming</td>\n",
       "      <td>67.0</td>\n",
       "      <td>95.0</td>\n",
       "      <td>71.0</td>\n",
       "    </tr>\n",
       "    <tr>\n",
       "      <th>3</th>\n",
       "      <td>Kevin Frank</td>\n",
       "      <td>25</td>\n",
       "      <td>Tennis</td>\n",
       "      <td>53.0</td>\n",
       "      <td>85.0</td>\n",
       "      <td>74.0</td>\n",
       "    </tr>\n",
       "    <tr>\n",
       "      <th>4</th>\n",
       "      <td>Emeka Jude</td>\n",
       "      <td>24</td>\n",
       "      <td>Basketball</td>\n",
       "      <td>86.0</td>\n",
       "      <td>80.0</td>\n",
       "      <td>93.0</td>\n",
       "    </tr>\n",
       "  </tbody>\n",
       "</table>\n",
       "</div>"
      ],
      "text/plain": [
       "               name  age       sport  Biology_score  Maths_score  \\\n",
       "0  Emmanuel Ayomide   27    Football           73.0         58.0   \n",
       "1      Ibrahim Musa   24    Football           92.0         56.0   \n",
       "2         Sesan Obi   24    Swimming           67.0         95.0   \n",
       "3       Kevin Frank   25      Tennis           53.0         85.0   \n",
       "4        Emeka Jude   24  Basketball           86.0         80.0   \n",
       "\n",
       "   English_score  \n",
       "0           65.0  \n",
       "1           80.0  \n",
       "2           71.0  \n",
       "3           74.0  \n",
       "4           93.0  "
      ]
     },
     "execution_count": 24,
     "metadata": {},
     "output_type": "execute_result"
    }
   ],
   "source": [
    "df.head()"
   ]
  },
  {
   "cell_type": "code",
   "execution_count": 23,
   "id": "7f6008ff",
   "metadata": {},
   "outputs": [
    {
     "data": {
      "text/html": [
       "<div>\n",
       "<style scoped>\n",
       "    .dataframe tbody tr th:only-of-type {\n",
       "        vertical-align: middle;\n",
       "    }\n",
       "\n",
       "    .dataframe tbody tr th {\n",
       "        vertical-align: top;\n",
       "    }\n",
       "\n",
       "    .dataframe thead th {\n",
       "        text-align: right;\n",
       "    }\n",
       "</style>\n",
       "<table border=\"1\" class=\"dataframe\">\n",
       "  <thead>\n",
       "    <tr style=\"text-align: right;\">\n",
       "      <th></th>\n",
       "      <th>name</th>\n",
       "      <th>age</th>\n",
       "      <th>sport</th>\n",
       "      <th>Biology_score</th>\n",
       "      <th>Maths_score</th>\n",
       "      <th>English_score</th>\n",
       "    </tr>\n",
       "  </thead>\n",
       "  <tbody>\n",
       "    <tr>\n",
       "      <th>15</th>\n",
       "      <td>Ahmed Musa</td>\n",
       "      <td>24</td>\n",
       "      <td>Football</td>\n",
       "      <td>60.0</td>\n",
       "      <td>90.0</td>\n",
       "      <td>81.0</td>\n",
       "    </tr>\n",
       "    <tr>\n",
       "      <th>16</th>\n",
       "      <td>Kevin Frank</td>\n",
       "      <td>25</td>\n",
       "      <td>Tennis</td>\n",
       "      <td>53.0</td>\n",
       "      <td>85.0</td>\n",
       "      <td>74.0</td>\n",
       "    </tr>\n",
       "    <tr>\n",
       "      <th>17</th>\n",
       "      <td>Susan James</td>\n",
       "      <td>27</td>\n",
       "      <td>Volleyball</td>\n",
       "      <td>76.0</td>\n",
       "      <td>69.0</td>\n",
       "      <td>54.0</td>\n",
       "    </tr>\n",
       "    <tr>\n",
       "      <th>18</th>\n",
       "      <td>Zainab Mohammed</td>\n",
       "      <td>25</td>\n",
       "      <td>Basketball</td>\n",
       "      <td>64.0</td>\n",
       "      <td>95.0</td>\n",
       "      <td>94.0</td>\n",
       "    </tr>\n",
       "    <tr>\n",
       "      <th>19</th>\n",
       "      <td>Sesan Obi</td>\n",
       "      <td>26</td>\n",
       "      <td>Swimming</td>\n",
       "      <td>67.0</td>\n",
       "      <td>95.0</td>\n",
       "      <td>71.0</td>\n",
       "    </tr>\n",
       "  </tbody>\n",
       "</table>\n",
       "</div>"
      ],
      "text/plain": [
       "               name  age       sport  Biology_score  Maths_score  \\\n",
       "15       Ahmed Musa   24    Football           60.0         90.0   \n",
       "16      Kevin Frank   25      Tennis           53.0         85.0   \n",
       "17      Susan James   27  Volleyball           76.0         69.0   \n",
       "18  Zainab Mohammed   25  Basketball           64.0         95.0   \n",
       "19        Sesan Obi   26    Swimming           67.0         95.0   \n",
       "\n",
       "    English_score  \n",
       "15           81.0  \n",
       "16           74.0  \n",
       "17           54.0  \n",
       "18           94.0  \n",
       "19           71.0  "
      ]
     },
     "execution_count": 23,
     "metadata": {},
     "output_type": "execute_result"
    }
   ],
   "source": [
    "df.tail()"
   ]
  },
  {
   "cell_type": "code",
   "execution_count": 25,
   "id": "6481db29",
   "metadata": {},
   "outputs": [
    {
     "data": {
      "text/html": [
       "<div>\n",
       "<style scoped>\n",
       "    .dataframe tbody tr th:only-of-type {\n",
       "        vertical-align: middle;\n",
       "    }\n",
       "\n",
       "    .dataframe tbody tr th {\n",
       "        vertical-align: top;\n",
       "    }\n",
       "\n",
       "    .dataframe thead th {\n",
       "        text-align: right;\n",
       "    }\n",
       "</style>\n",
       "<table border=\"1\" class=\"dataframe\">\n",
       "  <thead>\n",
       "    <tr style=\"text-align: right;\">\n",
       "      <th></th>\n",
       "      <th>age</th>\n",
       "      <th>Biology_score</th>\n",
       "      <th>Maths_score</th>\n",
       "      <th>English_score</th>\n",
       "    </tr>\n",
       "  </thead>\n",
       "  <tbody>\n",
       "    <tr>\n",
       "      <th>count</th>\n",
       "      <td>20.000000</td>\n",
       "      <td>19.000000</td>\n",
       "      <td>19.000000</td>\n",
       "      <td>19.000000</td>\n",
       "    </tr>\n",
       "    <tr>\n",
       "      <th>mean</th>\n",
       "      <td>24.600000</td>\n",
       "      <td>73.947368</td>\n",
       "      <td>78.789474</td>\n",
       "      <td>76.789474</td>\n",
       "    </tr>\n",
       "    <tr>\n",
       "      <th>std</th>\n",
       "      <td>2.161871</td>\n",
       "      <td>14.717615</td>\n",
       "      <td>13.930697</td>\n",
       "      <td>11.033177</td>\n",
       "    </tr>\n",
       "    <tr>\n",
       "      <th>min</th>\n",
       "      <td>18.000000</td>\n",
       "      <td>51.000000</td>\n",
       "      <td>56.000000</td>\n",
       "      <td>54.000000</td>\n",
       "    </tr>\n",
       "    <tr>\n",
       "      <th>25%</th>\n",
       "      <td>24.000000</td>\n",
       "      <td>62.000000</td>\n",
       "      <td>68.000000</td>\n",
       "      <td>70.500000</td>\n",
       "    </tr>\n",
       "    <tr>\n",
       "      <th>50%</th>\n",
       "      <td>24.500000</td>\n",
       "      <td>76.000000</td>\n",
       "      <td>80.000000</td>\n",
       "      <td>79.000000</td>\n",
       "    </tr>\n",
       "    <tr>\n",
       "      <th>75%</th>\n",
       "      <td>26.000000</td>\n",
       "      <td>87.000000</td>\n",
       "      <td>92.500000</td>\n",
       "      <td>84.500000</td>\n",
       "    </tr>\n",
       "    <tr>\n",
       "      <th>max</th>\n",
       "      <td>28.000000</td>\n",
       "      <td>96.000000</td>\n",
       "      <td>97.000000</td>\n",
       "      <td>94.000000</td>\n",
       "    </tr>\n",
       "  </tbody>\n",
       "</table>\n",
       "</div>"
      ],
      "text/plain": [
       "             age  Biology_score  Maths_score  English_score\n",
       "count  20.000000      19.000000    19.000000      19.000000\n",
       "mean   24.600000      73.947368    78.789474      76.789474\n",
       "std     2.161871      14.717615    13.930697      11.033177\n",
       "min    18.000000      51.000000    56.000000      54.000000\n",
       "25%    24.000000      62.000000    68.000000      70.500000\n",
       "50%    24.500000      76.000000    80.000000      79.000000\n",
       "75%    26.000000      87.000000    92.500000      84.500000\n",
       "max    28.000000      96.000000    97.000000      94.000000"
      ]
     },
     "execution_count": 25,
     "metadata": {},
     "output_type": "execute_result"
    }
   ],
   "source": [
    "df.describe()"
   ]
  },
  {
   "cell_type": "code",
   "execution_count": 31,
   "id": "fd7350ea",
   "metadata": {},
   "outputs": [],
   "source": [
    "df_n=df[['age','Biology_score']]"
   ]
  },
  {
   "cell_type": "code",
   "execution_count": 32,
   "id": "297ceba1",
   "metadata": {},
   "outputs": [
    {
     "data": {
      "text/html": [
       "<div>\n",
       "<style scoped>\n",
       "    .dataframe tbody tr th:only-of-type {\n",
       "        vertical-align: middle;\n",
       "    }\n",
       "\n",
       "    .dataframe tbody tr th {\n",
       "        vertical-align: top;\n",
       "    }\n",
       "\n",
       "    .dataframe thead th {\n",
       "        text-align: right;\n",
       "    }\n",
       "</style>\n",
       "<table border=\"1\" class=\"dataframe\">\n",
       "  <thead>\n",
       "    <tr style=\"text-align: right;\">\n",
       "      <th></th>\n",
       "      <th>age</th>\n",
       "      <th>Biology_score</th>\n",
       "    </tr>\n",
       "  </thead>\n",
       "  <tbody>\n",
       "    <tr>\n",
       "      <th>0</th>\n",
       "      <td>27</td>\n",
       "      <td>73.0</td>\n",
       "    </tr>\n",
       "    <tr>\n",
       "      <th>1</th>\n",
       "      <td>24</td>\n",
       "      <td>92.0</td>\n",
       "    </tr>\n",
       "    <tr>\n",
       "      <th>2</th>\n",
       "      <td>24</td>\n",
       "      <td>67.0</td>\n",
       "    </tr>\n",
       "    <tr>\n",
       "      <th>3</th>\n",
       "      <td>25</td>\n",
       "      <td>53.0</td>\n",
       "    </tr>\n",
       "    <tr>\n",
       "      <th>4</th>\n",
       "      <td>24</td>\n",
       "      <td>86.0</td>\n",
       "    </tr>\n",
       "    <tr>\n",
       "      <th>5</th>\n",
       "      <td>27</td>\n",
       "      <td>92.0</td>\n",
       "    </tr>\n",
       "    <tr>\n",
       "      <th>6</th>\n",
       "      <td>18</td>\n",
       "      <td>96.0</td>\n",
       "    </tr>\n",
       "    <tr>\n",
       "      <th>7</th>\n",
       "      <td>28</td>\n",
       "      <td>82.0</td>\n",
       "    </tr>\n",
       "    <tr>\n",
       "      <th>8</th>\n",
       "      <td>23</td>\n",
       "      <td>79.0</td>\n",
       "    </tr>\n",
       "    <tr>\n",
       "      <th>9</th>\n",
       "      <td>24</td>\n",
       "      <td>78.0</td>\n",
       "    </tr>\n",
       "    <tr>\n",
       "      <th>10</th>\n",
       "      <td>24</td>\n",
       "      <td>88.0</td>\n",
       "    </tr>\n",
       "    <tr>\n",
       "      <th>11</th>\n",
       "      <td>24</td>\n",
       "      <td>90.0</td>\n",
       "    </tr>\n",
       "    <tr>\n",
       "      <th>12</th>\n",
       "      <td>22</td>\n",
       "      <td>51.0</td>\n",
       "    </tr>\n",
       "    <tr>\n",
       "      <th>13</th>\n",
       "      <td>25</td>\n",
       "      <td>58.0</td>\n",
       "    </tr>\n",
       "    <tr>\n",
       "      <th>14</th>\n",
       "      <td>26</td>\n",
       "      <td>NaN</td>\n",
       "    </tr>\n",
       "    <tr>\n",
       "      <th>15</th>\n",
       "      <td>24</td>\n",
       "      <td>60.0</td>\n",
       "    </tr>\n",
       "    <tr>\n",
       "      <th>16</th>\n",
       "      <td>25</td>\n",
       "      <td>53.0</td>\n",
       "    </tr>\n",
       "    <tr>\n",
       "      <th>17</th>\n",
       "      <td>27</td>\n",
       "      <td>76.0</td>\n",
       "    </tr>\n",
       "    <tr>\n",
       "      <th>18</th>\n",
       "      <td>25</td>\n",
       "      <td>64.0</td>\n",
       "    </tr>\n",
       "    <tr>\n",
       "      <th>19</th>\n",
       "      <td>26</td>\n",
       "      <td>67.0</td>\n",
       "    </tr>\n",
       "  </tbody>\n",
       "</table>\n",
       "</div>"
      ],
      "text/plain": [
       "    age  Biology_score\n",
       "0    27           73.0\n",
       "1    24           92.0\n",
       "2    24           67.0\n",
       "3    25           53.0\n",
       "4    24           86.0\n",
       "5    27           92.0\n",
       "6    18           96.0\n",
       "7    28           82.0\n",
       "8    23           79.0\n",
       "9    24           78.0\n",
       "10   24           88.0\n",
       "11   24           90.0\n",
       "12   22           51.0\n",
       "13   25           58.0\n",
       "14   26            NaN\n",
       "15   24           60.0\n",
       "16   25           53.0\n",
       "17   27           76.0\n",
       "18   25           64.0\n",
       "19   26           67.0"
      ]
     },
     "execution_count": 32,
     "metadata": {},
     "output_type": "execute_result"
    }
   ],
   "source": [
    "df_n"
   ]
  },
  {
   "cell_type": "code",
   "execution_count": 41,
   "id": "d9aa2506",
   "metadata": {},
   "outputs": [],
   "source": [
    "array=np.arange(15).reshape(5,3)"
   ]
  },
  {
   "cell_type": "code",
   "execution_count": 42,
   "id": "d63cf575",
   "metadata": {},
   "outputs": [
    {
     "data": {
      "text/plain": [
       "array([[ 0,  1,  2],\n",
       "       [ 3,  4,  5],\n",
       "       [ 6,  7,  8],\n",
       "       [ 9, 10, 11],\n",
       "       [12, 13, 14]])"
      ]
     },
     "execution_count": 42,
     "metadata": {},
     "output_type": "execute_result"
    }
   ],
   "source": [
    "array"
   ]
  },
  {
   "cell_type": "code",
   "execution_count": 43,
   "id": "8b815c10",
   "metadata": {},
   "outputs": [],
   "source": [
    "index=['A','B','C','D','E']\n",
    "columns=['col1','col2','col3']"
   ]
  },
  {
   "cell_type": "code",
   "execution_count": 44,
   "id": "36a3d0aa",
   "metadata": {},
   "outputs": [],
   "source": [
    "df=pd.DataFrame(array,index=index, columns=columns)"
   ]
  },
  {
   "cell_type": "code",
   "execution_count": 45,
   "id": "fa42613c",
   "metadata": {},
   "outputs": [
    {
     "data": {
      "text/html": [
       "<div>\n",
       "<style scoped>\n",
       "    .dataframe tbody tr th:only-of-type {\n",
       "        vertical-align: middle;\n",
       "    }\n",
       "\n",
       "    .dataframe tbody tr th {\n",
       "        vertical-align: top;\n",
       "    }\n",
       "\n",
       "    .dataframe thead th {\n",
       "        text-align: right;\n",
       "    }\n",
       "</style>\n",
       "<table border=\"1\" class=\"dataframe\">\n",
       "  <thead>\n",
       "    <tr style=\"text-align: right;\">\n",
       "      <th></th>\n",
       "      <th>col1</th>\n",
       "      <th>col2</th>\n",
       "      <th>col3</th>\n",
       "    </tr>\n",
       "  </thead>\n",
       "  <tbody>\n",
       "    <tr>\n",
       "      <th>A</th>\n",
       "      <td>0</td>\n",
       "      <td>1</td>\n",
       "      <td>2</td>\n",
       "    </tr>\n",
       "    <tr>\n",
       "      <th>B</th>\n",
       "      <td>3</td>\n",
       "      <td>4</td>\n",
       "      <td>5</td>\n",
       "    </tr>\n",
       "    <tr>\n",
       "      <th>C</th>\n",
       "      <td>6</td>\n",
       "      <td>7</td>\n",
       "      <td>8</td>\n",
       "    </tr>\n",
       "    <tr>\n",
       "      <th>D</th>\n",
       "      <td>9</td>\n",
       "      <td>10</td>\n",
       "      <td>11</td>\n",
       "    </tr>\n",
       "    <tr>\n",
       "      <th>E</th>\n",
       "      <td>12</td>\n",
       "      <td>13</td>\n",
       "      <td>14</td>\n",
       "    </tr>\n",
       "  </tbody>\n",
       "</table>\n",
       "</div>"
      ],
      "text/plain": [
       "   col1  col2  col3\n",
       "A     0     1     2\n",
       "B     3     4     5\n",
       "C     6     7     8\n",
       "D     9    10    11\n",
       "E    12    13    14"
      ]
     },
     "execution_count": 45,
     "metadata": {},
     "output_type": "execute_result"
    }
   ],
   "source": [
    "df"
   ]
  },
  {
   "cell_type": "code",
   "execution_count": 46,
   "id": "881411ba",
   "metadata": {},
   "outputs": [
    {
     "data": {
      "text/plain": [
       "Index(['A', 'B', 'C', 'D', 'E'], dtype='object')"
      ]
     },
     "execution_count": 46,
     "metadata": {},
     "output_type": "execute_result"
    }
   ],
   "source": [
    "df.index"
   ]
  },
  {
   "cell_type": "code",
   "execution_count": 47,
   "id": "942e6209",
   "metadata": {},
   "outputs": [
    {
     "data": {
      "text/plain": [
       "(5, 3)"
      ]
     },
     "execution_count": 47,
     "metadata": {},
     "output_type": "execute_result"
    }
   ],
   "source": [
    "df.shape"
   ]
  },
  {
   "cell_type": "code",
   "execution_count": 49,
   "id": "142c4716",
   "metadata": {},
   "outputs": [
    {
     "data": {
      "text/html": [
       "<div>\n",
       "<style scoped>\n",
       "    .dataframe tbody tr th:only-of-type {\n",
       "        vertical-align: middle;\n",
       "    }\n",
       "\n",
       "    .dataframe tbody tr th {\n",
       "        vertical-align: top;\n",
       "    }\n",
       "\n",
       "    .dataframe thead th {\n",
       "        text-align: right;\n",
       "    }\n",
       "</style>\n",
       "<table border=\"1\" class=\"dataframe\">\n",
       "  <thead>\n",
       "    <tr style=\"text-align: right;\">\n",
       "      <th></th>\n",
       "      <th>col1</th>\n",
       "      <th>col2</th>\n",
       "      <th>col3</th>\n",
       "    </tr>\n",
       "  </thead>\n",
       "  <tbody>\n",
       "    <tr>\n",
       "      <th>count</th>\n",
       "      <td>5.000000</td>\n",
       "      <td>5.000000</td>\n",
       "      <td>5.000000</td>\n",
       "    </tr>\n",
       "    <tr>\n",
       "      <th>mean</th>\n",
       "      <td>6.000000</td>\n",
       "      <td>7.000000</td>\n",
       "      <td>8.000000</td>\n",
       "    </tr>\n",
       "    <tr>\n",
       "      <th>std</th>\n",
       "      <td>4.743416</td>\n",
       "      <td>4.743416</td>\n",
       "      <td>4.743416</td>\n",
       "    </tr>\n",
       "    <tr>\n",
       "      <th>min</th>\n",
       "      <td>0.000000</td>\n",
       "      <td>1.000000</td>\n",
       "      <td>2.000000</td>\n",
       "    </tr>\n",
       "    <tr>\n",
       "      <th>25%</th>\n",
       "      <td>3.000000</td>\n",
       "      <td>4.000000</td>\n",
       "      <td>5.000000</td>\n",
       "    </tr>\n",
       "    <tr>\n",
       "      <th>50%</th>\n",
       "      <td>6.000000</td>\n",
       "      <td>7.000000</td>\n",
       "      <td>8.000000</td>\n",
       "    </tr>\n",
       "    <tr>\n",
       "      <th>75%</th>\n",
       "      <td>9.000000</td>\n",
       "      <td>10.000000</td>\n",
       "      <td>11.000000</td>\n",
       "    </tr>\n",
       "    <tr>\n",
       "      <th>max</th>\n",
       "      <td>12.000000</td>\n",
       "      <td>13.000000</td>\n",
       "      <td>14.000000</td>\n",
       "    </tr>\n",
       "  </tbody>\n",
       "</table>\n",
       "</div>"
      ],
      "text/plain": [
       "            col1       col2       col3\n",
       "count   5.000000   5.000000   5.000000\n",
       "mean    6.000000   7.000000   8.000000\n",
       "std     4.743416   4.743416   4.743416\n",
       "min     0.000000   1.000000   2.000000\n",
       "25%     3.000000   4.000000   5.000000\n",
       "50%     6.000000   7.000000   8.000000\n",
       "75%     9.000000  10.000000  11.000000\n",
       "max    12.000000  13.000000  14.000000"
      ]
     },
     "execution_count": 49,
     "metadata": {},
     "output_type": "execute_result"
    }
   ],
   "source": [
    "df.describe()"
   ]
  },
  {
   "cell_type": "code",
   "execution_count": 52,
   "id": "a018d592",
   "metadata": {},
   "outputs": [
    {
     "data": {
      "text/plain": [
       "col1    int32\n",
       "col2    int32\n",
       "col3    int32\n",
       "dtype: object"
      ]
     },
     "execution_count": 52,
     "metadata": {},
     "output_type": "execute_result"
    }
   ],
   "source": [
    "df.dtypes"
   ]
  },
  {
   "cell_type": "code",
   "execution_count": 53,
   "id": "d618f5b2",
   "metadata": {},
   "outputs": [
    {
     "data": {
      "text/plain": [
       "Index(['col1', 'col2', 'col3'], dtype='object')"
      ]
     },
     "execution_count": 53,
     "metadata": {},
     "output_type": "execute_result"
    }
   ],
   "source": [
    "df.columns"
   ]
  },
  {
   "cell_type": "code",
   "execution_count": 54,
   "id": "79fb280f",
   "metadata": {},
   "outputs": [
    {
     "data": {
      "text/plain": [
       "[Index(['A', 'B', 'C', 'D', 'E'], dtype='object'),\n",
       " Index(['col1', 'col2', 'col3'], dtype='object')]"
      ]
     },
     "execution_count": 54,
     "metadata": {},
     "output_type": "execute_result"
    }
   ],
   "source": [
    "df.axes"
   ]
  },
  {
   "cell_type": "code",
   "execution_count": 55,
   "id": "88619410",
   "metadata": {},
   "outputs": [
    {
     "data": {
      "text/html": [
       "<div>\n",
       "<style scoped>\n",
       "    .dataframe tbody tr th:only-of-type {\n",
       "        vertical-align: middle;\n",
       "    }\n",
       "\n",
       "    .dataframe tbody tr th {\n",
       "        vertical-align: top;\n",
       "    }\n",
       "\n",
       "    .dataframe thead th {\n",
       "        text-align: right;\n",
       "    }\n",
       "</style>\n",
       "<table border=\"1\" class=\"dataframe\">\n",
       "  <thead>\n",
       "    <tr style=\"text-align: right;\">\n",
       "      <th></th>\n",
       "      <th>col1</th>\n",
       "      <th>col2</th>\n",
       "      <th>col3</th>\n",
       "    </tr>\n",
       "  </thead>\n",
       "  <tbody>\n",
       "    <tr>\n",
       "      <th>A</th>\n",
       "      <td>0</td>\n",
       "      <td>1</td>\n",
       "      <td>2</td>\n",
       "    </tr>\n",
       "    <tr>\n",
       "      <th>B</th>\n",
       "      <td>3</td>\n",
       "      <td>4</td>\n",
       "      <td>5</td>\n",
       "    </tr>\n",
       "    <tr>\n",
       "      <th>C</th>\n",
       "      <td>6</td>\n",
       "      <td>7</td>\n",
       "      <td>8</td>\n",
       "    </tr>\n",
       "    <tr>\n",
       "      <th>D</th>\n",
       "      <td>9</td>\n",
       "      <td>10</td>\n",
       "      <td>11</td>\n",
       "    </tr>\n",
       "    <tr>\n",
       "      <th>E</th>\n",
       "      <td>12</td>\n",
       "      <td>13</td>\n",
       "      <td>14</td>\n",
       "    </tr>\n",
       "  </tbody>\n",
       "</table>\n",
       "</div>"
      ],
      "text/plain": [
       "   col1  col2  col3\n",
       "A     0     1     2\n",
       "B     3     4     5\n",
       "C     6     7     8\n",
       "D     9    10    11\n",
       "E    12    13    14"
      ]
     },
     "execution_count": 55,
     "metadata": {},
     "output_type": "execute_result"
    }
   ],
   "source": [
    "df.head()"
   ]
  },
  {
   "cell_type": "code",
   "execution_count": 57,
   "id": "7c0e24c7",
   "metadata": {},
   "outputs": [
    {
     "name": "stdout",
     "output_type": "stream",
     "text": [
      "<class 'pandas.core.frame.DataFrame'>\n",
      "Index: 5 entries, A to E\n",
      "Data columns (total 3 columns):\n",
      " #   Column  Non-Null Count  Dtype\n",
      "---  ------  --------------  -----\n",
      " 0   col1    5 non-null      int32\n",
      " 1   col2    5 non-null      int32\n",
      " 2   col3    5 non-null      int32\n",
      "dtypes: int32(3)\n",
      "memory usage: 100.0+ bytes\n"
     ]
    }
   ],
   "source": [
    "df.info()"
   ]
  },
  {
   "cell_type": "code",
   "execution_count": 58,
   "id": "ea50c36f",
   "metadata": {},
   "outputs": [],
   "source": [
    "df.reset_index(inplace=True)"
   ]
  },
  {
   "cell_type": "code",
   "execution_count": 59,
   "id": "25b15689",
   "metadata": {},
   "outputs": [
    {
     "data": {
      "text/html": [
       "<div>\n",
       "<style scoped>\n",
       "    .dataframe tbody tr th:only-of-type {\n",
       "        vertical-align: middle;\n",
       "    }\n",
       "\n",
       "    .dataframe tbody tr th {\n",
       "        vertical-align: top;\n",
       "    }\n",
       "\n",
       "    .dataframe thead th {\n",
       "        text-align: right;\n",
       "    }\n",
       "</style>\n",
       "<table border=\"1\" class=\"dataframe\">\n",
       "  <thead>\n",
       "    <tr style=\"text-align: right;\">\n",
       "      <th></th>\n",
       "      <th>index</th>\n",
       "      <th>col1</th>\n",
       "      <th>col2</th>\n",
       "      <th>col3</th>\n",
       "    </tr>\n",
       "  </thead>\n",
       "  <tbody>\n",
       "    <tr>\n",
       "      <th>0</th>\n",
       "      <td>A</td>\n",
       "      <td>0</td>\n",
       "      <td>1</td>\n",
       "      <td>2</td>\n",
       "    </tr>\n",
       "    <tr>\n",
       "      <th>1</th>\n",
       "      <td>B</td>\n",
       "      <td>3</td>\n",
       "      <td>4</td>\n",
       "      <td>5</td>\n",
       "    </tr>\n",
       "    <tr>\n",
       "      <th>2</th>\n",
       "      <td>C</td>\n",
       "      <td>6</td>\n",
       "      <td>7</td>\n",
       "      <td>8</td>\n",
       "    </tr>\n",
       "    <tr>\n",
       "      <th>3</th>\n",
       "      <td>D</td>\n",
       "      <td>9</td>\n",
       "      <td>10</td>\n",
       "      <td>11</td>\n",
       "    </tr>\n",
       "    <tr>\n",
       "      <th>4</th>\n",
       "      <td>E</td>\n",
       "      <td>12</td>\n",
       "      <td>13</td>\n",
       "      <td>14</td>\n",
       "    </tr>\n",
       "  </tbody>\n",
       "</table>\n",
       "</div>"
      ],
      "text/plain": [
       "  index  col1  col2  col3\n",
       "0     A     0     1     2\n",
       "1     B     3     4     5\n",
       "2     C     6     7     8\n",
       "3     D     9    10    11\n",
       "4     E    12    13    14"
      ]
     },
     "execution_count": 59,
     "metadata": {},
     "output_type": "execute_result"
    }
   ],
   "source": [
    "df"
   ]
  },
  {
   "cell_type": "code",
   "execution_count": 60,
   "id": "ef4b2eb8",
   "metadata": {},
   "outputs": [
    {
     "data": {
      "text/html": [
       "<div>\n",
       "<style scoped>\n",
       "    .dataframe tbody tr th:only-of-type {\n",
       "        vertical-align: middle;\n",
       "    }\n",
       "\n",
       "    .dataframe tbody tr th {\n",
       "        vertical-align: top;\n",
       "    }\n",
       "\n",
       "    .dataframe thead th {\n",
       "        text-align: right;\n",
       "    }\n",
       "</style>\n",
       "<table border=\"1\" class=\"dataframe\">\n",
       "  <thead>\n",
       "    <tr style=\"text-align: right;\">\n",
       "      <th></th>\n",
       "      <th>index</th>\n",
       "      <th>col1</th>\n",
       "      <th>col2</th>\n",
       "      <th>col3</th>\n",
       "    </tr>\n",
       "  </thead>\n",
       "  <tbody>\n",
       "    <tr>\n",
       "      <th>0</th>\n",
       "      <td>A</td>\n",
       "      <td>0</td>\n",
       "      <td>1</td>\n",
       "      <td>2</td>\n",
       "    </tr>\n",
       "    <tr>\n",
       "      <th>1</th>\n",
       "      <td>B</td>\n",
       "      <td>3</td>\n",
       "      <td>4</td>\n",
       "      <td>5</td>\n",
       "    </tr>\n",
       "    <tr>\n",
       "      <th>2</th>\n",
       "      <td>C</td>\n",
       "      <td>6</td>\n",
       "      <td>7</td>\n",
       "      <td>8</td>\n",
       "    </tr>\n",
       "    <tr>\n",
       "      <th>3</th>\n",
       "      <td>D</td>\n",
       "      <td>9</td>\n",
       "      <td>10</td>\n",
       "      <td>11</td>\n",
       "    </tr>\n",
       "    <tr>\n",
       "      <th>4</th>\n",
       "      <td>E</td>\n",
       "      <td>12</td>\n",
       "      <td>13</td>\n",
       "      <td>14</td>\n",
       "    </tr>\n",
       "  </tbody>\n",
       "</table>\n",
       "</div>"
      ],
      "text/plain": [
       "  index  col1  col2  col3\n",
       "0     A     0     1     2\n",
       "1     B     3     4     5\n",
       "2     C     6     7     8\n",
       "3     D     9    10    11\n",
       "4     E    12    13    14"
      ]
     },
     "execution_count": 60,
     "metadata": {},
     "output_type": "execute_result"
    }
   ],
   "source": []
  },
  {
   "cell_type": "code",
   "execution_count": 61,
   "id": "367b0601",
   "metadata": {},
   "outputs": [],
   "source": [
    "# How to select data by their index\n",
    "# iloc\n",
    "# loc"
   ]
  },
  {
   "cell_type": "code",
   "execution_count": 63,
   "id": "5b0a3248",
   "metadata": {},
   "outputs": [],
   "source": [
    "df=pd.read_csv('students.csv')"
   ]
  },
  {
   "cell_type": "code",
   "execution_count": 64,
   "id": "390f927c",
   "metadata": {},
   "outputs": [
    {
     "data": {
      "text/html": [
       "<div>\n",
       "<style scoped>\n",
       "    .dataframe tbody tr th:only-of-type {\n",
       "        vertical-align: middle;\n",
       "    }\n",
       "\n",
       "    .dataframe tbody tr th {\n",
       "        vertical-align: top;\n",
       "    }\n",
       "\n",
       "    .dataframe thead th {\n",
       "        text-align: right;\n",
       "    }\n",
       "</style>\n",
       "<table border=\"1\" class=\"dataframe\">\n",
       "  <thead>\n",
       "    <tr style=\"text-align: right;\">\n",
       "      <th></th>\n",
       "      <th>name</th>\n",
       "      <th>age</th>\n",
       "      <th>sport</th>\n",
       "      <th>Biology_score</th>\n",
       "      <th>Maths_score</th>\n",
       "      <th>English_score</th>\n",
       "    </tr>\n",
       "  </thead>\n",
       "  <tbody>\n",
       "    <tr>\n",
       "      <th>0</th>\n",
       "      <td>Emmanuel Ayomide</td>\n",
       "      <td>27</td>\n",
       "      <td>Football</td>\n",
       "      <td>73.0</td>\n",
       "      <td>58.0</td>\n",
       "      <td>65.0</td>\n",
       "    </tr>\n",
       "    <tr>\n",
       "      <th>1</th>\n",
       "      <td>Ibrahim Musa</td>\n",
       "      <td>24</td>\n",
       "      <td>Football</td>\n",
       "      <td>92.0</td>\n",
       "      <td>56.0</td>\n",
       "      <td>80.0</td>\n",
       "    </tr>\n",
       "    <tr>\n",
       "      <th>2</th>\n",
       "      <td>Sesan Obi</td>\n",
       "      <td>24</td>\n",
       "      <td>Swimming</td>\n",
       "      <td>67.0</td>\n",
       "      <td>95.0</td>\n",
       "      <td>71.0</td>\n",
       "    </tr>\n",
       "    <tr>\n",
       "      <th>3</th>\n",
       "      <td>Kevin Frank</td>\n",
       "      <td>25</td>\n",
       "      <td>Tennis</td>\n",
       "      <td>53.0</td>\n",
       "      <td>85.0</td>\n",
       "      <td>74.0</td>\n",
       "    </tr>\n",
       "    <tr>\n",
       "      <th>4</th>\n",
       "      <td>Emeka Jude</td>\n",
       "      <td>24</td>\n",
       "      <td>Basketball</td>\n",
       "      <td>86.0</td>\n",
       "      <td>80.0</td>\n",
       "      <td>93.0</td>\n",
       "    </tr>\n",
       "  </tbody>\n",
       "</table>\n",
       "</div>"
      ],
      "text/plain": [
       "               name  age       sport  Biology_score  Maths_score  \\\n",
       "0  Emmanuel Ayomide   27    Football           73.0         58.0   \n",
       "1      Ibrahim Musa   24    Football           92.0         56.0   \n",
       "2         Sesan Obi   24    Swimming           67.0         95.0   \n",
       "3       Kevin Frank   25      Tennis           53.0         85.0   \n",
       "4        Emeka Jude   24  Basketball           86.0         80.0   \n",
       "\n",
       "   English_score  \n",
       "0           65.0  \n",
       "1           80.0  \n",
       "2           71.0  \n",
       "3           74.0  \n",
       "4           93.0  "
      ]
     },
     "execution_count": 64,
     "metadata": {},
     "output_type": "execute_result"
    }
   ],
   "source": [
    "df.head()"
   ]
  },
  {
   "cell_type": "code",
   "execution_count": 65,
   "id": "03fb95c1",
   "metadata": {},
   "outputs": [
    {
     "data": {
      "text/html": [
       "<div>\n",
       "<style scoped>\n",
       "    .dataframe tbody tr th:only-of-type {\n",
       "        vertical-align: middle;\n",
       "    }\n",
       "\n",
       "    .dataframe tbody tr th {\n",
       "        vertical-align: top;\n",
       "    }\n",
       "\n",
       "    .dataframe thead th {\n",
       "        text-align: right;\n",
       "    }\n",
       "</style>\n",
       "<table border=\"1\" class=\"dataframe\">\n",
       "  <thead>\n",
       "    <tr style=\"text-align: right;\">\n",
       "      <th></th>\n",
       "      <th>age</th>\n",
       "      <th>Biology_score</th>\n",
       "      <th>Maths_score</th>\n",
       "      <th>English_score</th>\n",
       "    </tr>\n",
       "  </thead>\n",
       "  <tbody>\n",
       "    <tr>\n",
       "      <th>count</th>\n",
       "      <td>20.000000</td>\n",
       "      <td>19.000000</td>\n",
       "      <td>19.000000</td>\n",
       "      <td>19.000000</td>\n",
       "    </tr>\n",
       "    <tr>\n",
       "      <th>mean</th>\n",
       "      <td>24.600000</td>\n",
       "      <td>73.947368</td>\n",
       "      <td>78.789474</td>\n",
       "      <td>76.789474</td>\n",
       "    </tr>\n",
       "    <tr>\n",
       "      <th>std</th>\n",
       "      <td>2.161871</td>\n",
       "      <td>14.717615</td>\n",
       "      <td>13.930697</td>\n",
       "      <td>11.033177</td>\n",
       "    </tr>\n",
       "    <tr>\n",
       "      <th>min</th>\n",
       "      <td>18.000000</td>\n",
       "      <td>51.000000</td>\n",
       "      <td>56.000000</td>\n",
       "      <td>54.000000</td>\n",
       "    </tr>\n",
       "    <tr>\n",
       "      <th>25%</th>\n",
       "      <td>24.000000</td>\n",
       "      <td>62.000000</td>\n",
       "      <td>68.000000</td>\n",
       "      <td>70.500000</td>\n",
       "    </tr>\n",
       "    <tr>\n",
       "      <th>50%</th>\n",
       "      <td>24.500000</td>\n",
       "      <td>76.000000</td>\n",
       "      <td>80.000000</td>\n",
       "      <td>79.000000</td>\n",
       "    </tr>\n",
       "    <tr>\n",
       "      <th>75%</th>\n",
       "      <td>26.000000</td>\n",
       "      <td>87.000000</td>\n",
       "      <td>92.500000</td>\n",
       "      <td>84.500000</td>\n",
       "    </tr>\n",
       "    <tr>\n",
       "      <th>max</th>\n",
       "      <td>28.000000</td>\n",
       "      <td>96.000000</td>\n",
       "      <td>97.000000</td>\n",
       "      <td>94.000000</td>\n",
       "    </tr>\n",
       "  </tbody>\n",
       "</table>\n",
       "</div>"
      ],
      "text/plain": [
       "             age  Biology_score  Maths_score  English_score\n",
       "count  20.000000      19.000000    19.000000      19.000000\n",
       "mean   24.600000      73.947368    78.789474      76.789474\n",
       "std     2.161871      14.717615    13.930697      11.033177\n",
       "min    18.000000      51.000000    56.000000      54.000000\n",
       "25%    24.000000      62.000000    68.000000      70.500000\n",
       "50%    24.500000      76.000000    80.000000      79.000000\n",
       "75%    26.000000      87.000000    92.500000      84.500000\n",
       "max    28.000000      96.000000    97.000000      94.000000"
      ]
     },
     "execution_count": 65,
     "metadata": {},
     "output_type": "execute_result"
    }
   ],
   "source": [
    "df.describe()"
   ]
  },
  {
   "cell_type": "code",
   "execution_count": 66,
   "id": "c65cc32b",
   "metadata": {},
   "outputs": [
    {
     "data": {
      "text/plain": [
       "0     Emmanuel Ayomide\n",
       "1         Ibrahim Musa\n",
       "2            Sesan Obi\n",
       "3          Kevin Frank\n",
       "4           Emeka Jude\n",
       "5         Caroline Obi\n",
       "6     Franklin Oladele\n",
       "7             Kola Ola\n",
       "8         Emmanuel Ovi\n",
       "9          Kareem Musa\n",
       "10      Mustapha Ahmed\n",
       "11           Femi Akin\n",
       "12       Tobi Olaniyan\n",
       "13      Kayode Ibrahim\n",
       "14          Nnamdi Ike\n",
       "15          Ahmed Musa\n",
       "16         Kevin Frank\n",
       "17         Susan James\n",
       "18     Zainab Mohammed\n",
       "19           Sesan Obi\n",
       "Name: name, dtype: object"
      ]
     },
     "execution_count": 66,
     "metadata": {},
     "output_type": "execute_result"
    }
   ],
   "source": [
    "df['name']\n",
    "# This gives you a series"
   ]
  },
  {
   "cell_type": "code",
   "execution_count": 68,
   "id": "02e99bf7",
   "metadata": {},
   "outputs": [
    {
     "data": {
      "text/html": [
       "<div>\n",
       "<style scoped>\n",
       "    .dataframe tbody tr th:only-of-type {\n",
       "        vertical-align: middle;\n",
       "    }\n",
       "\n",
       "    .dataframe tbody tr th {\n",
       "        vertical-align: top;\n",
       "    }\n",
       "\n",
       "    .dataframe thead th {\n",
       "        text-align: right;\n",
       "    }\n",
       "</style>\n",
       "<table border=\"1\" class=\"dataframe\">\n",
       "  <thead>\n",
       "    <tr style=\"text-align: right;\">\n",
       "      <th></th>\n",
       "      <th>name</th>\n",
       "      <th>sport</th>\n",
       "    </tr>\n",
       "  </thead>\n",
       "  <tbody>\n",
       "    <tr>\n",
       "      <th>0</th>\n",
       "      <td>Emmanuel Ayomide</td>\n",
       "      <td>Football</td>\n",
       "    </tr>\n",
       "    <tr>\n",
       "      <th>1</th>\n",
       "      <td>Ibrahim Musa</td>\n",
       "      <td>Football</td>\n",
       "    </tr>\n",
       "    <tr>\n",
       "      <th>2</th>\n",
       "      <td>Sesan Obi</td>\n",
       "      <td>Swimming</td>\n",
       "    </tr>\n",
       "    <tr>\n",
       "      <th>3</th>\n",
       "      <td>Kevin Frank</td>\n",
       "      <td>Tennis</td>\n",
       "    </tr>\n",
       "    <tr>\n",
       "      <th>4</th>\n",
       "      <td>Emeka Jude</td>\n",
       "      <td>Basketball</td>\n",
       "    </tr>\n",
       "    <tr>\n",
       "      <th>5</th>\n",
       "      <td>Caroline Obi</td>\n",
       "      <td>Basketball</td>\n",
       "    </tr>\n",
       "    <tr>\n",
       "      <th>6</th>\n",
       "      <td>Franklin Oladele</td>\n",
       "      <td>Football</td>\n",
       "    </tr>\n",
       "    <tr>\n",
       "      <th>7</th>\n",
       "      <td>Kola Ola</td>\n",
       "      <td>Swimming</td>\n",
       "    </tr>\n",
       "    <tr>\n",
       "      <th>8</th>\n",
       "      <td>Emmanuel Ovi</td>\n",
       "      <td>Tennis</td>\n",
       "    </tr>\n",
       "    <tr>\n",
       "      <th>9</th>\n",
       "      <td>Kareem Musa</td>\n",
       "      <td>Football</td>\n",
       "    </tr>\n",
       "    <tr>\n",
       "      <th>10</th>\n",
       "      <td>Mustapha Ahmed</td>\n",
       "      <td>NaN</td>\n",
       "    </tr>\n",
       "    <tr>\n",
       "      <th>11</th>\n",
       "      <td>Femi Akin</td>\n",
       "      <td>Tennis</td>\n",
       "    </tr>\n",
       "    <tr>\n",
       "      <th>12</th>\n",
       "      <td>Tobi Olaniyan</td>\n",
       "      <td>Volleyball</td>\n",
       "    </tr>\n",
       "    <tr>\n",
       "      <th>13</th>\n",
       "      <td>Kayode Ibrahim</td>\n",
       "      <td>Football</td>\n",
       "    </tr>\n",
       "    <tr>\n",
       "      <th>14</th>\n",
       "      <td>Nnamdi Ike</td>\n",
       "      <td>Swimming</td>\n",
       "    </tr>\n",
       "    <tr>\n",
       "      <th>15</th>\n",
       "      <td>Ahmed Musa</td>\n",
       "      <td>Football</td>\n",
       "    </tr>\n",
       "    <tr>\n",
       "      <th>16</th>\n",
       "      <td>Kevin Frank</td>\n",
       "      <td>Tennis</td>\n",
       "    </tr>\n",
       "    <tr>\n",
       "      <th>17</th>\n",
       "      <td>Susan James</td>\n",
       "      <td>Volleyball</td>\n",
       "    </tr>\n",
       "    <tr>\n",
       "      <th>18</th>\n",
       "      <td>Zainab Mohammed</td>\n",
       "      <td>Basketball</td>\n",
       "    </tr>\n",
       "    <tr>\n",
       "      <th>19</th>\n",
       "      <td>Sesan Obi</td>\n",
       "      <td>Swimming</td>\n",
       "    </tr>\n",
       "  </tbody>\n",
       "</table>\n",
       "</div>"
      ],
      "text/plain": [
       "                name       sport\n",
       "0   Emmanuel Ayomide    Football\n",
       "1       Ibrahim Musa    Football\n",
       "2          Sesan Obi    Swimming\n",
       "3        Kevin Frank      Tennis\n",
       "4         Emeka Jude  Basketball\n",
       "5       Caroline Obi  Basketball\n",
       "6   Franklin Oladele    Football\n",
       "7           Kola Ola    Swimming\n",
       "8       Emmanuel Ovi      Tennis\n",
       "9        Kareem Musa    Football\n",
       "10    Mustapha Ahmed         NaN\n",
       "11         Femi Akin      Tennis\n",
       "12     Tobi Olaniyan  Volleyball\n",
       "13    Kayode Ibrahim    Football\n",
       "14        Nnamdi Ike    Swimming\n",
       "15        Ahmed Musa    Football\n",
       "16       Kevin Frank      Tennis\n",
       "17       Susan James  Volleyball\n",
       "18   Zainab Mohammed  Basketball\n",
       "19         Sesan Obi    Swimming"
      ]
     },
     "execution_count": 68,
     "metadata": {},
     "output_type": "execute_result"
    }
   ],
   "source": [
    "df[['name','sport']]\n",
    "# This gives you a dataframe"
   ]
  },
  {
   "cell_type": "code",
   "execution_count": 69,
   "id": "e6000ed6",
   "metadata": {},
   "outputs": [
    {
     "data": {
      "text/plain": [
       "name             Nnamdi Ike\n",
       "age                      26\n",
       "sport              Swimming\n",
       "Biology_score           NaN\n",
       "Maths_score            62.0\n",
       "English_score          88.0\n",
       "Name: 14, dtype: object"
      ]
     },
     "execution_count": 69,
     "metadata": {},
     "output_type": "execute_result"
    }
   ],
   "source": [
    "df.iloc[14]"
   ]
  },
  {
   "cell_type": "code",
   "execution_count": 70,
   "id": "087c708d",
   "metadata": {},
   "outputs": [
    {
     "data": {
      "text/plain": [
       "name             Nnamdi Ike\n",
       "age                      26\n",
       "sport              Swimming\n",
       "Biology_score           NaN\n",
       "Maths_score            62.0\n",
       "English_score          88.0\n",
       "Name: 14, dtype: object"
      ]
     },
     "execution_count": 70,
     "metadata": {},
     "output_type": "execute_result"
    }
   ],
   "source": [
    "df.loc[14]"
   ]
  },
  {
   "cell_type": "code",
   "execution_count": 71,
   "id": "00a225d8",
   "metadata": {},
   "outputs": [
    {
     "data": {
      "text/plain": [
       "0    Emmanuel Ayomide\n",
       "1        Ibrahim Musa\n",
       "2           Sesan Obi\n",
       "3         Kevin Frank\n",
       "4          Emeka Jude\n",
       "5        Caroline Obi\n",
       "6    Franklin Oladele\n",
       "7            Kola Ola\n",
       "8        Emmanuel Ovi\n",
       "Name: name, dtype: object"
      ]
     },
     "execution_count": 71,
     "metadata": {},
     "output_type": "execute_result"
    }
   ],
   "source": [
    "df.iloc[0:9,0]"
   ]
  },
  {
   "cell_type": "code",
   "execution_count": 74,
   "id": "907e192c",
   "metadata": {},
   "outputs": [
    {
     "data": {
      "text/plain": [
       "0      Football\n",
       "1      Football\n",
       "2      Swimming\n",
       "3        Tennis\n",
       "4    Basketball\n",
       "5    Basketball\n",
       "6      Football\n",
       "7      Swimming\n",
       "8        Tennis\n",
       "Name: sport, dtype: object"
      ]
     },
     "execution_count": 74,
     "metadata": {},
     "output_type": "execute_result"
    }
   ],
   "source": [
    "df.loc[0:8,'sport']"
   ]
  },
  {
   "cell_type": "code",
   "execution_count": 78,
   "id": "2739b04e",
   "metadata": {},
   "outputs": [
    {
     "data": {
      "text/html": [
       "<div>\n",
       "<style scoped>\n",
       "    .dataframe tbody tr th:only-of-type {\n",
       "        vertical-align: middle;\n",
       "    }\n",
       "\n",
       "    .dataframe tbody tr th {\n",
       "        vertical-align: top;\n",
       "    }\n",
       "\n",
       "    .dataframe thead th {\n",
       "        text-align: right;\n",
       "    }\n",
       "</style>\n",
       "<table border=\"1\" class=\"dataframe\">\n",
       "  <thead>\n",
       "    <tr style=\"text-align: right;\">\n",
       "      <th></th>\n",
       "      <th>name</th>\n",
       "      <th>Biology_score</th>\n",
       "    </tr>\n",
       "  </thead>\n",
       "  <tbody>\n",
       "    <tr>\n",
       "      <th>0</th>\n",
       "      <td>Emmanuel Ayomide</td>\n",
       "      <td>73.0</td>\n",
       "    </tr>\n",
       "    <tr>\n",
       "      <th>1</th>\n",
       "      <td>Ibrahim Musa</td>\n",
       "      <td>92.0</td>\n",
       "    </tr>\n",
       "    <tr>\n",
       "      <th>2</th>\n",
       "      <td>Sesan Obi</td>\n",
       "      <td>67.0</td>\n",
       "    </tr>\n",
       "    <tr>\n",
       "      <th>3</th>\n",
       "      <td>Kevin Frank</td>\n",
       "      <td>53.0</td>\n",
       "    </tr>\n",
       "    <tr>\n",
       "      <th>4</th>\n",
       "      <td>Emeka Jude</td>\n",
       "      <td>86.0</td>\n",
       "    </tr>\n",
       "    <tr>\n",
       "      <th>5</th>\n",
       "      <td>Caroline Obi</td>\n",
       "      <td>92.0</td>\n",
       "    </tr>\n",
       "    <tr>\n",
       "      <th>6</th>\n",
       "      <td>Franklin Oladele</td>\n",
       "      <td>96.0</td>\n",
       "    </tr>\n",
       "    <tr>\n",
       "      <th>7</th>\n",
       "      <td>Kola Ola</td>\n",
       "      <td>82.0</td>\n",
       "    </tr>\n",
       "    <tr>\n",
       "      <th>8</th>\n",
       "      <td>Emmanuel Ovi</td>\n",
       "      <td>79.0</td>\n",
       "    </tr>\n",
       "  </tbody>\n",
       "</table>\n",
       "</div>"
      ],
      "text/plain": [
       "               name  Biology_score\n",
       "0  Emmanuel Ayomide           73.0\n",
       "1      Ibrahim Musa           92.0\n",
       "2         Sesan Obi           67.0\n",
       "3       Kevin Frank           53.0\n",
       "4        Emeka Jude           86.0\n",
       "5      Caroline Obi           92.0\n",
       "6  Franklin Oladele           96.0\n",
       "7          Kola Ola           82.0\n",
       "8      Emmanuel Ovi           79.0"
      ]
     },
     "execution_count": 78,
     "metadata": {},
     "output_type": "execute_result"
    }
   ],
   "source": [
    "df.iloc[0:9,[0,3]]"
   ]
  },
  {
   "cell_type": "code",
   "execution_count": 79,
   "id": "25672372",
   "metadata": {},
   "outputs": [
    {
     "data": {
      "text/html": [
       "<div>\n",
       "<style scoped>\n",
       "    .dataframe tbody tr th:only-of-type {\n",
       "        vertical-align: middle;\n",
       "    }\n",
       "\n",
       "    .dataframe tbody tr th {\n",
       "        vertical-align: top;\n",
       "    }\n",
       "\n",
       "    .dataframe thead th {\n",
       "        text-align: right;\n",
       "    }\n",
       "</style>\n",
       "<table border=\"1\" class=\"dataframe\">\n",
       "  <thead>\n",
       "    <tr style=\"text-align: right;\">\n",
       "      <th></th>\n",
       "      <th>name</th>\n",
       "      <th>Biology_score</th>\n",
       "    </tr>\n",
       "  </thead>\n",
       "  <tbody>\n",
       "    <tr>\n",
       "      <th>0</th>\n",
       "      <td>Emmanuel Ayomide</td>\n",
       "      <td>73.0</td>\n",
       "    </tr>\n",
       "    <tr>\n",
       "      <th>1</th>\n",
       "      <td>Ibrahim Musa</td>\n",
       "      <td>92.0</td>\n",
       "    </tr>\n",
       "    <tr>\n",
       "      <th>2</th>\n",
       "      <td>Sesan Obi</td>\n",
       "      <td>67.0</td>\n",
       "    </tr>\n",
       "    <tr>\n",
       "      <th>3</th>\n",
       "      <td>Kevin Frank</td>\n",
       "      <td>53.0</td>\n",
       "    </tr>\n",
       "    <tr>\n",
       "      <th>4</th>\n",
       "      <td>Emeka Jude</td>\n",
       "      <td>86.0</td>\n",
       "    </tr>\n",
       "    <tr>\n",
       "      <th>5</th>\n",
       "      <td>Caroline Obi</td>\n",
       "      <td>92.0</td>\n",
       "    </tr>\n",
       "    <tr>\n",
       "      <th>6</th>\n",
       "      <td>Franklin Oladele</td>\n",
       "      <td>96.0</td>\n",
       "    </tr>\n",
       "    <tr>\n",
       "      <th>7</th>\n",
       "      <td>Kola Ola</td>\n",
       "      <td>82.0</td>\n",
       "    </tr>\n",
       "    <tr>\n",
       "      <th>8</th>\n",
       "      <td>Emmanuel Ovi</td>\n",
       "      <td>79.0</td>\n",
       "    </tr>\n",
       "  </tbody>\n",
       "</table>\n",
       "</div>"
      ],
      "text/plain": [
       "               name  Biology_score\n",
       "0  Emmanuel Ayomide           73.0\n",
       "1      Ibrahim Musa           92.0\n",
       "2         Sesan Obi           67.0\n",
       "3       Kevin Frank           53.0\n",
       "4        Emeka Jude           86.0\n",
       "5      Caroline Obi           92.0\n",
       "6  Franklin Oladele           96.0\n",
       "7          Kola Ola           82.0\n",
       "8      Emmanuel Ovi           79.0"
      ]
     },
     "execution_count": 79,
     "metadata": {},
     "output_type": "execute_result"
    }
   ],
   "source": [
    "df.loc[0:8,['name','Biology_score']]"
   ]
  },
  {
   "cell_type": "code",
   "execution_count": 88,
   "id": "7b8d735f",
   "metadata": {},
   "outputs": [],
   "source": [
    "# Filtering data\n",
    "\n",
    "dff=df['Biology_score']>=70"
   ]
  },
  {
   "cell_type": "code",
   "execution_count": 89,
   "id": "8f3a810a",
   "metadata": {},
   "outputs": [
    {
     "data": {
      "text/html": [
       "<div>\n",
       "<style scoped>\n",
       "    .dataframe tbody tr th:only-of-type {\n",
       "        vertical-align: middle;\n",
       "    }\n",
       "\n",
       "    .dataframe tbody tr th {\n",
       "        vertical-align: top;\n",
       "    }\n",
       "\n",
       "    .dataframe thead th {\n",
       "        text-align: right;\n",
       "    }\n",
       "</style>\n",
       "<table border=\"1\" class=\"dataframe\">\n",
       "  <thead>\n",
       "    <tr style=\"text-align: right;\">\n",
       "      <th></th>\n",
       "      <th>name</th>\n",
       "      <th>age</th>\n",
       "      <th>sport</th>\n",
       "      <th>Biology_score</th>\n",
       "      <th>Maths_score</th>\n",
       "      <th>English_score</th>\n",
       "    </tr>\n",
       "  </thead>\n",
       "  <tbody>\n",
       "    <tr>\n",
       "      <th>0</th>\n",
       "      <td>Emmanuel Ayomide</td>\n",
       "      <td>27</td>\n",
       "      <td>Football</td>\n",
       "      <td>73.0</td>\n",
       "      <td>58.0</td>\n",
       "      <td>65.0</td>\n",
       "    </tr>\n",
       "    <tr>\n",
       "      <th>1</th>\n",
       "      <td>Ibrahim Musa</td>\n",
       "      <td>24</td>\n",
       "      <td>Football</td>\n",
       "      <td>92.0</td>\n",
       "      <td>56.0</td>\n",
       "      <td>80.0</td>\n",
       "    </tr>\n",
       "    <tr>\n",
       "      <th>4</th>\n",
       "      <td>Emeka Jude</td>\n",
       "      <td>24</td>\n",
       "      <td>Basketball</td>\n",
       "      <td>86.0</td>\n",
       "      <td>80.0</td>\n",
       "      <td>93.0</td>\n",
       "    </tr>\n",
       "    <tr>\n",
       "      <th>5</th>\n",
       "      <td>Caroline Obi</td>\n",
       "      <td>27</td>\n",
       "      <td>Basketball</td>\n",
       "      <td>92.0</td>\n",
       "      <td>71.0</td>\n",
       "      <td>79.0</td>\n",
       "    </tr>\n",
       "    <tr>\n",
       "      <th>6</th>\n",
       "      <td>Franklin Oladele</td>\n",
       "      <td>18</td>\n",
       "      <td>Football</td>\n",
       "      <td>96.0</td>\n",
       "      <td>NaN</td>\n",
       "      <td>70.0</td>\n",
       "    </tr>\n",
       "    <tr>\n",
       "      <th>7</th>\n",
       "      <td>Kola Ola</td>\n",
       "      <td>28</td>\n",
       "      <td>Swimming</td>\n",
       "      <td>82.0</td>\n",
       "      <td>95.0</td>\n",
       "      <td>58.0</td>\n",
       "    </tr>\n",
       "    <tr>\n",
       "      <th>8</th>\n",
       "      <td>Emmanuel Ovi</td>\n",
       "      <td>23</td>\n",
       "      <td>Tennis</td>\n",
       "      <td>79.0</td>\n",
       "      <td>61.0</td>\n",
       "      <td>68.0</td>\n",
       "    </tr>\n",
       "    <tr>\n",
       "      <th>9</th>\n",
       "      <td>Kareem Musa</td>\n",
       "      <td>24</td>\n",
       "      <td>Football</td>\n",
       "      <td>78.0</td>\n",
       "      <td>73.0</td>\n",
       "      <td>86.0</td>\n",
       "    </tr>\n",
       "    <tr>\n",
       "      <th>10</th>\n",
       "      <td>Mustapha Ahmed</td>\n",
       "      <td>24</td>\n",
       "      <td>NaN</td>\n",
       "      <td>88.0</td>\n",
       "      <td>84.0</td>\n",
       "      <td>NaN</td>\n",
       "    </tr>\n",
       "    <tr>\n",
       "      <th>11</th>\n",
       "      <td>Femi Akin</td>\n",
       "      <td>24</td>\n",
       "      <td>Tennis</td>\n",
       "      <td>90.0</td>\n",
       "      <td>97.0</td>\n",
       "      <td>85.0</td>\n",
       "    </tr>\n",
       "    <tr>\n",
       "      <th>17</th>\n",
       "      <td>Susan James</td>\n",
       "      <td>27</td>\n",
       "      <td>Volleyball</td>\n",
       "      <td>76.0</td>\n",
       "      <td>69.0</td>\n",
       "      <td>54.0</td>\n",
       "    </tr>\n",
       "  </tbody>\n",
       "</table>\n",
       "</div>"
      ],
      "text/plain": [
       "                name  age       sport  Biology_score  Maths_score  \\\n",
       "0   Emmanuel Ayomide   27    Football           73.0         58.0   \n",
       "1       Ibrahim Musa   24    Football           92.0         56.0   \n",
       "4         Emeka Jude   24  Basketball           86.0         80.0   \n",
       "5       Caroline Obi   27  Basketball           92.0         71.0   \n",
       "6   Franklin Oladele   18    Football           96.0          NaN   \n",
       "7           Kola Ola   28    Swimming           82.0         95.0   \n",
       "8       Emmanuel Ovi   23      Tennis           79.0         61.0   \n",
       "9        Kareem Musa   24    Football           78.0         73.0   \n",
       "10    Mustapha Ahmed   24         NaN           88.0         84.0   \n",
       "11         Femi Akin   24      Tennis           90.0         97.0   \n",
       "17       Susan James   27  Volleyball           76.0         69.0   \n",
       "\n",
       "    English_score  \n",
       "0            65.0  \n",
       "1            80.0  \n",
       "4            93.0  \n",
       "5            79.0  \n",
       "6            70.0  \n",
       "7            58.0  \n",
       "8            68.0  \n",
       "9            86.0  \n",
       "10            NaN  \n",
       "11           85.0  \n",
       "17           54.0  "
      ]
     },
     "execution_count": 89,
     "metadata": {},
     "output_type": "execute_result"
    }
   ],
   "source": [
    "df[dff]"
   ]
  },
  {
   "cell_type": "code",
   "execution_count": 96,
   "id": "a2c0c220",
   "metadata": {},
   "outputs": [
    {
     "data": {
      "text/html": [
       "<div>\n",
       "<style scoped>\n",
       "    .dataframe tbody tr th:only-of-type {\n",
       "        vertical-align: middle;\n",
       "    }\n",
       "\n",
       "    .dataframe tbody tr th {\n",
       "        vertical-align: top;\n",
       "    }\n",
       "\n",
       "    .dataframe thead th {\n",
       "        text-align: right;\n",
       "    }\n",
       "</style>\n",
       "<table border=\"1\" class=\"dataframe\">\n",
       "  <thead>\n",
       "    <tr style=\"text-align: right;\">\n",
       "      <th></th>\n",
       "      <th>name</th>\n",
       "      <th>age</th>\n",
       "      <th>sport</th>\n",
       "      <th>Biology_score</th>\n",
       "      <th>Maths_score</th>\n",
       "      <th>English_score</th>\n",
       "    </tr>\n",
       "  </thead>\n",
       "  <tbody>\n",
       "    <tr>\n",
       "      <th>4</th>\n",
       "      <td>Emeka Jude</td>\n",
       "      <td>24</td>\n",
       "      <td>Basketball</td>\n",
       "      <td>86.0</td>\n",
       "      <td>80.0</td>\n",
       "      <td>93.0</td>\n",
       "    </tr>\n",
       "    <tr>\n",
       "      <th>5</th>\n",
       "      <td>Caroline Obi</td>\n",
       "      <td>27</td>\n",
       "      <td>Basketball</td>\n",
       "      <td>92.0</td>\n",
       "      <td>71.0</td>\n",
       "      <td>79.0</td>\n",
       "    </tr>\n",
       "    <tr>\n",
       "      <th>9</th>\n",
       "      <td>Kareem Musa</td>\n",
       "      <td>24</td>\n",
       "      <td>Football</td>\n",
       "      <td>78.0</td>\n",
       "      <td>73.0</td>\n",
       "      <td>86.0</td>\n",
       "    </tr>\n",
       "    <tr>\n",
       "      <th>11</th>\n",
       "      <td>Femi Akin</td>\n",
       "      <td>24</td>\n",
       "      <td>Tennis</td>\n",
       "      <td>90.0</td>\n",
       "      <td>97.0</td>\n",
       "      <td>85.0</td>\n",
       "    </tr>\n",
       "  </tbody>\n",
       "</table>\n",
       "</div>"
      ],
      "text/plain": [
       "            name  age       sport  Biology_score  Maths_score  English_score\n",
       "4     Emeka Jude   24  Basketball           86.0         80.0           93.0\n",
       "5   Caroline Obi   27  Basketball           92.0         71.0           79.0\n",
       "9    Kareem Musa   24    Football           78.0         73.0           86.0\n",
       "11     Femi Akin   24      Tennis           90.0         97.0           85.0"
      ]
     },
     "execution_count": 96,
     "metadata": {},
     "output_type": "execute_result"
    }
   ],
   "source": [
    "df[(df['Biology_score']>=70)&(df['Maths_score']>=70)&(df['English_score']>=70)]"
   ]
  },
  {
   "cell_type": "code",
   "execution_count": 93,
   "id": "84ba482a",
   "metadata": {},
   "outputs": [
    {
     "data": {
      "text/html": [
       "<div>\n",
       "<style scoped>\n",
       "    .dataframe tbody tr th:only-of-type {\n",
       "        vertical-align: middle;\n",
       "    }\n",
       "\n",
       "    .dataframe tbody tr th {\n",
       "        vertical-align: top;\n",
       "    }\n",
       "\n",
       "    .dataframe thead th {\n",
       "        text-align: right;\n",
       "    }\n",
       "</style>\n",
       "<table border=\"1\" class=\"dataframe\">\n",
       "  <thead>\n",
       "    <tr style=\"text-align: right;\">\n",
       "      <th></th>\n",
       "      <th>name</th>\n",
       "      <th>age</th>\n",
       "      <th>sport</th>\n",
       "      <th>Biology_score</th>\n",
       "      <th>Maths_score</th>\n",
       "      <th>English_score</th>\n",
       "    </tr>\n",
       "  </thead>\n",
       "  <tbody>\n",
       "    <tr>\n",
       "      <th>0</th>\n",
       "      <td>Emmanuel Ayomide</td>\n",
       "      <td>27</td>\n",
       "      <td>Football</td>\n",
       "      <td>73.0</td>\n",
       "      <td>58.0</td>\n",
       "      <td>65.0</td>\n",
       "    </tr>\n",
       "    <tr>\n",
       "      <th>1</th>\n",
       "      <td>Ibrahim Musa</td>\n",
       "      <td>24</td>\n",
       "      <td>Football</td>\n",
       "      <td>92.0</td>\n",
       "      <td>56.0</td>\n",
       "      <td>80.0</td>\n",
       "    </tr>\n",
       "    <tr>\n",
       "      <th>4</th>\n",
       "      <td>Emeka Jude</td>\n",
       "      <td>24</td>\n",
       "      <td>Basketball</td>\n",
       "      <td>86.0</td>\n",
       "      <td>80.0</td>\n",
       "      <td>93.0</td>\n",
       "    </tr>\n",
       "    <tr>\n",
       "      <th>5</th>\n",
       "      <td>Caroline Obi</td>\n",
       "      <td>27</td>\n",
       "      <td>Basketball</td>\n",
       "      <td>92.0</td>\n",
       "      <td>71.0</td>\n",
       "      <td>79.0</td>\n",
       "    </tr>\n",
       "    <tr>\n",
       "      <th>6</th>\n",
       "      <td>Franklin Oladele</td>\n",
       "      <td>18</td>\n",
       "      <td>Football</td>\n",
       "      <td>96.0</td>\n",
       "      <td>NaN</td>\n",
       "      <td>70.0</td>\n",
       "    </tr>\n",
       "    <tr>\n",
       "      <th>7</th>\n",
       "      <td>Kola Ola</td>\n",
       "      <td>28</td>\n",
       "      <td>Swimming</td>\n",
       "      <td>82.0</td>\n",
       "      <td>95.0</td>\n",
       "      <td>58.0</td>\n",
       "    </tr>\n",
       "    <tr>\n",
       "      <th>8</th>\n",
       "      <td>Emmanuel Ovi</td>\n",
       "      <td>23</td>\n",
       "      <td>Tennis</td>\n",
       "      <td>79.0</td>\n",
       "      <td>61.0</td>\n",
       "      <td>68.0</td>\n",
       "    </tr>\n",
       "    <tr>\n",
       "      <th>9</th>\n",
       "      <td>Kareem Musa</td>\n",
       "      <td>24</td>\n",
       "      <td>Football</td>\n",
       "      <td>78.0</td>\n",
       "      <td>73.0</td>\n",
       "      <td>86.0</td>\n",
       "    </tr>\n",
       "    <tr>\n",
       "      <th>10</th>\n",
       "      <td>Mustapha Ahmed</td>\n",
       "      <td>24</td>\n",
       "      <td>NaN</td>\n",
       "      <td>88.0</td>\n",
       "      <td>84.0</td>\n",
       "      <td>NaN</td>\n",
       "    </tr>\n",
       "    <tr>\n",
       "      <th>11</th>\n",
       "      <td>Femi Akin</td>\n",
       "      <td>24</td>\n",
       "      <td>Tennis</td>\n",
       "      <td>90.0</td>\n",
       "      <td>97.0</td>\n",
       "      <td>85.0</td>\n",
       "    </tr>\n",
       "    <tr>\n",
       "      <th>17</th>\n",
       "      <td>Susan James</td>\n",
       "      <td>27</td>\n",
       "      <td>Volleyball</td>\n",
       "      <td>76.0</td>\n",
       "      <td>69.0</td>\n",
       "      <td>54.0</td>\n",
       "    </tr>\n",
       "  </tbody>\n",
       "</table>\n",
       "</div>"
      ],
      "text/plain": [
       "                name  age       sport  Biology_score  Maths_score  \\\n",
       "0   Emmanuel Ayomide   27    Football           73.0         58.0   \n",
       "1       Ibrahim Musa   24    Football           92.0         56.0   \n",
       "4         Emeka Jude   24  Basketball           86.0         80.0   \n",
       "5       Caroline Obi   27  Basketball           92.0         71.0   \n",
       "6   Franklin Oladele   18    Football           96.0          NaN   \n",
       "7           Kola Ola   28    Swimming           82.0         95.0   \n",
       "8       Emmanuel Ovi   23      Tennis           79.0         61.0   \n",
       "9        Kareem Musa   24    Football           78.0         73.0   \n",
       "10    Mustapha Ahmed   24         NaN           88.0         84.0   \n",
       "11         Femi Akin   24      Tennis           90.0         97.0   \n",
       "17       Susan James   27  Volleyball           76.0         69.0   \n",
       "\n",
       "    English_score  \n",
       "0            65.0  \n",
       "1            80.0  \n",
       "4            93.0  \n",
       "5            79.0  \n",
       "6            70.0  \n",
       "7            58.0  \n",
       "8            68.0  \n",
       "9            86.0  \n",
       "10            NaN  \n",
       "11           85.0  \n",
       "17           54.0  "
      ]
     },
     "execution_count": 93,
     "metadata": {},
     "output_type": "execute_result"
    }
   ],
   "source": [
    "df[dff]"
   ]
  },
  {
   "cell_type": "code",
   "execution_count": null,
   "id": "bd75fc37",
   "metadata": {},
   "outputs": [],
   "source": []
  }
 ],
 "metadata": {
  "kernelspec": {
   "display_name": "Python 3",
   "language": "python",
   "name": "python3"
  },
  "language_info": {
   "codemirror_mode": {
    "name": "ipython",
    "version": 3
   },
   "file_extension": ".py",
   "mimetype": "text/x-python",
   "name": "python",
   "nbconvert_exporter": "python",
   "pygments_lexer": "ipython3",
   "version": "3.8.8"
  }
 },
 "nbformat": 4,
 "nbformat_minor": 5
}
