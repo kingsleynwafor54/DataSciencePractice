{
 "cells": [
  {
   "cell_type": "code",
   "execution_count": 1,
   "id": "c61053df",
   "metadata": {},
   "outputs": [],
   "source": [
    "import numpy as np\n",
    "import pandas as pd\n",
    "import time as tm"
   ]
  },
  {
   "cell_type": "code",
   "execution_count": 2,
   "id": "3d553204",
   "metadata": {},
   "outputs": [],
   "source": [
    "df=pd.read_csv('students.csv')"
   ]
  },
  {
   "cell_type": "code",
   "execution_count": 9,
   "id": "66b922ca",
   "metadata": {},
   "outputs": [],
   "source": [
    "dff=df.iloc[0:5, 0:3]"
   ]
  },
  {
   "cell_type": "code",
   "execution_count": 10,
   "id": "2581cc10",
   "metadata": {},
   "outputs": [
    {
     "data": {
      "text/html": [
       "<div>\n",
       "<style scoped>\n",
       "    .dataframe tbody tr th:only-of-type {\n",
       "        vertical-align: middle;\n",
       "    }\n",
       "\n",
       "    .dataframe tbody tr th {\n",
       "        vertical-align: top;\n",
       "    }\n",
       "\n",
       "    .dataframe thead th {\n",
       "        text-align: right;\n",
       "    }\n",
       "</style>\n",
       "<table border=\"1\" class=\"dataframe\">\n",
       "  <thead>\n",
       "    <tr style=\"text-align: right;\">\n",
       "      <th></th>\n",
       "      <th>name</th>\n",
       "      <th>age</th>\n",
       "      <th>sport</th>\n",
       "    </tr>\n",
       "  </thead>\n",
       "  <tbody>\n",
       "    <tr>\n",
       "      <th>0</th>\n",
       "      <td>Emmanuel Ayomide</td>\n",
       "      <td>27</td>\n",
       "      <td>Football</td>\n",
       "    </tr>\n",
       "    <tr>\n",
       "      <th>1</th>\n",
       "      <td>Ibrahim Musa</td>\n",
       "      <td>24</td>\n",
       "      <td>Football</td>\n",
       "    </tr>\n",
       "    <tr>\n",
       "      <th>2</th>\n",
       "      <td>Sesan Obi</td>\n",
       "      <td>24</td>\n",
       "      <td>Swimming</td>\n",
       "    </tr>\n",
       "    <tr>\n",
       "      <th>3</th>\n",
       "      <td>Kevin Frank</td>\n",
       "      <td>25</td>\n",
       "      <td>Tennis</td>\n",
       "    </tr>\n",
       "    <tr>\n",
       "      <th>4</th>\n",
       "      <td>Emeka Jude</td>\n",
       "      <td>24</td>\n",
       "      <td>Basketball</td>\n",
       "    </tr>\n",
       "  </tbody>\n",
       "</table>\n",
       "</div>"
      ],
      "text/plain": [
       "               name  age       sport\n",
       "0  Emmanuel Ayomide   27    Football\n",
       "1      Ibrahim Musa   24    Football\n",
       "2         Sesan Obi   24    Swimming\n",
       "3       Kevin Frank   25      Tennis\n",
       "4        Emeka Jude   24  Basketball"
      ]
     },
     "execution_count": 10,
     "metadata": {},
     "output_type": "execute_result"
    }
   ],
   "source": [
    "dff"
   ]
  },
  {
   "cell_type": "code",
   "execution_count": 20,
   "id": "501f349c",
   "metadata": {},
   "outputs": [
    {
     "name": "stdout",
     "output_type": "stream",
     "text": [
      "0\n",
      "name     Emmanuel Ayomide\n",
      "age                    27\n",
      "sport            Football\n",
      "Name: 0, dtype: object\n",
      "1\n",
      "name     Ibrahim Musa\n",
      "age                24\n",
      "sport        Football\n",
      "Name: 1, dtype: object\n",
      "2\n",
      "name     Sesan Obi\n",
      "age             24\n",
      "sport     Swimming\n",
      "Name: 2, dtype: object\n",
      "3\n",
      "name     Kevin Frank\n",
      "age               25\n",
      "sport         Tennis\n",
      "Name: 3, dtype: object\n",
      "4\n",
      "name     Emeka Jude\n",
      "age              24\n",
      "sport    Basketball\n",
      "Name: 4, dtype: object\n",
      "Total time is 0.08699584007263184\n"
     ]
    }
   ],
   "source": [
    "# Iter row\n",
    "# Iter tuple\n",
    "start=tm.time()\n",
    "for row_label,row in dff.iterrows():\n",
    "    print(row_label,row,sep='\\n',end='\\n')\n",
    "print('Total time is {}'.format(tm.time()-start))# Iter time checks the time it takes the code to run\n"
   ]
  },
  {
   "cell_type": "code",
   "execution_count": 24,
   "id": "867b2f41",
   "metadata": {},
   "outputs": [
    {
     "name": "stdout",
     "output_type": "stream",
     "text": [
      "Pandas(Index=0, name='Emmanuel Ayomide', age=27, sport='Football')\n",
      "Pandas(Index=1, name='Ibrahim Musa', age=24, sport='Football')\n",
      "Pandas(Index=2, name='Sesan Obi', age=24, sport='Swimming')\n",
      "Pandas(Index=3, name='Kevin Frank', age=25, sport='Tennis')\n",
      "Pandas(Index=4, name='Emeka Jude', age=24, sport='Basketball')\n",
      "Total time is 0.013006448745727539\n"
     ]
    }
   ],
   "source": [
    "\n",
    "start=tm.time()\n",
    "for row in dff.itertuples():\n",
    "    print(row,sep='\\n',end='\\n')\n",
    "print('Total time is {}'.format(tm.time()-start))"
   ]
  },
  {
   "cell_type": "code",
   "execution_count": 25,
   "id": "d5aa20b3",
   "metadata": {},
   "outputs": [
    {
     "name": "stdout",
     "output_type": "stream",
     "text": [
      "Pandas(Index=0, name='Emmanuel Ayomide', age=27, sport='Football', Biology_score=73.0, Maths_score=58.0, English_score=65.0)\n",
      "Pandas(Index=1, name='Ibrahim Musa', age=24, sport='Football', Biology_score=92.0, Maths_score=56.0, English_score=80.0)\n",
      "Pandas(Index=2, name='Sesan Obi', age=24, sport='Swimming', Biology_score=67.0, Maths_score=95.0, English_score=71.0)\n",
      "Pandas(Index=3, name='Kevin Frank', age=25, sport='Tennis', Biology_score=53.0, Maths_score=85.0, English_score=74.0)\n",
      "Pandas(Index=4, name='Emeka Jude', age=24, sport='Basketball', Biology_score=86.0, Maths_score=80.0, English_score=93.0)\n",
      "Pandas(Index=5, name='Caroline Obi', age=27, sport='Basketball', Biology_score=92.0, Maths_score=71.0, English_score=79.0)\n",
      "Pandas(Index=6, name='Franklin Oladele', age=18, sport='Football', Biology_score=96.0, Maths_score=nan, English_score=70.0)\n",
      "Pandas(Index=7, name='Kola Ola', age=28, sport='Swimming', Biology_score=82.0, Maths_score=95.0, English_score=58.0)\n",
      "Pandas(Index=8, name='Emmanuel Ovi', age=23, sport='Tennis', Biology_score=79.0, Maths_score=61.0, English_score=68.0)\n",
      "Pandas(Index=9, name='Kareem Musa', age=24, sport='Football', Biology_score=78.0, Maths_score=73.0, English_score=86.0)\n",
      "Pandas(Index=10, name='Mustapha Ahmed', age=24, sport=nan, Biology_score=88.0, Maths_score=84.0, English_score=nan)\n",
      "Pandas(Index=11, name='Femi Akin', age=24, sport='Tennis', Biology_score=90.0, Maths_score=97.0, English_score=85.0)\n",
      "Pandas(Index=12, name='Tobi Olaniyan', age=22, sport='Volleyball', Biology_score=51.0, Maths_score=79.0, English_score=84.0)\n",
      "Pandas(Index=13, name='Kayode Ibrahim', age=25, sport='Football', Biology_score=58.0, Maths_score=67.0, English_score=84.0)\n",
      "Pandas(Index=14, name='Nnamdi Ike', age=26, sport='Swimming', Biology_score=nan, Maths_score=62.0, English_score=88.0)\n",
      "Pandas(Index=15, name='Ahmed Musa', age=24, sport='Football', Biology_score=60.0, Maths_score=90.0, English_score=81.0)\n",
      "Pandas(Index=16, name='Kevin Frank', age=25, sport='Tennis', Biology_score=53.0, Maths_score=85.0, English_score=74.0)\n",
      "Pandas(Index=17, name='Susan James', age=27, sport='Volleyball', Biology_score=76.0, Maths_score=69.0, English_score=54.0)\n",
      "Pandas(Index=18, name='Zainab Mohammed', age=25, sport='Basketball', Biology_score=64.0, Maths_score=95.0, English_score=94.0)\n",
      "Pandas(Index=19, name='Sesan Obi', age=26, sport='Swimming', Biology_score=67.0, Maths_score=95.0, English_score=71.0)\n",
      "Total time is 0.01700115203857422\n"
     ]
    }
   ],
   "source": [
    "# Let's see the time difference for the whole dataset\n",
    "start=tm.time()\n",
    "for row in df.itertuples():\n",
    "    print(row,sep='\\n',end='\\n')\n",
    "print('Total time is {}'.format(tm.time()-start))"
   ]
  },
  {
   "cell_type": "code",
   "execution_count": null,
   "id": "7cb1f97c",
   "metadata": {},
   "outputs": [],
   "source": []
  },
  {
   "cell_type": "code",
   "execution_count": null,
   "id": "5d15e4c0",
   "metadata": {},
   "outputs": [],
   "source": []
  }
 ],
 "metadata": {
  "kernelspec": {
   "display_name": "Python 3",
   "language": "python",
   "name": "python3"
  },
  "language_info": {
   "codemirror_mode": {
    "name": "ipython",
    "version": 3
   },
   "file_extension": ".py",
   "mimetype": "text/x-python",
   "name": "python",
   "nbconvert_exporter": "python",
   "pygments_lexer": "ipython3",
   "version": "3.8.8"
  }
 },
 "nbformat": 4,
 "nbformat_minor": 5
}
