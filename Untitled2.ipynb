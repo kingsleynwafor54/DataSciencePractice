{
 "cells": [
  {
   "cell_type": "code",
   "execution_count": 140,
   "id": "81113f56",
   "metadata": {},
   "outputs": [
    {
     "name": "stdout",
     "output_type": "stream",
     "text": [
      "enter your number23\n",
      "enter your secondNumber34\n",
      "57\n"
     ]
    }
   ],
   "source": [
    "number_int =int(input(\"enter your number\"))\n",
    "number2_int =int (input(\"enter your secondNumber\"))\n",
    "if number_int*number2_int>1000:\n",
    "        print(number_int*number2_int)\n",
    "else:\n",
    "        print(number_int+number2_int)\n",
    "        \n",
    "        \n",
    "        \n",
    "        "
   ]
  },
  {
   "cell_type": "markdown",
   "id": "a1ef1887",
   "metadata": {},
   "source": [
    "str_words=input(\"enter your words\")\n",
    "for counter in range (len(str_words)):\n",
    "   if counter%2==0:\n",
    "   \n",
    "   \n",
    "       print(str_words[counter],end=\" \")\n",
    "        "
   ]
  },
  {
   "cell_type": "code",
   "execution_count": 135,
   "id": "72c6e8de",
   "metadata": {},
   "outputs": [
    {
     "name": "stdout",
     "output_type": "stream",
     "text": [
      " \n",
      "1 2 3 4 5 6 7 8 9 10 11 12  \n",
      "2 4 6 8 10 12 14 16 18 20 22 24  \n",
      "3 6 9 12 15 18 21 24 27 30 33 36  \n",
      "4 8 12 16 20 24 28 32 36 40 44 48  \n",
      "5 10 15 20 25 30 35 40 45 50 55 60  \n",
      "6 12 18 24 30 36 42 48 54 60 66 72  \n",
      "7 14 21 28 35 42 49 56 63 70 77 84  \n",
      "8 16 24 32 40 48 56 64 72 80 88 96  \n",
      "9 18 27 36 45 54 63 72 81 90 99 108  \n",
      "10 20 30 40 50 60 70 80 90 100 110 120  \n",
      "11 22 33 44 55 66 77 88 99 110 121 132  \n",
      "12 24 36 48 60 72 84 96 108 120 132 144 "
     ]
    }
   ],
   "source": [
    "list=[1,2,3,4,5,6,7,8,9,10,11,12]\n",
    "\n",
    "for counter in list:\n",
    "    print(\" \")\n",
    "    for count in list:\n",
    "        print((list[counter-1]*count),end=\" \")\n",
    "    "
   ]
  },
  {
   "cell_type": "code",
   "execution_count": 132,
   "id": "792b0bc3",
   "metadata": {},
   "outputs": [
    {
     "name": "stdout",
     "output_type": "stream",
     "text": [
      "128\n"
     ]
    }
   ],
   "source": [
    "def exponent(base,exp):\n",
    "    king=1\n",
    "    for count in range (exp):\n",
    "            king*=base\n",
    "            \n",
    "    return king\n",
    "\n",
    "print(exponent(2,7))"
   ]
  },
  {
   "cell_type": "markdown",
   "id": "5211f3f4",
   "metadata": {},
   "source": []
  },
  {
   "cell_type": "code",
   "execution_count": 51,
   "id": "55f9cc36",
   "metadata": {},
   "outputs": [
    {
     "name": "stdout",
     "output_type": "stream",
     "text": [
      "[10, 9, 8, 7, 6, 5, 4, 3, 2, 1]\n"
     ]
    }
   ],
   "source": [
    "numberArray=[1,2,3,4,5,6,7,8,9,10]\n",
    "print(numberArray[::-1])"
   ]
  },
  {
   "cell_type": "code",
   "execution_count": 58,
   "id": "28b9618c",
   "metadata": {},
   "outputs": [
    {
     "name": "stdout",
     "output_type": "stream",
     "text": [
      "[1, 200, 20, 1, 4, 5, 6, 7]\n"
     ]
    }
   ],
   "source": [
    "number1=[1,20,20,1,4,5,6,7]\n",
    "for counter in range (len(number1)):\n",
    "    if number1[counter]==20:\n",
    "        number1[counter]=200\n",
    "        break;\n",
    "       \n",
    "    \n",
    "print(number1)"
   ]
  },
  {
   "cell_type": "code",
   "execution_count": 57,
   "id": "cab9f708",
   "metadata": {},
   "outputs": [
    {
     "name": "stdout",
     "output_type": "stream",
     "text": [
      "enter your wordskingsely\n",
      "k n s l "
     ]
    }
   ],
   "source": [
    "str_words=input(\"enter your words\")\n",
    "for counter in range (len(str_words)):\n",
    "   if counter%2==0:\n",
    "       print(str_words[counter],end=\" \")\n",
    "        "
   ]
  },
  {
   "cell_type": "code",
   "execution_count": 130,
   "id": "f7bad131",
   "metadata": {},
   "outputs": [
    {
     "name": "stdout",
     "output_type": "stream",
     "text": [
      "2 3 5 7 "
     ]
    }
   ],
   "source": [
    "# package chapterEight;\n",
    "\n",
    "# public class PrimeNumbers {\n",
    "#     public static boolean isPrimeNumber(int number) {\n",
    "#         for (int counter = 2; counter < number ; counter++) {\n",
    "#             if (number % counter == 0) {\n",
    "#                 return false;\n",
    "#             }\n",
    "#         }\n",
    "#             return true;\n",
    "\n",
    "\n",
    "#     }\n",
    "\n",
    "#     public static void main(String[] args) {\n",
    "#         for (int counter=2;counter<10;counter++){\n",
    "#             if(isPrimeNumber(counter)){\n",
    "#                 System.out.print(counter+\" \");\n",
    "#             }\n",
    "\n",
    "#         }\n",
    "#     }\n",
    "#     }\n",
    "\n",
    "def isPrimeNumber(number):\n",
    "    isTrue=False\n",
    "    for counter in range(2,number):\n",
    "        if(number%counter==0):\n",
    "            isTrue= True\n",
    "       \n",
    "            \n",
    "    return isTrue       \n",
    "            \n",
    "    \n",
    "   \n",
    "for counter in range (10):\n",
    "    if counter>=2:\n",
    "        if not (isPrimeNumber(counter)):\n",
    "            print(counter,end=\" \")\n",
    "\n"
   ]
  },
  {
   "cell_type": "code",
   "execution_count": 125,
   "id": "71999051",
   "metadata": {},
   "outputs": [
    {
     "name": "stdout",
     "output_type": "stream",
     "text": [
      "Hey\n"
     ]
    }
   ],
   "source": [
    "print(\"Hey\")\n"
   ]
  },
  {
   "cell_type": "code",
   "execution_count": 126,
   "id": "9d95398a",
   "metadata": {},
   "outputs": [
    {
     "name": "stdout",
     "output_type": "stream",
     "text": [
      "(47, -1)\n"
     ]
    }
   ],
   "source": [
    "def calculation(number1,number2):\n",
    "    add= number1+number2\n",
    "    sub=number1-number2\n",
    "\n",
    "    return add,sub \n",
    "\n",
    "\n",
    "\n",
    "print(calculation(23,24))"
   ]
  },
  {
   "cell_type": "code",
   "execution_count": 96,
   "id": "9ee7736d",
   "metadata": {},
   "outputs": [
    {
     "name": "stdout",
     "output_type": "stream",
     "text": [
      "1 2 3 4 5 6 7 8 9 10 "
     ]
    }
   ],
   "source": [
    "for counter in range(10):\n",
    "    print(counter+1, end=\" \")"
   ]
  },
  {
   "cell_type": "code",
   "execution_count": 101,
   "id": "25280016",
   "metadata": {},
   "outputs": [
    {
     "name": "stdout",
     "output_type": "stream",
     "text": [
      "120\n"
     ]
    }
   ],
   "source": [
    "number3=[12,34,56,120,152]\n",
    "for  counter in range(len(number3)):\n",
    "    if (number3[counter]>150):\n",
    "        break;\n",
    "    elif(number3[counter]%5==0):\n",
    "        print(number3[counter]);\n",
    "        \n",
    "    "
   ]
  },
  {
   "cell_type": "code",
   "execution_count": null,
   "id": "ca1c32fd",
   "metadata": {},
   "outputs": [],
   "source": []
  }
 ],
 "metadata": {
  "kernelspec": {
   "display_name": "Python 3",
   "language": "python",
   "name": "python3"
  },
  "language_info": {
   "codemirror_mode": {
    "name": "ipython",
    "version": 3
   },
   "file_extension": ".py",
   "mimetype": "text/x-python",
   "name": "python",
   "nbconvert_exporter": "python",
   "pygments_lexer": "ipython3",
   "version": "3.8.8"
  }
 },
 "nbformat": 4,
 "nbformat_minor": 5
}
