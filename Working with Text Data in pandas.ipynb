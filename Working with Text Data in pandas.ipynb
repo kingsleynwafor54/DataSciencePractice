{
 "cells": [
  {
   "cell_type": "code",
   "execution_count": 1,
   "id": "65816d5c",
   "metadata": {},
   "outputs": [],
   "source": [
    "import numpy as np\n",
    "import pandas as pd"
   ]
  },
  {
   "cell_type": "code",
   "execution_count": 2,
   "id": "4a10ffa7",
   "metadata": {},
   "outputs": [],
   "source": [
    "detail={'Name':['Ibrahim Musa','Emeka Jude','Emmanuel Ayomide','Nnamdi Ike'],\n",
    "        'Age':[24,25,27,24],\n",
    "        'Course':['Physics','Statistic','Mathematics','Chemistry'],\n",
    "        'Sport':['Football','Volleyball','Swimming','Basketball'],\n",
    "        'Amount':['#20000','#25000','#20000','#20200']\n",
    "       }"
   ]
  },
  {
   "cell_type": "code",
   "execution_count": 3,
   "id": "4d40238f",
   "metadata": {},
   "outputs": [],
   "source": [
    "df=pd.DataFrame(detail)"
   ]
  },
  {
   "cell_type": "code",
   "execution_count": 4,
   "id": "9f4ab581",
   "metadata": {},
   "outputs": [
    {
     "data": {
      "text/html": [
       "<div>\n",
       "<style scoped>\n",
       "    .dataframe tbody tr th:only-of-type {\n",
       "        vertical-align: middle;\n",
       "    }\n",
       "\n",
       "    .dataframe tbody tr th {\n",
       "        vertical-align: top;\n",
       "    }\n",
       "\n",
       "    .dataframe thead th {\n",
       "        text-align: right;\n",
       "    }\n",
       "</style>\n",
       "<table border=\"1\" class=\"dataframe\">\n",
       "  <thead>\n",
       "    <tr style=\"text-align: right;\">\n",
       "      <th></th>\n",
       "      <th>Name</th>\n",
       "      <th>Age</th>\n",
       "      <th>Course</th>\n",
       "      <th>Sport</th>\n",
       "      <th>Amount</th>\n",
       "    </tr>\n",
       "  </thead>\n",
       "  <tbody>\n",
       "    <tr>\n",
       "      <th>0</th>\n",
       "      <td>Ibrahim Musa</td>\n",
       "      <td>24</td>\n",
       "      <td>Physics</td>\n",
       "      <td>Football</td>\n",
       "      <td>#20000</td>\n",
       "    </tr>\n",
       "    <tr>\n",
       "      <th>1</th>\n",
       "      <td>Emeka Jude</td>\n",
       "      <td>25</td>\n",
       "      <td>Statistic</td>\n",
       "      <td>Volleyball</td>\n",
       "      <td>#25000</td>\n",
       "    </tr>\n",
       "    <tr>\n",
       "      <th>2</th>\n",
       "      <td>Emmanuel Ayomide</td>\n",
       "      <td>27</td>\n",
       "      <td>Mathematics</td>\n",
       "      <td>Swimming</td>\n",
       "      <td>#20000</td>\n",
       "    </tr>\n",
       "    <tr>\n",
       "      <th>3</th>\n",
       "      <td>Nnamdi Ike</td>\n",
       "      <td>24</td>\n",
       "      <td>Chemistry</td>\n",
       "      <td>Basketball</td>\n",
       "      <td>#20200</td>\n",
       "    </tr>\n",
       "  </tbody>\n",
       "</table>\n",
       "</div>"
      ],
      "text/plain": [
       "               Name  Age       Course       Sport  Amount\n",
       "0      Ibrahim Musa   24      Physics    Football  #20000\n",
       "1        Emeka Jude   25    Statistic  Volleyball  #25000\n",
       "2  Emmanuel Ayomide   27  Mathematics    Swimming  #20000\n",
       "3        Nnamdi Ike   24    Chemistry  Basketball  #20200"
      ]
     },
     "execution_count": 4,
     "metadata": {},
     "output_type": "execute_result"
    }
   ],
   "source": [
    "df"
   ]
  },
  {
   "cell_type": "code",
   "execution_count": 5,
   "id": "242c8290",
   "metadata": {},
   "outputs": [
    {
     "data": {
      "text/plain": [
       "0        ibrahim musa\n",
       "1          emeka jude\n",
       "2    emmanuel ayomide\n",
       "3          nnamdi ike\n",
       "Name: Name, dtype: object"
      ]
     },
     "execution_count": 5,
     "metadata": {},
     "output_type": "execute_result"
    }
   ],
   "source": [
    "df['Name'].str.lower()"
   ]
  },
  {
   "cell_type": "code",
   "execution_count": 6,
   "id": "47f03754",
   "metadata": {},
   "outputs": [
    {
     "data": {
      "text/plain": [
       "0        IBRAHIM MUSA\n",
       "1          EMEKA JUDE\n",
       "2    EMMANUEL AYOMIDE\n",
       "3          NNAMDI IKE\n",
       "Name: Name, dtype: object"
      ]
     },
     "execution_count": 6,
     "metadata": {},
     "output_type": "execute_result"
    }
   ],
   "source": [
    "df['Name'].str.upper()"
   ]
  },
  {
   "cell_type": "code",
   "execution_count": 7,
   "id": "3da6e094",
   "metadata": {},
   "outputs": [
    {
     "data": {
      "text/plain": [
       "0    False\n",
       "1    False\n",
       "2    False\n",
       "3    False\n",
       "Name: Name, dtype: bool"
      ]
     },
     "execution_count": 7,
     "metadata": {},
     "output_type": "execute_result"
    }
   ],
   "source": [
    "df['Name'].str.islower()"
   ]
  },
  {
   "cell_type": "code",
   "execution_count": 8,
   "id": "7f7d12ce",
   "metadata": {},
   "outputs": [
    {
     "data": {
      "text/plain": [
       "0    False\n",
       "1    False\n",
       "2    False\n",
       "3    False\n",
       "Name: Name, dtype: bool"
      ]
     },
     "execution_count": 8,
     "metadata": {},
     "output_type": "execute_result"
    }
   ],
   "source": [
    "df['Name'].str.isupper()"
   ]
  },
  {
   "cell_type": "code",
   "execution_count": 9,
   "id": "97b3f415",
   "metadata": {},
   "outputs": [
    {
     "data": {
      "text/plain": [
       "0    True\n",
       "1    True\n",
       "2    True\n",
       "3    True\n",
       "Name: Name, dtype: bool"
      ]
     },
     "execution_count": 9,
     "metadata": {},
     "output_type": "execute_result"
    }
   ],
   "source": [
    "df['Name'].str.upper().str.isupper()"
   ]
  },
  {
   "cell_type": "code",
   "execution_count": 10,
   "id": "89e80b6b",
   "metadata": {},
   "outputs": [
    {
     "data": {
      "text/plain": [
       "0    True\n",
       "1    True\n",
       "2    True\n",
       "3    True\n",
       "Name: Name, dtype: bool"
      ]
     },
     "execution_count": 10,
     "metadata": {},
     "output_type": "execute_result"
    }
   ],
   "source": [
    "df['Name'].str.lower().str.islower()"
   ]
  },
  {
   "cell_type": "code",
   "execution_count": 11,
   "id": "a82a505f",
   "metadata": {},
   "outputs": [
    {
     "data": {
      "text/plain": [
       "0        iBRAHIM mUSA\n",
       "1          eMEKA jUDE\n",
       "2    eMMANUEL aYOMIDE\n",
       "3          nNAMDI iKE\n",
       "Name: Name, dtype: object"
      ]
     },
     "execution_count": 11,
     "metadata": {},
     "output_type": "execute_result"
    }
   ],
   "source": [
    "df['Name'].str.swapcase()"
   ]
  },
  {
   "cell_type": "code",
   "execution_count": 12,
   "id": "bef7530a",
   "metadata": {},
   "outputs": [
    {
     "data": {
      "text/plain": [
       "0        PHYSICS\n",
       "1      STATISTIC\n",
       "2    MATHEMATICS\n",
       "3      CHEMISTRY\n",
       "Name: Course, dtype: object"
      ]
     },
     "execution_count": 12,
     "metadata": {},
     "output_type": "execute_result"
    }
   ],
   "source": [
    "df['Course'].str.upper()"
   ]
  },
  {
   "cell_type": "code",
   "execution_count": 13,
   "id": "cce5b186",
   "metadata": {},
   "outputs": [],
   "source": [
    "# How to strim and remove characters from a string literal\n"
   ]
  },
  {
   "cell_type": "markdown",
   "id": "6c6cf300",
   "metadata": {},
   "source": [
    "### Splitting and Replacing\n",
    "- cat -Concatenates the series index element with given separator\n",
    "- Split- Splits each string with the given pattern\n",
    "- Replace -Replaces a value with another value"
   ]
  },
  {
   "cell_type": "code",
   "execution_count": 14,
   "id": "2e29dc25",
   "metadata": {},
   "outputs": [
    {
     "data": {
      "text/plain": [
       "'Ibrahim Musa_Emeka Jude_Emmanuel Ayomide_Nnamdi Ike'"
      ]
     },
     "execution_count": 14,
     "metadata": {},
     "output_type": "execute_result"
    }
   ],
   "source": [
    "df['Name'].str.cat(sep='_')"
   ]
  },
  {
   "cell_type": "code",
   "execution_count": 15,
   "id": "e9c915dc",
   "metadata": {},
   "outputs": [
    {
     "data": {
      "text/plain": [
       "['We', 'are', 'learning', 'Pandas']"
      ]
     },
     "execution_count": 15,
     "metadata": {},
     "output_type": "execute_result"
    }
   ],
   "source": [
    "'We are learning Pandas'.split(\" \")"
   ]
  },
  {
   "cell_type": "code",
   "execution_count": 16,
   "id": "4da8f24e",
   "metadata": {},
   "outputs": [
    {
     "data": {
      "text/plain": [
       "0        [Ibrahim, Musa]\n",
       "1          [Emeka, Jude]\n",
       "2    [Emmanuel, Ayomide]\n",
       "3          [Nnamdi, Ike]\n",
       "Name: Name, dtype: object"
      ]
     },
     "execution_count": 16,
     "metadata": {},
     "output_type": "execute_result"
    }
   ],
   "source": [
    "df['Name'].str.split(' ')"
   ]
  },
  {
   "cell_type": "code",
   "execution_count": 17,
   "id": "acbc0923",
   "metadata": {},
   "outputs": [
    {
     "data": {
      "text/plain": [
       "0     Ibrahim\n",
       "1       Emeka\n",
       "2    Emmanuel\n",
       "3      Nnamdi\n",
       "Name: Name, dtype: object"
      ]
     },
     "execution_count": 17,
     "metadata": {},
     "output_type": "execute_result"
    }
   ],
   "source": [
    "df['Name'].str.split(' ').str.get(0)"
   ]
  },
  {
   "cell_type": "code",
   "execution_count": 18,
   "id": "20d1be52",
   "metadata": {},
   "outputs": [],
   "source": [
    "df[['First Name','Last Name']]=df['Name'].str.split(' ',expand=True)"
   ]
  },
  {
   "cell_type": "code",
   "execution_count": 19,
   "id": "3ebb0d20",
   "metadata": {},
   "outputs": [
    {
     "data": {
      "text/html": [
       "<div>\n",
       "<style scoped>\n",
       "    .dataframe tbody tr th:only-of-type {\n",
       "        vertical-align: middle;\n",
       "    }\n",
       "\n",
       "    .dataframe tbody tr th {\n",
       "        vertical-align: top;\n",
       "    }\n",
       "\n",
       "    .dataframe thead th {\n",
       "        text-align: right;\n",
       "    }\n",
       "</style>\n",
       "<table border=\"1\" class=\"dataframe\">\n",
       "  <thead>\n",
       "    <tr style=\"text-align: right;\">\n",
       "      <th></th>\n",
       "      <th>Name</th>\n",
       "      <th>Age</th>\n",
       "      <th>Course</th>\n",
       "      <th>Sport</th>\n",
       "      <th>Amount</th>\n",
       "      <th>First Name</th>\n",
       "      <th>Last Name</th>\n",
       "    </tr>\n",
       "  </thead>\n",
       "  <tbody>\n",
       "    <tr>\n",
       "      <th>0</th>\n",
       "      <td>Ibrahim Musa</td>\n",
       "      <td>24</td>\n",
       "      <td>Physics</td>\n",
       "      <td>Football</td>\n",
       "      <td>#20000</td>\n",
       "      <td>Ibrahim</td>\n",
       "      <td>Musa</td>\n",
       "    </tr>\n",
       "    <tr>\n",
       "      <th>1</th>\n",
       "      <td>Emeka Jude</td>\n",
       "      <td>25</td>\n",
       "      <td>Statistic</td>\n",
       "      <td>Volleyball</td>\n",
       "      <td>#25000</td>\n",
       "      <td>Emeka</td>\n",
       "      <td>Jude</td>\n",
       "    </tr>\n",
       "    <tr>\n",
       "      <th>2</th>\n",
       "      <td>Emmanuel Ayomide</td>\n",
       "      <td>27</td>\n",
       "      <td>Mathematics</td>\n",
       "      <td>Swimming</td>\n",
       "      <td>#20000</td>\n",
       "      <td>Emmanuel</td>\n",
       "      <td>Ayomide</td>\n",
       "    </tr>\n",
       "    <tr>\n",
       "      <th>3</th>\n",
       "      <td>Nnamdi Ike</td>\n",
       "      <td>24</td>\n",
       "      <td>Chemistry</td>\n",
       "      <td>Basketball</td>\n",
       "      <td>#20200</td>\n",
       "      <td>Nnamdi</td>\n",
       "      <td>Ike</td>\n",
       "    </tr>\n",
       "  </tbody>\n",
       "</table>\n",
       "</div>"
      ],
      "text/plain": [
       "               Name  Age       Course       Sport  Amount First Name Last Name\n",
       "0      Ibrahim Musa   24      Physics    Football  #20000    Ibrahim      Musa\n",
       "1        Emeka Jude   25    Statistic  Volleyball  #25000      Emeka      Jude\n",
       "2  Emmanuel Ayomide   27  Mathematics    Swimming  #20000   Emmanuel   Ayomide\n",
       "3        Nnamdi Ike   24    Chemistry  Basketball  #20200     Nnamdi       Ike"
      ]
     },
     "execution_count": 19,
     "metadata": {},
     "output_type": "execute_result"
    }
   ],
   "source": [
    "df"
   ]
  },
  {
   "cell_type": "markdown",
   "id": "49444c51",
   "metadata": {},
   "source": [
    "####  Converting a String literal with symbols to a float, int, double, and ...\n"
   ]
  },
  {
   "cell_type": "code",
   "execution_count": 20,
   "id": "9d7693f6",
   "metadata": {},
   "outputs": [
    {
     "data": {
      "text/plain": [
       "<bound method NDFrame.astype of 0    20000\n",
       "1    25000\n",
       "2    20000\n",
       "3    20200\n",
       "Name: Amount, dtype: object>"
      ]
     },
     "execution_count": 20,
     "metadata": {},
     "output_type": "execute_result"
    }
   ],
   "source": [
    "df['Amount'].str.replace('#','').astype"
   ]
  },
  {
   "cell_type": "code",
   "execution_count": 21,
   "id": "dda1f344",
   "metadata": {},
   "outputs": [
    {
     "data": {
      "text/plain": [
       "0    2\n",
       "1    1\n",
       "2    3\n",
       "3    1\n",
       "Name: Name, dtype: int64"
      ]
     },
     "execution_count": 21,
     "metadata": {},
     "output_type": "execute_result"
    }
   ],
   "source": [
    "df['Name'].str.lower().str.count('m')"
   ]
  },
  {
   "cell_type": "code",
   "execution_count": 26,
   "id": "49f7824a",
   "metadata": {},
   "outputs": [
    {
     "data": {
      "text/plain": [
       "85200.0"
      ]
     },
     "execution_count": 26,
     "metadata": {},
     "output_type": "execute_result"
    }
   ],
   "source": [
    "df['Amount'].str.replace('#','').astype(float).sum()"
   ]
  },
  {
   "cell_type": "code",
   "execution_count": 27,
   "id": "58e1d72f",
   "metadata": {},
   "outputs": [
    {
     "data": {
      "text/plain": [
       "0    False\n",
       "1     True\n",
       "2     True\n",
       "3     True\n",
       "Name: Name, dtype: bool"
      ]
     },
     "execution_count": 27,
     "metadata": {},
     "output_type": "execute_result"
    }
   ],
   "source": [
    "df['Name'].str.lower().str.endswith('e')"
   ]
  },
  {
   "cell_type": "code",
   "execution_count": 28,
   "id": "20f6dbd1",
   "metadata": {},
   "outputs": [
    {
     "data": {
      "text/plain": [
       "0    6\n",
       "1    1\n",
       "2    1\n",
       "3    3\n",
       "Name: Name, dtype: int64"
      ]
     },
     "execution_count": 28,
     "metadata": {},
     "output_type": "execute_result"
    }
   ],
   "source": [
    "df['Name'].str.lower().str.find('m')"
   ]
  },
  {
   "cell_type": "code",
   "execution_count": 29,
   "id": "9bb30900",
   "metadata": {},
   "outputs": [
    {
     "data": {
      "text/plain": [
       "0       [m, m]\n",
       "1          [m]\n",
       "2    [m, m, m]\n",
       "3          [m]\n",
       "Name: Name, dtype: object"
      ]
     },
     "execution_count": 29,
     "metadata": {},
     "output_type": "execute_result"
    }
   ],
   "source": [
    "df['Name'].str.lower().str.findall('m')"
   ]
  },
  {
   "cell_type": "code",
   "execution_count": 30,
   "id": "65bd7426",
   "metadata": {},
   "outputs": [],
   "source": [
    "df=pd.read_csv('students.csv')"
   ]
  },
  {
   "cell_type": "code",
   "execution_count": 31,
   "id": "691f3150",
   "metadata": {},
   "outputs": [
    {
     "data": {
      "text/html": [
       "<div>\n",
       "<style scoped>\n",
       "    .dataframe tbody tr th:only-of-type {\n",
       "        vertical-align: middle;\n",
       "    }\n",
       "\n",
       "    .dataframe tbody tr th {\n",
       "        vertical-align: top;\n",
       "    }\n",
       "\n",
       "    .dataframe thead th {\n",
       "        text-align: right;\n",
       "    }\n",
       "</style>\n",
       "<table border=\"1\" class=\"dataframe\">\n",
       "  <thead>\n",
       "    <tr style=\"text-align: right;\">\n",
       "      <th></th>\n",
       "      <th>name</th>\n",
       "      <th>age</th>\n",
       "      <th>sport</th>\n",
       "      <th>Biology_score</th>\n",
       "      <th>Maths_score</th>\n",
       "      <th>English_score</th>\n",
       "    </tr>\n",
       "  </thead>\n",
       "  <tbody>\n",
       "    <tr>\n",
       "      <th>0</th>\n",
       "      <td>Emmanuel Ayomide</td>\n",
       "      <td>27</td>\n",
       "      <td>Football</td>\n",
       "      <td>73.0</td>\n",
       "      <td>58.0</td>\n",
       "      <td>65.0</td>\n",
       "    </tr>\n",
       "    <tr>\n",
       "      <th>1</th>\n",
       "      <td>Ibrahim Musa</td>\n",
       "      <td>24</td>\n",
       "      <td>Football</td>\n",
       "      <td>92.0</td>\n",
       "      <td>56.0</td>\n",
       "      <td>80.0</td>\n",
       "    </tr>\n",
       "    <tr>\n",
       "      <th>2</th>\n",
       "      <td>Sesan Obi</td>\n",
       "      <td>24</td>\n",
       "      <td>Swimming</td>\n",
       "      <td>67.0</td>\n",
       "      <td>95.0</td>\n",
       "      <td>71.0</td>\n",
       "    </tr>\n",
       "    <tr>\n",
       "      <th>3</th>\n",
       "      <td>Kevin Frank</td>\n",
       "      <td>25</td>\n",
       "      <td>Tennis</td>\n",
       "      <td>53.0</td>\n",
       "      <td>85.0</td>\n",
       "      <td>74.0</td>\n",
       "    </tr>\n",
       "    <tr>\n",
       "      <th>4</th>\n",
       "      <td>Emeka Jude</td>\n",
       "      <td>24</td>\n",
       "      <td>Basketball</td>\n",
       "      <td>86.0</td>\n",
       "      <td>80.0</td>\n",
       "      <td>93.0</td>\n",
       "    </tr>\n",
       "    <tr>\n",
       "      <th>5</th>\n",
       "      <td>Caroline Obi</td>\n",
       "      <td>27</td>\n",
       "      <td>Basketball</td>\n",
       "      <td>92.0</td>\n",
       "      <td>71.0</td>\n",
       "      <td>79.0</td>\n",
       "    </tr>\n",
       "    <tr>\n",
       "      <th>6</th>\n",
       "      <td>Franklin Oladele</td>\n",
       "      <td>18</td>\n",
       "      <td>Football</td>\n",
       "      <td>96.0</td>\n",
       "      <td>NaN</td>\n",
       "      <td>70.0</td>\n",
       "    </tr>\n",
       "    <tr>\n",
       "      <th>7</th>\n",
       "      <td>Kola Ola</td>\n",
       "      <td>28</td>\n",
       "      <td>Swimming</td>\n",
       "      <td>82.0</td>\n",
       "      <td>95.0</td>\n",
       "      <td>58.0</td>\n",
       "    </tr>\n",
       "    <tr>\n",
       "      <th>8</th>\n",
       "      <td>Emmanuel Ovi</td>\n",
       "      <td>23</td>\n",
       "      <td>Tennis</td>\n",
       "      <td>79.0</td>\n",
       "      <td>61.0</td>\n",
       "      <td>68.0</td>\n",
       "    </tr>\n",
       "    <tr>\n",
       "      <th>9</th>\n",
       "      <td>Kareem Musa</td>\n",
       "      <td>24</td>\n",
       "      <td>Football</td>\n",
       "      <td>78.0</td>\n",
       "      <td>73.0</td>\n",
       "      <td>86.0</td>\n",
       "    </tr>\n",
       "    <tr>\n",
       "      <th>10</th>\n",
       "      <td>Mustapha Ahmed</td>\n",
       "      <td>24</td>\n",
       "      <td>NaN</td>\n",
       "      <td>88.0</td>\n",
       "      <td>84.0</td>\n",
       "      <td>NaN</td>\n",
       "    </tr>\n",
       "    <tr>\n",
       "      <th>11</th>\n",
       "      <td>Femi Akin</td>\n",
       "      <td>24</td>\n",
       "      <td>Tennis</td>\n",
       "      <td>90.0</td>\n",
       "      <td>97.0</td>\n",
       "      <td>85.0</td>\n",
       "    </tr>\n",
       "    <tr>\n",
       "      <th>12</th>\n",
       "      <td>Tobi Olaniyan</td>\n",
       "      <td>22</td>\n",
       "      <td>Volleyball</td>\n",
       "      <td>51.0</td>\n",
       "      <td>79.0</td>\n",
       "      <td>84.0</td>\n",
       "    </tr>\n",
       "    <tr>\n",
       "      <th>13</th>\n",
       "      <td>Kayode Ibrahim</td>\n",
       "      <td>25</td>\n",
       "      <td>Football</td>\n",
       "      <td>58.0</td>\n",
       "      <td>67.0</td>\n",
       "      <td>84.0</td>\n",
       "    </tr>\n",
       "    <tr>\n",
       "      <th>14</th>\n",
       "      <td>Nnamdi Ike</td>\n",
       "      <td>26</td>\n",
       "      <td>Swimming</td>\n",
       "      <td>NaN</td>\n",
       "      <td>62.0</td>\n",
       "      <td>88.0</td>\n",
       "    </tr>\n",
       "    <tr>\n",
       "      <th>15</th>\n",
       "      <td>Ahmed Musa</td>\n",
       "      <td>24</td>\n",
       "      <td>Football</td>\n",
       "      <td>60.0</td>\n",
       "      <td>90.0</td>\n",
       "      <td>81.0</td>\n",
       "    </tr>\n",
       "    <tr>\n",
       "      <th>16</th>\n",
       "      <td>Kevin Frank</td>\n",
       "      <td>25</td>\n",
       "      <td>Tennis</td>\n",
       "      <td>53.0</td>\n",
       "      <td>85.0</td>\n",
       "      <td>74.0</td>\n",
       "    </tr>\n",
       "    <tr>\n",
       "      <th>17</th>\n",
       "      <td>Susan James</td>\n",
       "      <td>27</td>\n",
       "      <td>Volleyball</td>\n",
       "      <td>76.0</td>\n",
       "      <td>69.0</td>\n",
       "      <td>54.0</td>\n",
       "    </tr>\n",
       "    <tr>\n",
       "      <th>18</th>\n",
       "      <td>Zainab Mohammed</td>\n",
       "      <td>25</td>\n",
       "      <td>Basketball</td>\n",
       "      <td>64.0</td>\n",
       "      <td>95.0</td>\n",
       "      <td>94.0</td>\n",
       "    </tr>\n",
       "    <tr>\n",
       "      <th>19</th>\n",
       "      <td>Sesan Obi</td>\n",
       "      <td>26</td>\n",
       "      <td>Swimming</td>\n",
       "      <td>67.0</td>\n",
       "      <td>95.0</td>\n",
       "      <td>71.0</td>\n",
       "    </tr>\n",
       "  </tbody>\n",
       "</table>\n",
       "</div>"
      ],
      "text/plain": [
       "                name  age       sport  Biology_score  Maths_score  \\\n",
       "0   Emmanuel Ayomide   27    Football           73.0         58.0   \n",
       "1       Ibrahim Musa   24    Football           92.0         56.0   \n",
       "2          Sesan Obi   24    Swimming           67.0         95.0   \n",
       "3        Kevin Frank   25      Tennis           53.0         85.0   \n",
       "4         Emeka Jude   24  Basketball           86.0         80.0   \n",
       "5       Caroline Obi   27  Basketball           92.0         71.0   \n",
       "6   Franklin Oladele   18    Football           96.0          NaN   \n",
       "7           Kola Ola   28    Swimming           82.0         95.0   \n",
       "8       Emmanuel Ovi   23      Tennis           79.0         61.0   \n",
       "9        Kareem Musa   24    Football           78.0         73.0   \n",
       "10    Mustapha Ahmed   24         NaN           88.0         84.0   \n",
       "11         Femi Akin   24      Tennis           90.0         97.0   \n",
       "12     Tobi Olaniyan   22  Volleyball           51.0         79.0   \n",
       "13    Kayode Ibrahim   25    Football           58.0         67.0   \n",
       "14        Nnamdi Ike   26    Swimming            NaN         62.0   \n",
       "15        Ahmed Musa   24    Football           60.0         90.0   \n",
       "16       Kevin Frank   25      Tennis           53.0         85.0   \n",
       "17       Susan James   27  Volleyball           76.0         69.0   \n",
       "18   Zainab Mohammed   25  Basketball           64.0         95.0   \n",
       "19         Sesan Obi   26    Swimming           67.0         95.0   \n",
       "\n",
       "    English_score  \n",
       "0            65.0  \n",
       "1            80.0  \n",
       "2            71.0  \n",
       "3            74.0  \n",
       "4            93.0  \n",
       "5            79.0  \n",
       "6            70.0  \n",
       "7            58.0  \n",
       "8            68.0  \n",
       "9            86.0  \n",
       "10            NaN  \n",
       "11           85.0  \n",
       "12           84.0  \n",
       "13           84.0  \n",
       "14           88.0  \n",
       "15           81.0  \n",
       "16           74.0  \n",
       "17           54.0  \n",
       "18           94.0  \n",
       "19           71.0  "
      ]
     },
     "execution_count": 31,
     "metadata": {},
     "output_type": "execute_result"
    }
   ],
   "source": [
    "df"
   ]
  },
  {
   "cell_type": "code",
   "execution_count": 32,
   "id": "e5ebf214",
   "metadata": {},
   "outputs": [],
   "source": [
    "department=df.groupby('sport')"
   ]
  },
  {
   "cell_type": "code",
   "execution_count": 33,
   "id": "c304a553",
   "metadata": {},
   "outputs": [
    {
     "data": {
      "text/plain": [
       "pandas.core.groupby.generic.DataFrameGroupBy"
      ]
     },
     "execution_count": 33,
     "metadata": {},
     "output_type": "execute_result"
    }
   ],
   "source": [
    "type(department)"
   ]
  },
  {
   "cell_type": "code",
   "execution_count": 34,
   "id": "1a63826c",
   "metadata": {},
   "outputs": [
    {
     "data": {
      "text/plain": [
       "{'Basketball': [4, 5, 18], 'Football': [0, 1, 6, 9, 13, 15], 'Swimming': [2, 7, 14, 19], 'Tennis': [3, 8, 11, 16], 'Volleyball': [12, 17]}"
      ]
     },
     "execution_count": 34,
     "metadata": {},
     "output_type": "execute_result"
    }
   ],
   "source": [
    "department.groups"
   ]
  },
  {
   "cell_type": "code",
   "execution_count": 42,
   "id": "008c5db5",
   "metadata": {},
   "outputs": [
    {
     "data": {
      "text/plain": [
       "name             Femi Akin\n",
       "age                     24\n",
       "sport               Tennis\n",
       "Biology_score         90.0\n",
       "Maths_score           97.0\n",
       "English_score         85.0\n",
       "Name: 11, dtype: object"
      ]
     },
     "execution_count": 42,
     "metadata": {},
     "output_type": "execute_result"
    }
   ],
   "source": [
    "df.loc[11]"
   ]
  },
  {
   "cell_type": "code",
   "execution_count": 55,
   "id": "9edde58e",
   "metadata": {},
   "outputs": [
    {
     "data": {
      "text/plain": [
       "5"
      ]
     },
     "execution_count": 55,
     "metadata": {},
     "output_type": "execute_result"
    }
   ],
   "source": [
    "df['sport'].nunique()"
   ]
  },
  {
   "cell_type": "code",
   "execution_count": 50,
   "id": "97a8e0f3",
   "metadata": {},
   "outputs": [
    {
     "data": {
      "text/html": [
       "<div>\n",
       "<style scoped>\n",
       "    .dataframe tbody tr th:only-of-type {\n",
       "        vertical-align: middle;\n",
       "    }\n",
       "\n",
       "    .dataframe tbody tr th {\n",
       "        vertical-align: top;\n",
       "    }\n",
       "\n",
       "    .dataframe thead th {\n",
       "        text-align: right;\n",
       "    }\n",
       "</style>\n",
       "<table border=\"1\" class=\"dataframe\">\n",
       "  <thead>\n",
       "    <tr style=\"text-align: right;\">\n",
       "      <th></th>\n",
       "      <th>name</th>\n",
       "      <th>age</th>\n",
       "      <th>sport</th>\n",
       "      <th>Biology_score</th>\n",
       "      <th>Maths_score</th>\n",
       "      <th>English_score</th>\n",
       "    </tr>\n",
       "  </thead>\n",
       "  <tbody>\n",
       "    <tr>\n",
       "      <th>0</th>\n",
       "      <td>Emmanuel Ayomide</td>\n",
       "      <td>27</td>\n",
       "      <td>Football</td>\n",
       "      <td>73.0</td>\n",
       "      <td>58.0</td>\n",
       "      <td>65.0</td>\n",
       "    </tr>\n",
       "    <tr>\n",
       "      <th>1</th>\n",
       "      <td>Ibrahim Musa</td>\n",
       "      <td>24</td>\n",
       "      <td>Football</td>\n",
       "      <td>92.0</td>\n",
       "      <td>56.0</td>\n",
       "      <td>80.0</td>\n",
       "    </tr>\n",
       "    <tr>\n",
       "      <th>6</th>\n",
       "      <td>Franklin Oladele</td>\n",
       "      <td>18</td>\n",
       "      <td>Football</td>\n",
       "      <td>96.0</td>\n",
       "      <td>NaN</td>\n",
       "      <td>70.0</td>\n",
       "    </tr>\n",
       "    <tr>\n",
       "      <th>9</th>\n",
       "      <td>Kareem Musa</td>\n",
       "      <td>24</td>\n",
       "      <td>Football</td>\n",
       "      <td>78.0</td>\n",
       "      <td>73.0</td>\n",
       "      <td>86.0</td>\n",
       "    </tr>\n",
       "    <tr>\n",
       "      <th>13</th>\n",
       "      <td>Kayode Ibrahim</td>\n",
       "      <td>25</td>\n",
       "      <td>Football</td>\n",
       "      <td>58.0</td>\n",
       "      <td>67.0</td>\n",
       "      <td>84.0</td>\n",
       "    </tr>\n",
       "    <tr>\n",
       "      <th>15</th>\n",
       "      <td>Ahmed Musa</td>\n",
       "      <td>24</td>\n",
       "      <td>Football</td>\n",
       "      <td>60.0</td>\n",
       "      <td>90.0</td>\n",
       "      <td>81.0</td>\n",
       "    </tr>\n",
       "  </tbody>\n",
       "</table>\n",
       "</div>"
      ],
      "text/plain": [
       "                name  age     sport  Biology_score  Maths_score  English_score\n",
       "0   Emmanuel Ayomide   27  Football           73.0         58.0           65.0\n",
       "1       Ibrahim Musa   24  Football           92.0         56.0           80.0\n",
       "6   Franklin Oladele   18  Football           96.0          NaN           70.0\n",
       "9        Kareem Musa   24  Football           78.0         73.0           86.0\n",
       "13    Kayode Ibrahim   25  Football           58.0         67.0           84.0\n",
       "15        Ahmed Musa   24  Football           60.0         90.0           81.0"
      ]
     },
     "execution_count": 50,
     "metadata": {},
     "output_type": "execute_result"
    }
   ],
   "source": [
    "department.get_group('Football')"
   ]
  },
  {
   "cell_type": "code",
   "execution_count": 54,
   "id": "67a7544e",
   "metadata": {},
   "outputs": [
    {
     "data": {
      "text/html": [
       "<div>\n",
       "<style scoped>\n",
       "    .dataframe tbody tr th:only-of-type {\n",
       "        vertical-align: middle;\n",
       "    }\n",
       "\n",
       "    .dataframe tbody tr th {\n",
       "        vertical-align: top;\n",
       "    }\n",
       "\n",
       "    .dataframe thead th {\n",
       "        text-align: right;\n",
       "    }\n",
       "</style>\n",
       "<table border=\"1\" class=\"dataframe\">\n",
       "  <thead>\n",
       "    <tr style=\"text-align: right;\">\n",
       "      <th></th>\n",
       "      <th>name</th>\n",
       "      <th>age</th>\n",
       "      <th>sport</th>\n",
       "      <th>Biology_score</th>\n",
       "      <th>Maths_score</th>\n",
       "      <th>English_score</th>\n",
       "    </tr>\n",
       "  </thead>\n",
       "  <tbody>\n",
       "    <tr>\n",
       "      <th>12</th>\n",
       "      <td>Tobi Olaniyan</td>\n",
       "      <td>22</td>\n",
       "      <td>Volleyball</td>\n",
       "      <td>51.0</td>\n",
       "      <td>79.0</td>\n",
       "      <td>84.0</td>\n",
       "    </tr>\n",
       "    <tr>\n",
       "      <th>17</th>\n",
       "      <td>Susan James</td>\n",
       "      <td>27</td>\n",
       "      <td>Volleyball</td>\n",
       "      <td>76.0</td>\n",
       "      <td>69.0</td>\n",
       "      <td>54.0</td>\n",
       "    </tr>\n",
       "  </tbody>\n",
       "</table>\n",
       "</div>"
      ],
      "text/plain": [
       "             name  age       sport  Biology_score  Maths_score  English_score\n",
       "12  Tobi Olaniyan   22  Volleyball           51.0         79.0           84.0\n",
       "17    Susan James   27  Volleyball           76.0         69.0           54.0"
      ]
     },
     "execution_count": 54,
     "metadata": {},
     "output_type": "execute_result"
    }
   ],
   "source": [
    "department.get_group('Volleyball')"
   ]
  },
  {
   "cell_type": "code",
   "execution_count": 56,
   "id": "ff425d7a",
   "metadata": {},
   "outputs": [
    {
     "data": {
      "text/plain": [
       "sport\n",
       "Basketball    3\n",
       "Football      6\n",
       "Swimming      4\n",
       "Tennis        4\n",
       "Volleyball    2\n",
       "dtype: int64"
      ]
     },
     "execution_count": 56,
     "metadata": {},
     "output_type": "execute_result"
    }
   ],
   "source": [
    "department.size()"
   ]
  },
  {
   "cell_type": "code",
   "execution_count": 57,
   "id": "868981fd",
   "metadata": {},
   "outputs": [],
   "source": [
    "# How to get the group element"
   ]
  },
  {
   "cell_type": "code",
   "execution_count": 58,
   "id": "1e761ca8",
   "metadata": {},
   "outputs": [
    {
     "data": {
      "text/html": [
       "<div>\n",
       "<style scoped>\n",
       "    .dataframe tbody tr th:only-of-type {\n",
       "        vertical-align: middle;\n",
       "    }\n",
       "\n",
       "    .dataframe tbody tr th {\n",
       "        vertical-align: top;\n",
       "    }\n",
       "\n",
       "    .dataframe thead th {\n",
       "        text-align: right;\n",
       "    }\n",
       "</style>\n",
       "<table border=\"1\" class=\"dataframe\">\n",
       "  <thead>\n",
       "    <tr style=\"text-align: right;\">\n",
       "      <th></th>\n",
       "      <th>name</th>\n",
       "      <th>age</th>\n",
       "      <th>sport</th>\n",
       "      <th>Biology_score</th>\n",
       "      <th>Maths_score</th>\n",
       "      <th>English_score</th>\n",
       "    </tr>\n",
       "  </thead>\n",
       "  <tbody>\n",
       "    <tr>\n",
       "      <th>4</th>\n",
       "      <td>Emeka Jude</td>\n",
       "      <td>24</td>\n",
       "      <td>Basketball</td>\n",
       "      <td>86.0</td>\n",
       "      <td>80.0</td>\n",
       "      <td>93.0</td>\n",
       "    </tr>\n",
       "    <tr>\n",
       "      <th>5</th>\n",
       "      <td>Caroline Obi</td>\n",
       "      <td>27</td>\n",
       "      <td>Basketball</td>\n",
       "      <td>92.0</td>\n",
       "      <td>71.0</td>\n",
       "      <td>79.0</td>\n",
       "    </tr>\n",
       "    <tr>\n",
       "      <th>18</th>\n",
       "      <td>Zainab Mohammed</td>\n",
       "      <td>25</td>\n",
       "      <td>Basketball</td>\n",
       "      <td>64.0</td>\n",
       "      <td>95.0</td>\n",
       "      <td>94.0</td>\n",
       "    </tr>\n",
       "  </tbody>\n",
       "</table>\n",
       "</div>"
      ],
      "text/plain": [
       "               name  age       sport  Biology_score  Maths_score  \\\n",
       "4        Emeka Jude   24  Basketball           86.0         80.0   \n",
       "5      Caroline Obi   27  Basketball           92.0         71.0   \n",
       "18  Zainab Mohammed   25  Basketball           64.0         95.0   \n",
       "\n",
       "    English_score  \n",
       "4            93.0  \n",
       "5            79.0  \n",
       "18           94.0  "
      ]
     },
     "execution_count": 58,
     "metadata": {},
     "output_type": "execute_result"
    }
   ],
   "source": [
    "department.get_group('Basketball')"
   ]
  },
  {
   "cell_type": "code",
   "execution_count": 59,
   "id": "b7054518",
   "metadata": {},
   "outputs": [
    {
     "data": {
      "text/html": [
       "<div>\n",
       "<style scoped>\n",
       "    .dataframe tbody tr th:only-of-type {\n",
       "        vertical-align: middle;\n",
       "    }\n",
       "\n",
       "    .dataframe tbody tr th {\n",
       "        vertical-align: top;\n",
       "    }\n",
       "\n",
       "    .dataframe thead th {\n",
       "        text-align: right;\n",
       "    }\n",
       "</style>\n",
       "<table border=\"1\" class=\"dataframe\">\n",
       "  <thead>\n",
       "    <tr style=\"text-align: right;\">\n",
       "      <th></th>\n",
       "      <th>name</th>\n",
       "      <th>age</th>\n",
       "      <th>sport</th>\n",
       "      <th>Biology_score</th>\n",
       "      <th>Maths_score</th>\n",
       "      <th>English_score</th>\n",
       "    </tr>\n",
       "  </thead>\n",
       "  <tbody>\n",
       "    <tr>\n",
       "      <th>3</th>\n",
       "      <td>Kevin Frank</td>\n",
       "      <td>25</td>\n",
       "      <td>Tennis</td>\n",
       "      <td>53.0</td>\n",
       "      <td>85.0</td>\n",
       "      <td>74.0</td>\n",
       "    </tr>\n",
       "    <tr>\n",
       "      <th>8</th>\n",
       "      <td>Emmanuel Ovi</td>\n",
       "      <td>23</td>\n",
       "      <td>Tennis</td>\n",
       "      <td>79.0</td>\n",
       "      <td>61.0</td>\n",
       "      <td>68.0</td>\n",
       "    </tr>\n",
       "    <tr>\n",
       "      <th>11</th>\n",
       "      <td>Femi Akin</td>\n",
       "      <td>24</td>\n",
       "      <td>Tennis</td>\n",
       "      <td>90.0</td>\n",
       "      <td>97.0</td>\n",
       "      <td>85.0</td>\n",
       "    </tr>\n",
       "    <tr>\n",
       "      <th>16</th>\n",
       "      <td>Kevin Frank</td>\n",
       "      <td>25</td>\n",
       "      <td>Tennis</td>\n",
       "      <td>53.0</td>\n",
       "      <td>85.0</td>\n",
       "      <td>74.0</td>\n",
       "    </tr>\n",
       "  </tbody>\n",
       "</table>\n",
       "</div>"
      ],
      "text/plain": [
       "            name  age   sport  Biology_score  Maths_score  English_score\n",
       "3    Kevin Frank   25  Tennis           53.0         85.0           74.0\n",
       "8   Emmanuel Ovi   23  Tennis           79.0         61.0           68.0\n",
       "11     Femi Akin   24  Tennis           90.0         97.0           85.0\n",
       "16   Kevin Frank   25  Tennis           53.0         85.0           74.0"
      ]
     },
     "execution_count": 59,
     "metadata": {},
     "output_type": "execute_result"
    }
   ],
   "source": [
    "department.get_group('Tennis')"
   ]
  },
  {
   "cell_type": "code",
   "execution_count": null,
   "id": "fdd630bb",
   "metadata": {},
   "outputs": [],
   "source": [
    "new_column="
   ]
  }
 ],
 "metadata": {
  "kernelspec": {
   "display_name": "Python 3",
   "language": "python",
   "name": "python3"
  },
  "language_info": {
   "codemirror_mode": {
    "name": "ipython",
    "version": 3
   },
   "file_extension": ".py",
   "mimetype": "text/x-python",
   "name": "python",
   "nbconvert_exporter": "python",
   "pygments_lexer": "ipython3",
   "version": "3.8.8"
  }
 },
 "nbformat": 4,
 "nbformat_minor": 5
}
