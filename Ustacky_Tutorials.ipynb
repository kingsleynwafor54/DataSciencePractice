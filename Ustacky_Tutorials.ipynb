{
 "cells": [
  {
   "cell_type": "code",
   "execution_count": 2,
   "id": "49109dd7",
   "metadata": {},
   "outputs": [],
   "source": [
    "import numpy as np\n",
    "import pandas as pd"
   ]
  },
  {
   "cell_type": "code",
   "execution_count": 3,
   "id": "7c259cb9",
   "metadata": {},
   "outputs": [],
   "source": [
    "ser =pd.Series([\"Lagos\",\"Delta\",\"Kaduna\"])"
   ]
  },
  {
   "cell_type": "code",
   "execution_count": 4,
   "id": "71986db4",
   "metadata": {},
   "outputs": [
    {
     "data": {
      "text/plain": [
       "0     Lagos\n",
       "1     Delta\n",
       "2    Kaduna\n",
       "dtype: object"
      ]
     },
     "execution_count": 4,
     "metadata": {},
     "output_type": "execute_result"
    }
   ],
   "source": [
    "ser"
   ]
  },
  {
   "cell_type": "code",
   "execution_count": 5,
   "id": "87c7a662",
   "metadata": {},
   "outputs": [],
   "source": [
    "ser=pd.Series([1,2,3,4,])"
   ]
  },
  {
   "cell_type": "code",
   "execution_count": 6,
   "id": "7b7d421c",
   "metadata": {},
   "outputs": [
    {
     "data": {
      "text/plain": [
       "0    1\n",
       "1    2\n",
       "2    3\n",
       "3    4\n",
       "dtype: int64"
      ]
     },
     "execution_count": 6,
     "metadata": {},
     "output_type": "execute_result"
    }
   ],
   "source": [
    "ser"
   ]
  },
  {
   "cell_type": "code",
   "execution_count": 7,
   "id": "5d311e5b",
   "metadata": {},
   "outputs": [],
   "source": [
    "# How to create a list and pass it into a pandas series\n",
    "state=[\"Lagos\",\"Delta\",\"Kaduna\"]\n",
    "capital=[\"Ikeja\",\"Asaba\",\"Kaduna\"]"
   ]
  },
  {
   "cell_type": "code",
   "execution_count": 8,
   "id": "2767b0ad",
   "metadata": {},
   "outputs": [],
   "source": [
    "ser=pd.Series(data=capital,index=state)"
   ]
  },
  {
   "cell_type": "code",
   "execution_count": 9,
   "id": "683389e9",
   "metadata": {},
   "outputs": [
    {
     "data": {
      "text/plain": [
       "Lagos      Ikeja\n",
       "Delta      Asaba\n",
       "Kaduna    Kaduna\n",
       "dtype: object"
      ]
     },
     "execution_count": 9,
     "metadata": {},
     "output_type": "execute_result"
    }
   ],
   "source": [
    "ser"
   ]
  },
  {
   "cell_type": "code",
   "execution_count": 10,
   "id": "00c6c377",
   "metadata": {},
   "outputs": [],
   "source": [
    "# using dictionary"
   ]
  },
  {
   "cell_type": "code",
   "execution_count": 11,
   "id": "7b977a8a",
   "metadata": {},
   "outputs": [],
   "source": [
    "stat_dic={\"Lagos\":\"Ikeja\",\n",
    "          \"Delta\":\"Asaba\",\n",
    "          \"Kaduna\":\"Kaduna\"}"
   ]
  },
  {
   "cell_type": "code",
   "execution_count": 12,
   "id": "3b9acee4",
   "metadata": {},
   "outputs": [],
   "source": [
    "ser=pd.Series(stat_dic)"
   ]
  },
  {
   "cell_type": "code",
   "execution_count": 13,
   "id": "2c30d98e",
   "metadata": {},
   "outputs": [
    {
     "data": {
      "text/plain": [
       "Lagos      Ikeja\n",
       "Delta      Asaba\n",
       "Kaduna    Kaduna\n",
       "dtype: object"
      ]
     },
     "execution_count": 13,
     "metadata": {},
     "output_type": "execute_result"
    }
   ],
   "source": [
    "ser"
   ]
  },
  {
   "cell_type": "code",
   "execution_count": 14,
   "id": "b41266f3",
   "metadata": {},
   "outputs": [],
   "source": [
    "#How to create pandas series using numpy array and also how to create pandas series from a csv."
   ]
  },
  {
   "cell_type": "code",
   "execution_count": 15,
   "id": "ffbabae5",
   "metadata": {},
   "outputs": [],
   "source": [
    "arr=np.arange(1,10)"
   ]
  },
  {
   "cell_type": "code",
   "execution_count": 16,
   "id": "c4841093",
   "metadata": {},
   "outputs": [
    {
     "data": {
      "text/plain": [
       "array([1, 2, 3, 4, 5, 6, 7, 8, 9])"
      ]
     },
     "execution_count": 16,
     "metadata": {},
     "output_type": "execute_result"
    }
   ],
   "source": [
    "arr"
   ]
  },
  {
   "cell_type": "code",
   "execution_count": 17,
   "id": "d53d1748",
   "metadata": {},
   "outputs": [],
   "source": [
    "# Now you insert the array created using the numpy array into the pandas series"
   ]
  },
  {
   "cell_type": "code",
   "execution_count": 18,
   "id": "e4830e85",
   "metadata": {},
   "outputs": [],
   "source": [
    "arrSer=pd.Series(arr)"
   ]
  },
  {
   "cell_type": "code",
   "execution_count": 19,
   "id": "8e960444",
   "metadata": {},
   "outputs": [
    {
     "data": {
      "text/plain": [
       "0    1\n",
       "1    2\n",
       "2    3\n",
       "3    4\n",
       "4    5\n",
       "5    6\n",
       "6    7\n",
       "7    8\n",
       "8    9\n",
       "dtype: int32"
      ]
     },
     "execution_count": 19,
     "metadata": {},
     "output_type": "execute_result"
    }
   ],
   "source": [
    "arrSer"
   ]
  },
  {
   "cell_type": "code",
   "execution_count": 20,
   "id": "a1a38bf0",
   "metadata": {},
   "outputs": [],
   "source": [
    "# pandas automatically generate the index of this array(arrSec)"
   ]
  },
  {
   "cell_type": "code",
   "execution_count": 21,
   "id": "5c017f09",
   "metadata": {},
   "outputs": [],
   "source": [
    "arrSer1=np.random.randn(5)"
   ]
  },
  {
   "cell_type": "code",
   "execution_count": 22,
   "id": "df934bac",
   "metadata": {},
   "outputs": [],
   "source": [
    "ser=pd.Series(arrSer1)"
   ]
  },
  {
   "cell_type": "code",
   "execution_count": 23,
   "id": "d330a4a2",
   "metadata": {},
   "outputs": [
    {
     "data": {
      "text/plain": [
       "0    0.345198\n",
       "1    0.724371\n",
       "2    0.821948\n",
       "3   -0.985249\n",
       "4   -0.397712\n",
       "dtype: float64"
      ]
     },
     "execution_count": 23,
     "metadata": {},
     "output_type": "execute_result"
    }
   ],
   "source": [
    "ser"
   ]
  },
  {
   "cell_type": "code",
   "execution_count": 24,
   "id": "af7be7e3",
   "metadata": {},
   "outputs": [],
   "source": [
    "# \"'randn' is random normal distribution  us to generate random numbers in the numpy class\""
   ]
  },
  {
   "cell_type": "code",
   "execution_count": 25,
   "id": "86dccb99",
   "metadata": {},
   "outputs": [],
   "source": [
    "# How to read csv and convert\n",
    "# When you read a csv file into pandas it get returned as a dataframe"
   ]
  },
  {
   "cell_type": "code",
   "execution_count": 26,
   "id": "7655b606",
   "metadata": {},
   "outputs": [],
   "source": [
    "df_value1=pd.read_csv(\"students.csv\")"
   ]
  },
  {
   "cell_type": "code",
   "execution_count": 27,
   "id": "bcfa0bbf",
   "metadata": {},
   "outputs": [
    {
     "data": {
      "text/html": [
       "<div>\n",
       "<style scoped>\n",
       "    .dataframe tbody tr th:only-of-type {\n",
       "        vertical-align: middle;\n",
       "    }\n",
       "\n",
       "    .dataframe tbody tr th {\n",
       "        vertical-align: top;\n",
       "    }\n",
       "\n",
       "    .dataframe thead th {\n",
       "        text-align: right;\n",
       "    }\n",
       "</style>\n",
       "<table border=\"1\" class=\"dataframe\">\n",
       "  <thead>\n",
       "    <tr style=\"text-align: right;\">\n",
       "      <th></th>\n",
       "      <th>name</th>\n",
       "      <th>age</th>\n",
       "      <th>sport</th>\n",
       "      <th>Biology_score</th>\n",
       "      <th>Maths_score</th>\n",
       "      <th>English_score</th>\n",
       "    </tr>\n",
       "  </thead>\n",
       "  <tbody>\n",
       "    <tr>\n",
       "      <th>0</th>\n",
       "      <td>Emmanuel Ayomide</td>\n",
       "      <td>27</td>\n",
       "      <td>Football</td>\n",
       "      <td>73.0</td>\n",
       "      <td>58.0</td>\n",
       "      <td>65.0</td>\n",
       "    </tr>\n",
       "    <tr>\n",
       "      <th>1</th>\n",
       "      <td>Ibrahim Musa</td>\n",
       "      <td>24</td>\n",
       "      <td>Football</td>\n",
       "      <td>92.0</td>\n",
       "      <td>56.0</td>\n",
       "      <td>80.0</td>\n",
       "    </tr>\n",
       "    <tr>\n",
       "      <th>2</th>\n",
       "      <td>Sesan Obi</td>\n",
       "      <td>24</td>\n",
       "      <td>Swimming</td>\n",
       "      <td>67.0</td>\n",
       "      <td>95.0</td>\n",
       "      <td>71.0</td>\n",
       "    </tr>\n",
       "    <tr>\n",
       "      <th>3</th>\n",
       "      <td>Kevin Frank</td>\n",
       "      <td>25</td>\n",
       "      <td>Tennis</td>\n",
       "      <td>53.0</td>\n",
       "      <td>85.0</td>\n",
       "      <td>74.0</td>\n",
       "    </tr>\n",
       "    <tr>\n",
       "      <th>4</th>\n",
       "      <td>Emeka Jude</td>\n",
       "      <td>24</td>\n",
       "      <td>Basketball</td>\n",
       "      <td>86.0</td>\n",
       "      <td>80.0</td>\n",
       "      <td>93.0</td>\n",
       "    </tr>\n",
       "    <tr>\n",
       "      <th>5</th>\n",
       "      <td>Caroline Obi</td>\n",
       "      <td>27</td>\n",
       "      <td>Basketball</td>\n",
       "      <td>92.0</td>\n",
       "      <td>71.0</td>\n",
       "      <td>79.0</td>\n",
       "    </tr>\n",
       "    <tr>\n",
       "      <th>6</th>\n",
       "      <td>Franklin Oladele</td>\n",
       "      <td>18</td>\n",
       "      <td>Football</td>\n",
       "      <td>96.0</td>\n",
       "      <td>NaN</td>\n",
       "      <td>70.0</td>\n",
       "    </tr>\n",
       "    <tr>\n",
       "      <th>7</th>\n",
       "      <td>Kola Ola</td>\n",
       "      <td>28</td>\n",
       "      <td>Swimming</td>\n",
       "      <td>82.0</td>\n",
       "      <td>95.0</td>\n",
       "      <td>58.0</td>\n",
       "    </tr>\n",
       "    <tr>\n",
       "      <th>8</th>\n",
       "      <td>Emmanuel Ovi</td>\n",
       "      <td>23</td>\n",
       "      <td>Tennis</td>\n",
       "      <td>79.0</td>\n",
       "      <td>61.0</td>\n",
       "      <td>68.0</td>\n",
       "    </tr>\n",
       "    <tr>\n",
       "      <th>9</th>\n",
       "      <td>Kareem Musa</td>\n",
       "      <td>24</td>\n",
       "      <td>Football</td>\n",
       "      <td>78.0</td>\n",
       "      <td>73.0</td>\n",
       "      <td>86.0</td>\n",
       "    </tr>\n",
       "    <tr>\n",
       "      <th>10</th>\n",
       "      <td>Mustapha Ahmed</td>\n",
       "      <td>24</td>\n",
       "      <td>NaN</td>\n",
       "      <td>88.0</td>\n",
       "      <td>84.0</td>\n",
       "      <td>NaN</td>\n",
       "    </tr>\n",
       "    <tr>\n",
       "      <th>11</th>\n",
       "      <td>Femi Akin</td>\n",
       "      <td>24</td>\n",
       "      <td>Tennis</td>\n",
       "      <td>90.0</td>\n",
       "      <td>97.0</td>\n",
       "      <td>85.0</td>\n",
       "    </tr>\n",
       "    <tr>\n",
       "      <th>12</th>\n",
       "      <td>Tobi Olaniyan</td>\n",
       "      <td>22</td>\n",
       "      <td>Volleyball</td>\n",
       "      <td>51.0</td>\n",
       "      <td>79.0</td>\n",
       "      <td>84.0</td>\n",
       "    </tr>\n",
       "    <tr>\n",
       "      <th>13</th>\n",
       "      <td>Kayode Ibrahim</td>\n",
       "      <td>25</td>\n",
       "      <td>Football</td>\n",
       "      <td>58.0</td>\n",
       "      <td>67.0</td>\n",
       "      <td>84.0</td>\n",
       "    </tr>\n",
       "    <tr>\n",
       "      <th>14</th>\n",
       "      <td>Nnamdi Ike</td>\n",
       "      <td>26</td>\n",
       "      <td>Swimming</td>\n",
       "      <td>NaN</td>\n",
       "      <td>62.0</td>\n",
       "      <td>88.0</td>\n",
       "    </tr>\n",
       "    <tr>\n",
       "      <th>15</th>\n",
       "      <td>Ahmed Musa</td>\n",
       "      <td>24</td>\n",
       "      <td>Football</td>\n",
       "      <td>60.0</td>\n",
       "      <td>90.0</td>\n",
       "      <td>81.0</td>\n",
       "    </tr>\n",
       "    <tr>\n",
       "      <th>16</th>\n",
       "      <td>Kevin Frank</td>\n",
       "      <td>25</td>\n",
       "      <td>Tennis</td>\n",
       "      <td>53.0</td>\n",
       "      <td>85.0</td>\n",
       "      <td>74.0</td>\n",
       "    </tr>\n",
       "    <tr>\n",
       "      <th>17</th>\n",
       "      <td>Susan James</td>\n",
       "      <td>27</td>\n",
       "      <td>Volleyball</td>\n",
       "      <td>76.0</td>\n",
       "      <td>69.0</td>\n",
       "      <td>54.0</td>\n",
       "    </tr>\n",
       "    <tr>\n",
       "      <th>18</th>\n",
       "      <td>Zainab Mohammed</td>\n",
       "      <td>25</td>\n",
       "      <td>Basketball</td>\n",
       "      <td>64.0</td>\n",
       "      <td>95.0</td>\n",
       "      <td>94.0</td>\n",
       "    </tr>\n",
       "    <tr>\n",
       "      <th>19</th>\n",
       "      <td>Sesan Obi</td>\n",
       "      <td>26</td>\n",
       "      <td>Swimming</td>\n",
       "      <td>67.0</td>\n",
       "      <td>95.0</td>\n",
       "      <td>71.0</td>\n",
       "    </tr>\n",
       "  </tbody>\n",
       "</table>\n",
       "</div>"
      ],
      "text/plain": [
       "                name  age       sport  Biology_score  Maths_score  \\\n",
       "0   Emmanuel Ayomide   27    Football           73.0         58.0   \n",
       "1       Ibrahim Musa   24    Football           92.0         56.0   \n",
       "2          Sesan Obi   24    Swimming           67.0         95.0   \n",
       "3        Kevin Frank   25      Tennis           53.0         85.0   \n",
       "4         Emeka Jude   24  Basketball           86.0         80.0   \n",
       "5       Caroline Obi   27  Basketball           92.0         71.0   \n",
       "6   Franklin Oladele   18    Football           96.0          NaN   \n",
       "7           Kola Ola   28    Swimming           82.0         95.0   \n",
       "8       Emmanuel Ovi   23      Tennis           79.0         61.0   \n",
       "9        Kareem Musa   24    Football           78.0         73.0   \n",
       "10    Mustapha Ahmed   24         NaN           88.0         84.0   \n",
       "11         Femi Akin   24      Tennis           90.0         97.0   \n",
       "12     Tobi Olaniyan   22  Volleyball           51.0         79.0   \n",
       "13    Kayode Ibrahim   25    Football           58.0         67.0   \n",
       "14        Nnamdi Ike   26    Swimming            NaN         62.0   \n",
       "15        Ahmed Musa   24    Football           60.0         90.0   \n",
       "16       Kevin Frank   25      Tennis           53.0         85.0   \n",
       "17       Susan James   27  Volleyball           76.0         69.0   \n",
       "18   Zainab Mohammed   25  Basketball           64.0         95.0   \n",
       "19         Sesan Obi   26    Swimming           67.0         95.0   \n",
       "\n",
       "    English_score  \n",
       "0            65.0  \n",
       "1            80.0  \n",
       "2            71.0  \n",
       "3            74.0  \n",
       "4            93.0  \n",
       "5            79.0  \n",
       "6            70.0  \n",
       "7            58.0  \n",
       "8            68.0  \n",
       "9            86.0  \n",
       "10            NaN  \n",
       "11           85.0  \n",
       "12           84.0  \n",
       "13           84.0  \n",
       "14           88.0  \n",
       "15           81.0  \n",
       "16           74.0  \n",
       "17           54.0  \n",
       "18           94.0  \n",
       "19           71.0  "
      ]
     },
     "execution_count": 27,
     "metadata": {},
     "output_type": "execute_result"
    }
   ],
   "source": [
    "df_value1"
   ]
  },
  {
   "cell_type": "code",
   "execution_count": 28,
   "id": "1d3309b1",
   "metadata": {},
   "outputs": [],
   "source": [
    "#This is how a data-frame looks like but our goal is to import a series\n",
    "#And series takes in a column cos it's a one-dimensional label array"
   ]
  },
  {
   "cell_type": "code",
   "execution_count": 29,
   "id": "e91e030a",
   "metadata": {},
   "outputs": [
    {
     "data": {
      "text/html": [
       "<div>\n",
       "<style scoped>\n",
       "    .dataframe tbody tr th:only-of-type {\n",
       "        vertical-align: middle;\n",
       "    }\n",
       "\n",
       "    .dataframe tbody tr th {\n",
       "        vertical-align: top;\n",
       "    }\n",
       "\n",
       "    .dataframe thead th {\n",
       "        text-align: right;\n",
       "    }\n",
       "</style>\n",
       "<table border=\"1\" class=\"dataframe\">\n",
       "  <thead>\n",
       "    <tr style=\"text-align: right;\">\n",
       "      <th></th>\n",
       "      <th>name</th>\n",
       "    </tr>\n",
       "  </thead>\n",
       "  <tbody>\n",
       "    <tr>\n",
       "      <th>0</th>\n",
       "      <td>Emmanuel Ayomide</td>\n",
       "    </tr>\n",
       "    <tr>\n",
       "      <th>1</th>\n",
       "      <td>Ibrahim Musa</td>\n",
       "    </tr>\n",
       "    <tr>\n",
       "      <th>2</th>\n",
       "      <td>Sesan Obi</td>\n",
       "    </tr>\n",
       "    <tr>\n",
       "      <th>3</th>\n",
       "      <td>Kevin Frank</td>\n",
       "    </tr>\n",
       "    <tr>\n",
       "      <th>4</th>\n",
       "      <td>Emeka Jude</td>\n",
       "    </tr>\n",
       "    <tr>\n",
       "      <th>5</th>\n",
       "      <td>Caroline Obi</td>\n",
       "    </tr>\n",
       "    <tr>\n",
       "      <th>6</th>\n",
       "      <td>Franklin Oladele</td>\n",
       "    </tr>\n",
       "    <tr>\n",
       "      <th>7</th>\n",
       "      <td>Kola Ola</td>\n",
       "    </tr>\n",
       "    <tr>\n",
       "      <th>8</th>\n",
       "      <td>Emmanuel Ovi</td>\n",
       "    </tr>\n",
       "    <tr>\n",
       "      <th>9</th>\n",
       "      <td>Kareem Musa</td>\n",
       "    </tr>\n",
       "    <tr>\n",
       "      <th>10</th>\n",
       "      <td>Mustapha Ahmed</td>\n",
       "    </tr>\n",
       "    <tr>\n",
       "      <th>11</th>\n",
       "      <td>Femi Akin</td>\n",
       "    </tr>\n",
       "    <tr>\n",
       "      <th>12</th>\n",
       "      <td>Tobi Olaniyan</td>\n",
       "    </tr>\n",
       "    <tr>\n",
       "      <th>13</th>\n",
       "      <td>Kayode Ibrahim</td>\n",
       "    </tr>\n",
       "    <tr>\n",
       "      <th>14</th>\n",
       "      <td>Nnamdi Ike</td>\n",
       "    </tr>\n",
       "    <tr>\n",
       "      <th>15</th>\n",
       "      <td>Ahmed Musa</td>\n",
       "    </tr>\n",
       "    <tr>\n",
       "      <th>16</th>\n",
       "      <td>Kevin Frank</td>\n",
       "    </tr>\n",
       "    <tr>\n",
       "      <th>17</th>\n",
       "      <td>Susan James</td>\n",
       "    </tr>\n",
       "    <tr>\n",
       "      <th>18</th>\n",
       "      <td>Zainab Mohammed</td>\n",
       "    </tr>\n",
       "    <tr>\n",
       "      <th>19</th>\n",
       "      <td>Sesan Obi</td>\n",
       "    </tr>\n",
       "  </tbody>\n",
       "</table>\n",
       "</div>"
      ],
      "text/plain": [
       "                name\n",
       "0   Emmanuel Ayomide\n",
       "1       Ibrahim Musa\n",
       "2          Sesan Obi\n",
       "3        Kevin Frank\n",
       "4         Emeka Jude\n",
       "5       Caroline Obi\n",
       "6   Franklin Oladele\n",
       "7           Kola Ola\n",
       "8       Emmanuel Ovi\n",
       "9        Kareem Musa\n",
       "10    Mustapha Ahmed\n",
       "11         Femi Akin\n",
       "12     Tobi Olaniyan\n",
       "13    Kayode Ibrahim\n",
       "14        Nnamdi Ike\n",
       "15        Ahmed Musa\n",
       "16       Kevin Frank\n",
       "17       Susan James\n",
       "18   Zainab Mohammed\n",
       "19         Sesan Obi"
      ]
     },
     "execution_count": 29,
     "metadata": {},
     "output_type": "execute_result"
    }
   ],
   "source": [
    "pd.read_csv(\"students.csv\",usecols=[\"name\"])"
   ]
  },
  {
   "cell_type": "code",
   "execution_count": 30,
   "id": "354a6078",
   "metadata": {},
   "outputs": [],
   "source": [
    "#Now let's create a series out of this data frame using a parameter called squeez"
   ]
  },
  {
   "cell_type": "code",
   "execution_count": 67,
   "id": "6e508920",
   "metadata": {},
   "outputs": [],
   "source": [
    "serd=pd.read_csv(\"students.csv\",usecols=[\"name\"],squeeze=True)"
   ]
  },
  {
   "cell_type": "code",
   "execution_count": 32,
   "id": "9a421f9b",
   "metadata": {},
   "outputs": [],
   "source": [
    "# Pandas Attributes and Methods"
   ]
  },
  {
   "cell_type": "code",
   "execution_count": 33,
   "id": "b8850063",
   "metadata": {},
   "outputs": [],
   "source": [
    "a_list=[40,2,1,53,34]\n",
    "stat_dict={'Lagos':'Ikeja',\n",
    "      'Delta':'Asaba',\n",
    "      'Kaduna':'Kaduna'}"
   ]
  },
  {
   "cell_type": "code",
   "execution_count": 34,
   "id": "9ae4ea45",
   "metadata": {},
   "outputs": [],
   "source": [
    "ser=pd.Series(stat_dict)"
   ]
  },
  {
   "cell_type": "code",
   "execution_count": 35,
   "id": "48f132b6",
   "metadata": {},
   "outputs": [
    {
     "data": {
      "text/plain": [
       "Lagos      Ikeja\n",
       "Delta      Asaba\n",
       "Kaduna    Kaduna\n",
       "dtype: object"
      ]
     },
     "execution_count": 35,
     "metadata": {},
     "output_type": "execute_result"
    }
   ],
   "source": [
    "ser"
   ]
  },
  {
   "cell_type": "code",
   "execution_count": 36,
   "id": "7e61468b",
   "metadata": {},
   "outputs": [
    {
     "data": {
      "text/plain": [
       "Index(['Lagos', 'Delta', 'Kaduna'], dtype='object')"
      ]
     },
     "execution_count": 36,
     "metadata": {},
     "output_type": "execute_result"
    }
   ],
   "source": [
    "ser.index"
   ]
  },
  {
   "cell_type": "code",
   "execution_count": 37,
   "id": "587f51ee",
   "metadata": {},
   "outputs": [
    {
     "data": {
      "text/plain": [
       "array(['Ikeja', 'Asaba', 'Kaduna'], dtype=object)"
      ]
     },
     "execution_count": 37,
     "metadata": {},
     "output_type": "execute_result"
    }
   ],
   "source": [
    "ser.values"
   ]
  },
  {
   "cell_type": "raw",
   "id": "a9be3fef",
   "metadata": {},
   "source": [
    "ser.dtype"
   ]
  },
  {
   "cell_type": "code",
   "execution_count": 38,
   "id": "6a6a5692",
   "metadata": {},
   "outputs": [
    {
     "data": {
      "text/plain": [
       "Lagos      Ikeja\n",
       "Delta      Asaba\n",
       "Kaduna    Kaduna\n",
       "dtype: object"
      ]
     },
     "execution_count": 38,
     "metadata": {},
     "output_type": "execute_result"
    }
   ],
   "source": [
    "ser"
   ]
  },
  {
   "cell_type": "code",
   "execution_count": 39,
   "id": "6952667c",
   "metadata": {},
   "outputs": [],
   "source": [
    "ser1=pd.Series(a_list)"
   ]
  },
  {
   "cell_type": "code",
   "execution_count": 40,
   "id": "b887f0e1",
   "metadata": {},
   "outputs": [
    {
     "data": {
      "text/plain": [
       "26.0"
      ]
     },
     "execution_count": 40,
     "metadata": {},
     "output_type": "execute_result"
    }
   ],
   "source": [
    "ser1.mean()"
   ]
  },
  {
   "cell_type": "code",
   "execution_count": 41,
   "id": "9dd44ffa",
   "metadata": {},
   "outputs": [
    {
     "data": {
      "text/plain": [
       "dtype('O')"
      ]
     },
     "execution_count": 41,
     "metadata": {},
     "output_type": "execute_result"
    }
   ],
   "source": [
    "ser.dtype"
   ]
  },
  {
   "cell_type": "code",
   "execution_count": 42,
   "id": "586381f0",
   "metadata": {},
   "outputs": [],
   "source": [
    "# Checking different methods from the pandas series"
   ]
  },
  {
   "cell_type": "code",
   "execution_count": 43,
   "id": "514e7c74",
   "metadata": {},
   "outputs": [
    {
     "data": {
      "text/plain": [
       "130"
      ]
     },
     "execution_count": 43,
     "metadata": {},
     "output_type": "execute_result"
    }
   ],
   "source": [
    "ser1.sum()"
   ]
  },
  {
   "cell_type": "code",
   "execution_count": 44,
   "id": "a784cdca",
   "metadata": {},
   "outputs": [],
   "source": [
    "ser=pd.Series(stat_dict)"
   ]
  },
  {
   "cell_type": "code",
   "execution_count": 45,
   "id": "8576ab1f",
   "metadata": {},
   "outputs": [
    {
     "data": {
      "text/plain": [
       "Lagos      Ikeja\n",
       "Delta      Asaba\n",
       "Kaduna    Kaduna\n",
       "dtype: object"
      ]
     },
     "execution_count": 45,
     "metadata": {},
     "output_type": "execute_result"
    }
   ],
   "source": [
    "ser"
   ]
  },
  {
   "cell_type": "code",
   "execution_count": 46,
   "id": "5d3d5bab",
   "metadata": {},
   "outputs": [],
   "source": [
    "# Here we a taking a look into python built in function in pandas"
   ]
  },
  {
   "cell_type": "code",
   "execution_count": 47,
   "id": "00c65922",
   "metadata": {},
   "outputs": [],
   "source": [
    "list1=list(ser1)"
   ]
  },
  {
   "cell_type": "code",
   "execution_count": 48,
   "id": "c056abcd",
   "metadata": {},
   "outputs": [
    {
     "data": {
      "text/plain": [
       "[40, 2, 1, 53, 34]"
      ]
     },
     "execution_count": 48,
     "metadata": {},
     "output_type": "execute_result"
    }
   ],
   "source": [
    "list1"
   ]
  },
  {
   "cell_type": "code",
   "execution_count": 49,
   "id": "36db2836",
   "metadata": {},
   "outputs": [
    {
     "data": {
      "text/plain": [
       "{'Lagos': 'Ikeja', 'Delta': 'Asaba', 'Kaduna': 'Kaduna'}"
      ]
     },
     "execution_count": 49,
     "metadata": {},
     "output_type": "execute_result"
    }
   ],
   "source": [
    "dict(ser)"
   ]
  },
  {
   "cell_type": "code",
   "execution_count": 50,
   "id": "47b712b6",
   "metadata": {},
   "outputs": [
    {
     "data": {
      "text/plain": [
       "[1, 2, 34, 40, 53]"
      ]
     },
     "execution_count": 50,
     "metadata": {},
     "output_type": "execute_result"
    }
   ],
   "source": [
    "sorted(ser1)"
   ]
  },
  {
   "cell_type": "code",
   "execution_count": 51,
   "id": "62d3c9c1",
   "metadata": {},
   "outputs": [
    {
     "data": {
      "text/plain": [
       "5"
      ]
     },
     "execution_count": 51,
     "metadata": {},
     "output_type": "execute_result"
    }
   ],
   "source": [
    "len(ser1)"
   ]
  },
  {
   "cell_type": "code",
   "execution_count": 52,
   "id": "91653aa0",
   "metadata": {},
   "outputs": [
    {
     "data": {
      "text/plain": [
       "3"
      ]
     },
     "execution_count": 52,
     "metadata": {},
     "output_type": "execute_result"
    }
   ],
   "source": [
    "len(ser)"
   ]
  },
  {
   "cell_type": "code",
   "execution_count": 53,
   "id": "0c58af0a",
   "metadata": {},
   "outputs": [],
   "source": [
    "# How to extract values from series\n",
    "# Extracting by index value\n",
    "# Extract by Labels\n",
    "# Use built in functions to extract values off our series"
   ]
  },
  {
   "cell_type": "code",
   "execution_count": null,
   "id": "260295e4",
   "metadata": {},
   "outputs": [],
   "source": []
  },
  {
   "cell_type": "code",
   "execution_count": 54,
   "id": "3bf2d0c3",
   "metadata": {},
   "outputs": [],
   "source": [
    "b_list=[20,30,40,50]\n",
    "state_dict={\n",
    "    'Lagos':'Ikeja',\n",
    "    'Delta':\"Asaba\",\n",
    "    \"Kaduna\":\"Kaduna\"\n",
    "}"
   ]
  },
  {
   "cell_type": "code",
   "execution_count": 55,
   "id": "2a3e7551",
   "metadata": {},
   "outputs": [],
   "source": [
    "n_ser=pd.Series(state_dict)"
   ]
  },
  {
   "cell_type": "code",
   "execution_count": 56,
   "id": "5d2c4ca7",
   "metadata": {},
   "outputs": [
    {
     "data": {
      "text/plain": [
       "Lagos      Ikeja\n",
       "Delta      Asaba\n",
       "Kaduna    Kaduna\n",
       "dtype: object"
      ]
     },
     "execution_count": 56,
     "metadata": {},
     "output_type": "execute_result"
    }
   ],
   "source": [
    "n_ser"
   ]
  },
  {
   "cell_type": "code",
   "execution_count": 57,
   "id": "f3691afb",
   "metadata": {},
   "outputs": [],
   "source": [
    "ser1=pd.Series(b_list)"
   ]
  },
  {
   "cell_type": "code",
   "execution_count": 58,
   "id": "5b39fd35",
   "metadata": {},
   "outputs": [
    {
     "data": {
      "text/plain": [
       "0    20\n",
       "1    30\n",
       "2    40\n",
       "3    50\n",
       "dtype: int64"
      ]
     },
     "execution_count": 58,
     "metadata": {},
     "output_type": "execute_result"
    }
   ],
   "source": [
    "ser1"
   ]
  },
  {
   "cell_type": "code",
   "execution_count": 68,
   "id": "54ea66f6",
   "metadata": {},
   "outputs": [
    {
     "data": {
      "text/plain": [
       "0     Emmanuel Ayomide\n",
       "1         Ibrahim Musa\n",
       "2            Sesan Obi\n",
       "3          Kevin Frank\n",
       "4           Emeka Jude\n",
       "5         Caroline Obi\n",
       "6     Franklin Oladele\n",
       "7             Kola Ola\n",
       "8         Emmanuel Ovi\n",
       "9          Kareem Musa\n",
       "10      Mustapha Ahmed\n",
       "11           Femi Akin\n",
       "12       Tobi Olaniyan\n",
       "13      Kayode Ibrahim\n",
       "14          Nnamdi Ike\n",
       "15          Ahmed Musa\n",
       "16         Kevin Frank\n",
       "17         Susan James\n",
       "18     Zainab Mohammed\n",
       "19           Sesan Obi\n",
       "Name: name, dtype: object"
      ]
     },
     "execution_count": 68,
     "metadata": {},
     "output_type": "execute_result"
    }
   ],
   "source": [
    "serd"
   ]
  },
  {
   "cell_type": "code",
   "execution_count": 72,
   "id": "558398eb",
   "metadata": {},
   "outputs": [
    {
     "data": {
      "text/plain": [
       "40"
      ]
     },
     "execution_count": 72,
     "metadata": {},
     "output_type": "execute_result"
    }
   ],
   "source": [
    "ser1[2]"
   ]
  },
  {
   "cell_type": "code",
   "execution_count": 71,
   "id": "8eae69f6",
   "metadata": {},
   "outputs": [
    {
     "data": {
      "text/plain": [
       "0    20\n",
       "1    30\n",
       "2    40\n",
       "dtype: int64"
      ]
     },
     "execution_count": 71,
     "metadata": {},
     "output_type": "execute_result"
    }
   ],
   "source": [
    "ser1[0:3]"
   ]
  },
  {
   "cell_type": "code",
   "execution_count": 75,
   "id": "8b3fee3b",
   "metadata": {},
   "outputs": [
    {
     "data": {
      "text/plain": [
       "0    20\n",
       "2    40\n",
       "dtype: int64"
      ]
     },
     "execution_count": 75,
     "metadata": {},
     "output_type": "execute_result"
    }
   ],
   "source": [
    "# This is slicing out information from a dataset \n",
    "ser1[[0,2]"
   ]
  },
  {
   "cell_type": "code",
   "execution_count": 77,
   "id": "6e69797b",
   "metadata": {},
   "outputs": [
    {
     "data": {
      "text/plain": [
       "'Sesan Obi'"
      ]
     },
     "execution_count": 77,
     "metadata": {},
     "output_type": "execute_result"
    }
   ],
   "source": [
    "serd[19]"
   ]
  },
  {
   "cell_type": "code",
   "execution_count": 78,
   "id": "6bd89857",
   "metadata": {},
   "outputs": [
    {
     "data": {
      "text/plain": [
       "Lagos      Ikeja\n",
       "Delta      Asaba\n",
       "Kaduna    Kaduna\n",
       "dtype: object"
      ]
     },
     "execution_count": 78,
     "metadata": {},
     "output_type": "execute_result"
    }
   ],
   "source": [
    "n_ser"
   ]
  },
  {
   "cell_type": "code",
   "execution_count": 80,
   "id": "d3e3bbc9",
   "metadata": {},
   "outputs": [
    {
     "data": {
      "text/plain": [
       "Lagos      Ikeja\n",
       "Kaduna    Kaduna\n",
       "dtype: object"
      ]
     },
     "execution_count": 80,
     "metadata": {},
     "output_type": "execute_result"
    }
   ],
   "source": [
    "n_ser[[0,2]]"
   ]
  },
  {
   "cell_type": "code",
   "execution_count": 82,
   "id": "1561940a",
   "metadata": {},
   "outputs": [
    {
     "data": {
      "text/plain": [
       "'Ikeja'"
      ]
     },
     "execution_count": 82,
     "metadata": {},
     "output_type": "execute_result"
    }
   ],
   "source": [
    "# Using the label value to index out this series\n",
    "n_ser['Lagos']"
   ]
  },
  {
   "cell_type": "code",
   "execution_count": 83,
   "id": "083d83aa",
   "metadata": {},
   "outputs": [
    {
     "data": {
      "text/plain": [
       "Lagos      Ikeja\n",
       "Kaduna    Kaduna\n",
       "dtype: object"
      ]
     },
     "execution_count": 83,
     "metadata": {},
     "output_type": "execute_result"
    }
   ],
   "source": [
    "# You can also pass in more than one label to find in the values of more than one indice\n",
    "n_ser[['Lagos','Kaduna']]"
   ]
  },
  {
   "cell_type": "code",
   "execution_count": 85,
   "id": "6654b7d3",
   "metadata": {},
   "outputs": [
    {
     "data": {
      "text/plain": [
       "'Ikeja'"
      ]
     },
     "execution_count": 85,
     "metadata": {},
     "output_type": "execute_result"
    }
   ],
   "source": [
    "n_ser.get('Lagos')"
   ]
  },
  {
   "cell_type": "code",
   "execution_count": 99,
   "id": "c327cb6f",
   "metadata": {},
   "outputs": [],
   "source": [
    "py=np.random.randn(8)+10"
   ]
  },
  {
   "cell_type": "code",
   "execution_count": 102,
   "id": "85919008",
   "metadata": {},
   "outputs": [
    {
     "data": {
      "text/plain": [
       "array([10.77791723, 11.94536947, 10.09904675,  9.53929546, 11.34479195,\n",
       "       10.83972225,  9.50982223,  9.0493542 ])"
      ]
     },
     "execution_count": 102,
     "metadata": {},
     "output_type": "execute_result"
    }
   ],
   "source": [
    "py"
   ]
  },
  {
   "cell_type": "code",
   "execution_count": 100,
   "id": "c577e16f",
   "metadata": {},
   "outputs": [],
   "source": [
    "pu=pd.Series(py)"
   ]
  },
  {
   "cell_type": "code",
   "execution_count": 105,
   "id": "808b3e3e",
   "metadata": {},
   "outputs": [
    {
     "data": {
      "text/plain": [
       "0         10.777917\n",
       "1         11.945369\n",
       "2         10.099047\n",
       "3          9.539295\n",
       "4         11.344792\n",
       "5         10.839722\n",
       "6          9.509822\n",
       "7          9.049354\n",
       "Lagos         Ikeja\n",
       "Delta         Asaba\n",
       "Kaduna       Kaduna\n",
       "dtype: object"
      ]
     },
     "execution_count": 105,
     "metadata": {},
     "output_type": "execute_result"
    }
   ],
   "source": [
    "pu.append(n_ser)"
   ]
  },
  {
   "cell_type": "code",
   "execution_count": 106,
   "id": "555bed97",
   "metadata": {},
   "outputs": [],
   "source": [
    "# Arithmetic Operations\n",
    "# Statistical Computation\n",
    "c_list=[40,2,1,53,34]"
   ]
  },
  {
   "cell_type": "code",
   "execution_count": 107,
   "id": "81b5e771",
   "metadata": {},
   "outputs": [],
   "source": [
    "ser_n=pd.Series(c_list)"
   ]
  },
  {
   "cell_type": "code",
   "execution_count": 108,
   "id": "549c51f9",
   "metadata": {},
   "outputs": [
    {
     "data": {
      "text/plain": [
       "0    40\n",
       "1     2\n",
       "2     1\n",
       "3    53\n",
       "4    34\n",
       "dtype: int64"
      ]
     },
     "execution_count": 108,
     "metadata": {},
     "output_type": "execute_result"
    }
   ],
   "source": [
    "ser_n"
   ]
  },
  {
   "cell_type": "code",
   "execution_count": 109,
   "id": "0e70397c",
   "metadata": {},
   "outputs": [
    {
     "data": {
      "text/plain": [
       "1"
      ]
     },
     "execution_count": 109,
     "metadata": {},
     "output_type": "execute_result"
    }
   ],
   "source": [
    "# How to return the minimum value in a list\n",
    "ser_n.min()"
   ]
  },
  {
   "cell_type": "code",
   "execution_count": 110,
   "id": "4b6a6b67",
   "metadata": {},
   "outputs": [
    {
     "data": {
      "text/plain": [
       "53"
      ]
     },
     "execution_count": 110,
     "metadata": {},
     "output_type": "execute_result"
    }
   ],
   "source": [
    "ser_n.max()"
   ]
  },
  {
   "cell_type": "code",
   "execution_count": 111,
   "id": "55eb3e14",
   "metadata": {},
   "outputs": [
    {
     "data": {
      "text/plain": [
       "3"
      ]
     },
     "execution_count": 111,
     "metadata": {},
     "output_type": "execute_result"
    }
   ],
   "source": [
    "# How to return the index of the maximum number\n",
    "ser_n.idxmax()"
   ]
  },
  {
   "cell_type": "code",
   "execution_count": 112,
   "id": "a3efe905",
   "metadata": {},
   "outputs": [
    {
     "data": {
      "text/plain": [
       "2"
      ]
     },
     "execution_count": 112,
     "metadata": {},
     "output_type": "execute_result"
    }
   ],
   "source": [
    "ser_n.idxmin()"
   ]
  },
  {
   "cell_type": "code",
   "execution_count": 114,
   "id": "3cedff19",
   "metadata": {},
   "outputs": [
    {
     "data": {
      "text/plain": [
       "1"
      ]
     },
     "execution_count": 114,
     "metadata": {},
     "output_type": "execute_result"
    }
   ],
   "source": [
    "ser_n[ser_n.idxmin()]"
   ]
  },
  {
   "cell_type": "code",
   "execution_count": 115,
   "id": "da01ea0c",
   "metadata": {},
   "outputs": [
    {
     "data": {
      "text/plain": [
       "130"
      ]
     },
     "execution_count": 115,
     "metadata": {},
     "output_type": "execute_result"
    }
   ],
   "source": [
    "# Summing all the element in the series\n",
    "ser_n.sum()"
   ]
  },
  {
   "cell_type": "code",
   "execution_count": 116,
   "id": "df2353b3",
   "metadata": {},
   "outputs": [
    {
     "data": {
      "text/plain": [
       "5"
      ]
     },
     "execution_count": 116,
     "metadata": {},
     "output_type": "execute_result"
    }
   ],
   "source": [
    "ser_n.count()"
   ]
  },
  {
   "cell_type": "code",
   "execution_count": 117,
   "id": "a0a11bf6",
   "metadata": {},
   "outputs": [],
   "source": [
    "avg=ser_n.sum()/ser_n.count()"
   ]
  },
  {
   "cell_type": "code",
   "execution_count": 118,
   "id": "6ee7ceae",
   "metadata": {},
   "outputs": [
    {
     "data": {
      "text/plain": [
       "26.0"
      ]
     },
     "execution_count": 118,
     "metadata": {},
     "output_type": "execute_result"
    }
   ],
   "source": [
    "avg"
   ]
  },
  {
   "cell_type": "code",
   "execution_count": 119,
   "id": "1e901936",
   "metadata": {},
   "outputs": [
    {
     "data": {
      "text/plain": [
       "count     5.000000\n",
       "mean     26.000000\n",
       "std      23.398718\n",
       "min       1.000000\n",
       "25%       2.000000\n",
       "50%      34.000000\n",
       "75%      40.000000\n",
       "max      53.000000\n",
       "dtype: float64"
      ]
     },
     "execution_count": 119,
     "metadata": {},
     "output_type": "execute_result"
    }
   ],
   "source": [
    "# Another method which I will like to look at is the describe method\n",
    "ser_n.describe()"
   ]
  },
  {
   "cell_type": "code",
   "execution_count": null,
   "id": "5f175aa5",
   "metadata": {},
   "outputs": [],
   "source": []
  }
 ],
 "metadata": {
  "kernelspec": {
   "display_name": "Python 3",
   "language": "python",
   "name": "python3"
  },
  "language_info": {
   "codemirror_mode": {
    "name": "ipython",
    "version": 3
   },
   "file_extension": ".py",
   "mimetype": "text/x-python",
   "name": "python",
   "nbconvert_exporter": "python",
   "pygments_lexer": "ipython3",
   "version": "3.8.8"
  }
 },
 "nbformat": 4,
 "nbformat_minor": 5
}
