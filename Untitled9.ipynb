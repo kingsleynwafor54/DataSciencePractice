{
 "cells": [
  {
   "cell_type": "code",
   "execution_count": 5,
   "id": "8c3f5b4d",
   "metadata": {},
   "outputs": [],
   "source": [
    "import seaborn as sbn\n",
    "import pandas as pd\n",
    "import numpy as np"
   ]
  },
  {
   "cell_type": "code",
   "execution_count": 13,
   "id": "5f1bb9fd",
   "metadata": {},
   "outputs": [
    {
     "name": "stdout",
     "output_type": "stream",
     "text": [
      "Collecting camelot\n",
      "  Downloading Camelot-12.06.29.tar.gz (3.5 MB)\n",
      "Collecting SQLAlchemy<0.8.0,>=0.7.7\n",
      "  Downloading SQLAlchemy-0.7.10.tar.gz (3.5 MB)\n",
      "Collecting Elixir>=0.7.1\n",
      "  Downloading Elixir-0.7.1.tar.gz (47 kB)\n",
      "Collecting sqlalchemy-migrate>=0.7.1\n",
      "  Downloading sqlalchemy_migrate-0.13.0-py2.py3-none-any.whl (109 kB)\n",
      "Requirement already satisfied: Jinja2>=2.5.5 in c:\\users\\uschip\\anaconda3\\lib\\site-packages (from camelot) (2.11.3)\n",
      "Requirement already satisfied: chardet>=1.0.1 in c:\\users\\uschip\\anaconda3\\lib\\site-packages (from camelot) (4.0.0)\n",
      "Collecting xlwt==0.7.2\n",
      "  Downloading xlwt-0.7.2.zip (131 kB)\n",
      "Collecting xlrd==0.7.1\n",
      "  Downloading xlrd-0.7.1.zip (125 kB)\n",
      "Requirement already satisfied: MarkupSafe>=0.23 in c:\\users\\uschip\\anaconda3\\lib\\site-packages (from Jinja2>=2.5.5->camelot) (1.1.1)\n",
      "Collecting pbr>=1.8\n",
      "  Downloading pbr-5.8.0-py2.py3-none-any.whl (112 kB)\n",
      "Collecting Tempita>=0.4\n",
      "  Downloading Tempita-0.5.2-py3-none-any.whl (12 kB)\n",
      "Collecting sqlparse\n",
      "  Using cached sqlparse-0.4.2-py3-none-any.whl (42 kB)\n",
      "Requirement already satisfied: six>=1.7.0 in c:\\users\\uschip\\anaconda3\\lib\\site-packages (from sqlalchemy-migrate>=0.7.1->camelot) (1.15.0)\n",
      "Collecting sqlalchemy-migrate>=0.7.1\n",
      "  Downloading sqlalchemy_migrate-0.12.0-py2.py3-none-any.whl (108 kB)\n",
      "  Downloading sqlalchemy-migrate-0.11.0.tar.gz (128 kB)\n",
      "Requirement already satisfied: decorator in c:\\users\\uschip\\anaconda3\\lib\\site-packages (from sqlalchemy-migrate>=0.7.1->camelot) (5.0.6)\n",
      "Building wheels for collected packages: camelot, xlrd, xlwt, Elixir, SQLAlchemy, sqlalchemy-migrate\n",
      "  Building wheel for camelot (setup.py): started\n",
      "  Building wheel for camelot (setup.py): finished with status 'done'\n",
      "  Created wheel for camelot: filename=Camelot-12.6.29-py3-none-any.whl size=3926563 sha256=e479918d82296c0391110fab0fb0533b35c4f002ae20466efc19070de24bb204\n",
      "  Stored in directory: c:\\users\\uschip\\appdata\\local\\pip\\cache\\wheels\\7d\\52\\35\\3757fee4aee4e87abb29522d1bc42746df2a511b28de7ac9f7\n",
      "  Building wheel for xlrd (setup.py): started\n",
      "  Building wheel for xlrd (setup.py): finished with status 'done'\n",
      "  Created wheel for xlrd: filename=xlrd-0.7.1-py3-none-any.whl size=117963 sha256=0a6efcd5107f07132877e00fad48c994fab76ccb5e0f146c511e8ec01470eb46\n",
      "  Stored in directory: c:\\users\\uschip\\appdata\\local\\pip\\cache\\wheels\\82\\5b\\79\\a6610cd31788f61b35af4028b07f825a705b048ce47d0746ad\n",
      "  Building wheel for xlwt (setup.py): started\n",
      "  Building wheel for xlwt (setup.py): finished with status 'done'\n",
      "  Created wheel for xlwt: filename=xlwt-0.7.2-py3-none-any.whl size=121649 sha256=34bfd6080365706950f79ef49086ae1e25ce2230a4e0ee94e979ac90b9847982\n",
      "  Stored in directory: c:\\users\\uschip\\appdata\\local\\pip\\cache\\wheels\\06\\60\\28\\3a91cc7f3af6b9142eec2c2d37649be68cea804967de4c5a82\n",
      "  Building wheel for Elixir (setup.py): started\n",
      "  Building wheel for Elixir (setup.py): finished with status 'done'\n",
      "  Created wheel for Elixir: filename=Elixir-0.7.1-py3-none-any.whl size=53908 sha256=a686378507ac27f221ee0e52d4212a62a742447abff9c11ea4737123ba1d91b3\n",
      "  Stored in directory: c:\\users\\uschip\\appdata\\local\\pip\\cache\\wheels\\47\\a0\\f7\\837ff7ae6303b45d7aa2cc711453c9f30aaeaf1b20261edaf7\n",
      "  Building wheel for SQLAlchemy (setup.py): started\n",
      "  Building wheel for SQLAlchemy (setup.py): still running...\n",
      "  Building wheel for SQLAlchemy (setup.py): finished with status 'done'\n",
      "  Created wheel for SQLAlchemy: filename=SQLAlchemy-0.7.10-py3-none-any.whl size=696610 sha256=3638a2c87845395d966a3df4a1ad4584be949b5445b1c4d44ab77caf44421a06\n",
      "  Stored in directory: c:\\users\\uschip\\appdata\\local\\pip\\cache\\wheels\\13\\3d\\50\\810830c7f08f9e5ea36498cdfd48a47ddba22f8cef21875ad8\n",
      "  Building wheel for sqlalchemy-migrate (setup.py): started\n",
      "  Building wheel for sqlalchemy-migrate (setup.py): finished with status 'done'\n",
      "  Created wheel for sqlalchemy-migrate: filename=sqlalchemy_migrate-0.11.0-py3-none-any.whl size=108005 sha256=21d994434e8068b10b8e81e777e48579145fdec6027fcaa814aeaf89b979048f\n",
      "  Stored in directory: c:\\users\\uschip\\appdata\\local\\pip\\cache\\wheels\\10\\18\\ed\\0ae0e144d5747891e540053405645eb71a9638b8141aa40a26\n",
      "Successfully built camelot xlrd xlwt Elixir SQLAlchemy sqlalchemy-migrate\n",
      "Installing collected packages: Tempita, sqlparse, SQLAlchemy, pbr, xlwt, xlrd, sqlalchemy-migrate, Elixir, camelot\n",
      "  Attempting uninstall: SQLAlchemy\n",
      "    Found existing installation: SQLAlchemy 1.4.7\n",
      "    Uninstalling SQLAlchemy-1.4.7:\n",
      "      Successfully uninstalled SQLAlchemy-1.4.7\n",
      "  Attempting uninstall: xlwt\n",
      "    Found existing installation: xlwt 1.3.0\n",
      "    Uninstalling xlwt-1.3.0:\n",
      "      Successfully uninstalled xlwt-1.3.0\n",
      "  Attempting uninstall: xlrd\n",
      "    Found existing installation: xlrd 2.0.1\n",
      "    Uninstalling xlrd-2.0.1:\n",
      "      Successfully uninstalled xlrd-2.0.1\n",
      "Successfully installed Elixir-0.7.1 SQLAlchemy-0.7.10 Tempita-0.5.2 camelot-12.6.29 pbr-5.8.0 sqlalchemy-migrate-0.11.0 sqlparse-0.4.2 xlrd-0.7.1 xlwt-0.7.2\n",
      "Note: you may need to restart the kernel to use updated packages.\n"
     ]
    }
   ],
   "source": [
    "pip install camelot "
   ]
  },
  {
   "cell_type": "code",
   "execution_count": 14,
   "id": "a00f6cc1",
   "metadata": {},
   "outputs": [],
   "source": [
    "import camelot as cm"
   ]
  },
  {
   "cell_type": "code",
   "execution_count": null,
   "id": "c94fee71",
   "metadata": {},
   "outputs": [],
   "source": []
  }
 ],
 "metadata": {
  "kernelspec": {
   "display_name": "Python 3",
   "language": "python",
   "name": "python3"
  },
  "language_info": {
   "codemirror_mode": {
    "name": "ipython",
    "version": 3
   },
   "file_extension": ".py",
   "mimetype": "text/x-python",
   "name": "python",
   "nbconvert_exporter": "python",
   "pygments_lexer": "ipython3",
   "version": "3.8.8"
  }
 },
 "nbformat": 4,
 "nbformat_minor": 5
}
